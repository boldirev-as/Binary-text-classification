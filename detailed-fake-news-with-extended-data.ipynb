{
 "cells": [
  {
   "cell_type": "markdown",
   "metadata": {},
   "source": [
    "## Классификация заголовоков новостей на фейковые и настоящие "
   ]
  },
  {
   "cell_type": "markdown",
   "metadata": {
    "papermill": {
     "duration": 0.030228,
     "end_time": "2020-10-22T13:18:52.872089",
     "exception": false,
     "start_time": "2020-10-22T13:18:52.841861",
     "status": "completed"
    },
    "tags": []
   },
   "source": [
    "# 0. Установка и подгрузука библиотек\n",
    "Установка библиотек, под которым запускается данный бейзлайн."
   ]
  },
  {
   "cell_type": "code",
   "execution_count": 1,
   "metadata": {
    "_cell_guid": "b1076dfc-b9ad-4769-8c92-a6c4dae69d19",
    "_uuid": "8f2839f25d086af736a60e9eeb907d3b93b6e0e5",
    "execution": {
     "iopub.execute_input": "2020-10-22T13:18:52.957659Z",
     "iopub.status.busy": "2020-10-22T13:18:52.956657Z",
     "iopub.status.idle": "2020-10-22T13:18:56.383792Z",
     "shell.execute_reply": "2020-10-22T13:18:56.384536Z"
    },
    "papermill": {
     "duration": 3.482423,
     "end_time": "2020-10-22T13:18:56.384824",
     "exception": false,
     "start_time": "2020-10-22T13:18:52.902401",
     "status": "completed"
    },
    "tags": []
   },
   "outputs": [],
   "source": [
    "import numpy as np\n",
    "import pandas as pd\n",
    "pd.set_option('max_colwidth', 200)\n",
    "pd.set_option('display.width', 100)\n",
    "\n",
    "import torch\n",
    "import torch.nn as nn\n",
    "\n",
    "import matplotlib.pyplot as plt\n",
    "import seaborn as sns\n",
    "\n",
    "from sklearn.model_selection import train_test_split\n",
    "\n",
    "from sklearn.metrics import f1_score, confusion_matrix\n",
    "from random import sample\n",
    "import random\n",
    "\n",
    "import tqdm\n",
    "from copy import deepcopy\n",
    "import re\n",
    "\n",
    "import os\n",
    "os.environ['TF_CPP_MIN_LOG_LEVEL'] = '3'\n",
    "\n",
    "import logging\n",
    "logger = logging.getLogger()\n",
    "logging.disable(logging.ERROR)\n",
    "\n",
    "from simple_elmo import ElmoModel\n",
    "\n",
    "import tensorflow as tf\n",
    "tf.get_logger().setLevel('ERROR')"
   ]
  },
  {
   "cell_type": "markdown",
   "metadata": {},
   "source": [
    "# 1. Загрузим датасет"
   ]
  },
  {
   "cell_type": "code",
   "execution_count": 2,
   "metadata": {
    "execution": {
     "iopub.execute_input": "2020-10-22T13:18:59.255532Z",
     "iopub.status.busy": "2020-10-22T13:18:59.253093Z",
     "iopub.status.idle": "2020-10-22T13:18:59.287673Z",
     "shell.execute_reply": "2020-10-22T13:18:59.286827Z"
    },
    "papermill": {
     "duration": 0.075615,
     "end_time": "2020-10-22T13:18:59.287823",
     "exception": false,
     "start_time": "2020-10-22T13:18:59.212208",
     "status": "completed"
    },
    "scrolled": true,
    "tags": []
   },
   "outputs": [
    {
     "data": {
      "text/html": [
       "<div>\n",
       "<style scoped>\n",
       "    .dataframe tbody tr th:only-of-type {\n",
       "        vertical-align: middle;\n",
       "    }\n",
       "\n",
       "    .dataframe tbody tr th {\n",
       "        vertical-align: top;\n",
       "    }\n",
       "\n",
       "    .dataframe thead th {\n",
       "        text-align: right;\n",
       "    }\n",
       "</style>\n",
       "<table border=\"1\" class=\"dataframe\">\n",
       "  <thead>\n",
       "    <tr style=\"text-align: right;\">\n",
       "      <th></th>\n",
       "      <th>title</th>\n",
       "      <th>is_fake</th>\n",
       "    </tr>\n",
       "  </thead>\n",
       "  <tbody>\n",
       "    <tr>\n",
       "      <th>0</th>\n",
       "      <td>Москвичу Владимиру Клутину пришёл счёт за вмешательство в американские выборы</td>\n",
       "      <td>1</td>\n",
       "    </tr>\n",
       "    <tr>\n",
       "      <th>1</th>\n",
       "      <td>Агент Кокорина назвал езду по встречке житейской историей</td>\n",
       "      <td>0</td>\n",
       "    </tr>\n",
       "    <tr>\n",
       "      <th>2</th>\n",
       "      <td>Госдума рассмотрит возможность введения секретных статей Уголовного кодекса</td>\n",
       "      <td>1</td>\n",
       "    </tr>\n",
       "    <tr>\n",
       "      <th>3</th>\n",
       "      <td>ФАС заблокировала поставку скоростных трамваев для Москвы</td>\n",
       "      <td>0</td>\n",
       "    </tr>\n",
       "    <tr>\n",
       "      <th>4</th>\n",
       "      <td>Против Навального завели дело о недоносительстве на Волкова</td>\n",
       "      <td>1</td>\n",
       "    </tr>\n",
       "    <tr>\n",
       "      <th>5</th>\n",
       "      <td>Российским студентам запретят учиться за рубежом</td>\n",
       "      <td>1</td>\n",
       "    </tr>\n",
       "    <tr>\n",
       "      <th>6</th>\n",
       "      <td>Путин пишет книгу об истории Украины</td>\n",
       "      <td>1</td>\n",
       "    </tr>\n",
       "    <tr>\n",
       "      <th>7</th>\n",
       "      <td>Россияне обхитрили рост цен</td>\n",
       "      <td>0</td>\n",
       "    </tr>\n",
       "    <tr>\n",
       "      <th>8</th>\n",
       "      <td>Звезда «Ворониных» раскрыл подробности о своем состоянии</td>\n",
       "      <td>0</td>\n",
       "    </tr>\n",
       "    <tr>\n",
       "      <th>9</th>\n",
       "      <td>Microsoft объявила дату выхода очков дополненной реальности Hololens</td>\n",
       "      <td>0</td>\n",
       "    </tr>\n",
       "  </tbody>\n",
       "</table>\n",
       "</div>"
      ],
      "text/plain": [
       "                                                                           title  is_fake\n",
       "0  Москвичу Владимиру Клутину пришёл счёт за вмешательство в американские выборы        1\n",
       "1                      Агент Кокорина назвал езду по встречке житейской историей        0\n",
       "2    Госдума рассмотрит возможность введения секретных статей Уголовного кодекса        1\n",
       "3                      ФАС заблокировала поставку скоростных трамваев для Москвы        0\n",
       "4                    Против Навального завели дело о недоносительстве на Волкова        1\n",
       "5                               Российским студентам запретят учиться за рубежом        1\n",
       "6                                           Путин пишет книгу об истории Украины        1\n",
       "7                                                    Россияне обхитрили рост цен        0\n",
       "8                       Звезда «Ворониных» раскрыл подробности о своем состоянии        0\n",
       "9           Microsoft объявила дату выхода очков дополненной реальности Hololens        0"
      ]
     },
     "execution_count": 2,
     "metadata": {},
     "output_type": "execute_result"
    }
   ],
   "source": [
    "data = pd.read_csv(\"dataset/train.tsv\", sep=\"\\t\")\n",
    "data.head(10)"
   ]
  },
  {
   "cell_type": "code",
   "execution_count": 11,
   "metadata": {},
   "outputs": [
    {
     "data": {
      "text/html": [
       "<div>\n",
       "<style scoped>\n",
       "    .dataframe tbody tr th:only-of-type {\n",
       "        vertical-align: middle;\n",
       "    }\n",
       "\n",
       "    .dataframe tbody tr th {\n",
       "        vertical-align: top;\n",
       "    }\n",
       "\n",
       "    .dataframe thead th {\n",
       "        text-align: right;\n",
       "    }\n",
       "</style>\n",
       "<table border=\"1\" class=\"dataframe\">\n",
       "  <thead>\n",
       "    <tr style=\"text-align: right;\">\n",
       "      <th></th>\n",
       "      <th>title</th>\n",
       "      <th>is_fake</th>\n",
       "    </tr>\n",
       "  </thead>\n",
       "  <tbody>\n",
       "    <tr>\n",
       "      <th>0</th>\n",
       "      <td>Роспотребнадзор призвал мужчин не дарить подарки 8 марта</td>\n",
       "      <td>1</td>\n",
       "    </tr>\n",
       "    <tr>\n",
       "      <th>1</th>\n",
       "      <td>Мэнни Пакьяо набрал первое очко в Филиппинской баскетбольной ассоциации</td>\n",
       "      <td>0</td>\n",
       "    </tr>\n",
       "    <tr>\n",
       "      <th>2</th>\n",
       "      <td>Два вида игуан Фиджи оказались тремя</td>\n",
       "      <td>1</td>\n",
       "    </tr>\n",
       "    <tr>\n",
       "      <th>3</th>\n",
       "      <td>2022 год в России объявлен годом ненависти к врагам</td>\n",
       "      <td>0</td>\n",
       "    </tr>\n",
       "    <tr>\n",
       "      <th>4</th>\n",
       "      <td>Американская компания поставит ВМС Ирака девять сторожевых катеров</td>\n",
       "      <td>1</td>\n",
       "    </tr>\n",
       "    <tr>\n",
       "      <th>5</th>\n",
       "      <td>В День Победы центр Москвы закроют для гомосексуалистов</td>\n",
       "      <td>1</td>\n",
       "    </tr>\n",
       "    <tr>\n",
       "      <th>6</th>\n",
       "      <td>ООН признала «сталинскую» конституцию самой демократичной в истории</td>\n",
       "      <td>1</td>\n",
       "    </tr>\n",
       "    <tr>\n",
       "      <th>7</th>\n",
       "      <td>За пятого ребёнка многодетные родители получат автомобиль Tesla</td>\n",
       "      <td>0</td>\n",
       "    </tr>\n",
       "    <tr>\n",
       "      <th>8</th>\n",
       "      <td>Путин и Курц подписали меморандум о мирном вхождении Австрии в состав России</td>\n",
       "      <td>0</td>\n",
       "    </tr>\n",
       "    <tr>\n",
       "      <th>9</th>\n",
       "      <td>Билли Боб Торнтон снимет роуд-муви</td>\n",
       "      <td>0</td>\n",
       "    </tr>\n",
       "  </tbody>\n",
       "</table>\n",
       "</div>"
      ],
      "text/plain": [
       "                                                                          title  is_fake\n",
       "0                      Роспотребнадзор призвал мужчин не дарить подарки 8 марта        1\n",
       "1       Мэнни Пакьяо набрал первое очко в Филиппинской баскетбольной ассоциации        0\n",
       "2                                          Два вида игуан Фиджи оказались тремя        1\n",
       "3                           2022 год в России объявлен годом ненависти к врагам        0\n",
       "4            Американская компания поставит ВМС Ирака девять сторожевых катеров        1\n",
       "5                       В День Победы центр Москвы закроют для гомосексуалистов        1\n",
       "6           ООН признала «сталинскую» конституцию самой демократичной в истории        1\n",
       "7               За пятого ребёнка многодетные родители получат автомобиль Tesla        0\n",
       "8  Путин и Курц подписали меморандум о мирном вхождении Австрии в состав России        0\n",
       "9                                            Билли Боб Торнтон снимет роуд-муви        0"
      ]
     },
     "execution_count": 11,
     "metadata": {},
     "output_type": "execute_result"
    }
   ],
   "source": [
    "submission_data = pd.read_csv(\"solution.csv\", sep=\",\")\n",
    "submission_data.head(10)"
   ]
  },
  {
   "cell_type": "markdown",
   "metadata": {
    "papermill": {
     "duration": 0.038064,
     "end_time": "2020-10-22T13:18:59.364143",
     "exception": false,
     "start_time": "2020-10-22T13:18:59.326079",
     "status": "completed"
    },
    "tags": []
   },
   "source": [
    "* Датасет загружен, проанализируем его содержимое"
   ]
  },
  {
   "cell_type": "markdown",
   "metadata": {
    "papermill": {
     "duration": 0.044334,
     "end_time": "2020-10-22T13:19:00.503911",
     "exception": false,
     "start_time": "2020-10-22T13:19:00.459577",
     "status": "completed"
    },
    "tags": []
   },
   "source": [
    "# 2. Препроцессинг заголовков новостей\n",
    "1. Токенизация — разобьём каждый заголовок статьи на слова.\n",
    "2. Нормализация — приведём слова к «рафинированному» виду (единый регистр слов, отсутствие знаков пунктуации, расшифрованные сокращения, словесное написание чисел и т.д.).\n",
    "3. Стеммизация — приведём слова к его корню путем устранения придатков (суффикса, приставки, окончания).\n",
    "4. Лемматизация — приведём слова к начальной форме.\n",
    "5. Чистка — удаленим стоп-слова, которые не несут смысловой нагрузки (артикли, междометья).\n",
    "\n",
    "* Для этого будем использовать библиотеку pymorphy2"
   ]
  },
  {
   "cell_type": "code",
   "execution_count": 13,
   "metadata": {
    "execution": {
     "iopub.execute_input": "2020-10-22T13:24:23.723873Z",
     "iopub.status.busy": "2020-10-22T13:24:23.713305Z",
     "iopub.status.idle": "2020-10-22T13:24:39.324303Z",
     "shell.execute_reply": "2020-10-22T13:24:39.323490Z"
    },
    "papermill": {
     "duration": 15.680556,
     "end_time": "2020-10-22T13:24:39.324448",
     "exception": false,
     "start_time": "2020-10-22T13:24:23.643892",
     "status": "completed"
    },
    "tags": []
   },
   "outputs": [
    {
     "data": {
      "application/vnd.jupyter.widget-view+json": {
       "model_id": "86b71b96f4ef4f649294f6ae48834013",
       "version_major": 2,
       "version_minor": 0
      },
      "text/plain": [
       "  0%|          | 0/5758 [00:00<?, ?it/s]"
      ]
     },
     "metadata": {},
     "output_type": "display_data"
    },
    {
     "name": "stdout",
     "output_type": "stream",
     "text": [
      "суперкомпьютер предсказать победа лукашенко российский выборы\n",
      "аутсайдер чемпионат кхл уволить тренер\n",
      "боб дилан написать шесть книга\n",
      "соперник россия чемпионат мир хоккей стать швейцария чехия казахстан\n",
      "белорусский школа начать изучать чучхе\n",
      "член одкб выбрать сторона киргизотаджикский конфликт метод жеребьёвка\n",
      "техосмотр отменить только вакцинировать автовладелец\n",
      "сергей ковалёв показать болельщик соперник средний палец\n",
      "эрдоган встреча путин назвать крым издревле русский всенародный здравница\n",
      "майк пенс выступить съезд республиканский партия осуждение культ личность трамп\n",
      "DELETED 8337 words\n"
     ]
    }
   ],
   "source": [
    "import pymorphy2\n",
    "count = 0\n",
    "all_words = []\n",
    "all_pre_words = []\n",
    "\n",
    "\n",
    "def sentence_editor(title):\n",
    "    global count\n",
    "    txt = re.sub(pattern, \"\", title)\n",
    "    txt = txt.strip(\" \").lower()\n",
    "    txt = txt.split() # Tokenizing\n",
    "    all_pre_words.extend(txt)\n",
    "    new_txt = []\n",
    "    for word in txt:\n",
    "        word = morph.parse(word)[0]\n",
    "        if word.tag.POS not in [\"PRCL\", \"INTJ\", \"PREP\", \"CONJ\"]:\n",
    "            new_txt.append(word.normal_form) # Lemmatizing\n",
    "        else:\n",
    "            count += 1\n",
    "    all_words.extend(new_txt)\n",
    "    txt = \" \".join(new_txt)\n",
    "    return txt\n",
    "\n",
    "\n",
    "morph = pymorphy2.MorphAnalyzer()\n",
    "new_title = []\n",
    "pattern = \"[^а-яА-Яa-zA-Z ё]\"\n",
    "\n",
    "for txt in tqdm.notebook.tqdm(data.title):\n",
    "    new_title.append(sentence_editor(txt))\n",
    "\n",
    "start = random.randint(0, len(new_title))\n",
    "print(*new_title[start:start + 10], sep=\"\\n\")\n",
    "print(\"DELETED\", count, \"words\")"
   ]
  },
  {
   "cell_type": "code",
   "execution_count": 14,
   "metadata": {},
   "outputs": [
    {
     "data": {
      "application/vnd.jupyter.widget-view+json": {
       "model_id": "ca0617427d864ef18466b0d3c94c53dd",
       "version_major": 2,
       "version_minor": 0
      },
      "text/plain": [
       "  0%|          | 0/5758 [00:00<?, ?it/s]"
      ]
     },
     "metadata": {},
     "output_type": "display_data"
    },
    {
     "name": "stdout",
     "output_type": "stream",
     "text": [
      "израиль показать беспилотник россия\n",
      "госдума первый чтение убрать библия заповедь украсть\n",
      "обзор рынок повышение учётный ставка обвалить европейский индекс\n",
      "счётный палата подать тендерный заявка аудит магатэ озхий интерпол\n",
      "франческо тотти выбыть строй два месяц\n",
      "мусор мастерская художник бэкон продать миллион фунт\n",
      "анонсировать гонка forza motorsport\n",
      "создатель обезьяний остров анонсировать новый игра\n",
      "россиянин получить бесплатный высокий образование обязать пересдать егэ\n",
      "оон предоставить талибан рекомендовать стандарт камень свершение гуманный правосудие\n",
      "DELETED 16674 words\n"
     ]
    }
   ],
   "source": [
    "new_submission_title = []\n",
    "pattern = \"[^а-яА-Яa-zA-Z ё]\"\n",
    "\n",
    "for txt in tqdm.notebook.tqdm(submission_data.title):\n",
    "    new_submission_title.append(sentence_editor(txt))\n",
    "\n",
    "start = random.randint(0, len(new_submission_title))\n",
    "print(*new_submission_title[start:start + 10], sep=\"\\n\")\n",
    "print(\"DELETED\", count, \"words\")"
   ]
  },
  {
   "cell_type": "markdown",
   "metadata": {
    "papermill": {
     "duration": 0.037522,
     "end_time": "2020-10-22T13:18:59.440141",
     "exception": false,
     "start_time": "2020-10-22T13:18:59.402619",
     "status": "completed"
    },
    "tags": []
   },
   "source": [
    "# 3. Визуализация данных\n",
    "\n",
    "\n",
    "### Есть ли дисбаланс классов?"
   ]
  },
  {
   "cell_type": "code",
   "execution_count": 15,
   "metadata": {
    "execution": {
     "iopub.execute_input": "2020-10-22T13:18:59.520227Z",
     "iopub.status.busy": "2020-10-22T13:18:59.519151Z",
     "iopub.status.idle": "2020-10-22T13:18:59.686725Z",
     "shell.execute_reply": "2020-10-22T13:18:59.685946Z"
    },
    "papermill": {
     "duration": 0.209923,
     "end_time": "2020-10-22T13:18:59.686858",
     "exception": false,
     "start_time": "2020-10-22T13:18:59.476935",
     "status": "completed"
    },
    "tags": []
   },
   "outputs": [
    {
     "data": {
      "text/plain": [
       "<AxesSubplot:xlabel='is_fake', ylabel='count'>"
      ]
     },
     "execution_count": 15,
     "metadata": {},
     "output_type": "execute_result"
    },
    {
     "data": {
      "image/png": "[encoded data removed]",
      "text/plain": [
       "<Figure size 432x288 with 1 Axes>"
      ]
     },
     "metadata": {
      "needs_background": "light"
     },
     "output_type": "display_data"
    }
   ],
   "source": [
    "sns.countplot(x=data[\"is_fake\"])"
   ]
  },
  {
   "cell_type": "markdown",
   "metadata": {
    "papermill": {
     "duration": 0.036091,
     "end_time": "2020-10-22T13:18:59.759379",
     "exception": false,
     "start_time": "2020-10-22T13:18:59.723288",
     "status": "completed"
    },
    "tags": []
   },
   "source": [
    "* Колличество фейковых и реальных новостей полностью совпадает, что не может не радовать"
   ]
  },
  {
   "cell_type": "markdown",
   "metadata": {},
   "source": [
    "### Топ самых частых слов до удаления стоп-слов"
   ]
  },
  {
   "cell_type": "code",
   "execution_count": 16,
   "metadata": {},
   "outputs": [],
   "source": [
    "NUMBER = 30\n",
    "count_words = {}\n",
    "for word in all_pre_words:\n",
    "    if word in count_words:\n",
    "        count_words[word] += 1\n",
    "    else:\n",
    "        count_words[word] = 1\n",
    "\n",
    "most_frequency_words = {\"word\": sorted(count_words, key=lambda x: -count_words[x])[:NUMBER], \n",
    "                        \"number\": []}\n",
    "for word in most_frequency_words[\"word\"]:\n",
    "    most_frequency_words[\"number\"].append(count_words[word])\n"
   ]
  },
  {
   "cell_type": "code",
   "execution_count": 17,
   "metadata": {},
   "outputs": [
    {
     "data": {
      "image/png": "[encoded data removed]",
      "text/plain": [
       "<Figure size 1008x576 with 1 Axes>"
      ]
     },
     "metadata": {
      "needs_background": "light"
     },
     "output_type": "display_data"
    }
   ],
   "source": [
    "plt.figure(figsize=(14,8))\n",
    "plt.barh(most_frequency_words[\"word\"][::-1], most_frequency_words[\"number\"][::-1])\n",
    "plt.ylabel(\"Слова\")\n",
    "plt.xlabel(\"Колличество\")\n",
    "plt.title(\"Топ %d слов в заголовках перед удалением стоп слов\" % (NUMBER))\n",
    "plt.grid(True)"
   ]
  },
  {
   "cell_type": "code",
   "execution_count": 18,
   "metadata": {},
   "outputs": [],
   "source": [
    "NUMBER = 30\n",
    "count_words = {}\n",
    "for word in all_words:\n",
    "    if word in count_words:\n",
    "        count_words[word] += 1\n",
    "    else:\n",
    "        count_words[word] = 1\n",
    "\n",
    "most_frequency_words = {\"word\": sorted(count_words, key=lambda x: -count_words[x])[:NUMBER], \n",
    "                        \"number\": []}\n",
    "for word in most_frequency_words[\"word\"]:\n",
    "    most_frequency_words[\"number\"].append(count_words[word])\n"
   ]
  },
  {
   "cell_type": "code",
   "execution_count": 19,
   "metadata": {},
   "outputs": [
    {
     "data": {
      "image/png": "[encoded data removed]",
      "text/plain": [
       "<Figure size 1008x576 with 1 Axes>"
      ]
     },
     "metadata": {
      "needs_background": "light"
     },
     "output_type": "display_data"
    }
   ],
   "source": [
    "plt.figure(figsize=(14,8))\n",
    "plt.barh(most_frequency_words[\"word\"][::-1], most_frequency_words[\"number\"][::-1])\n",
    "plt.ylabel(\"Слова\")\n",
    "plt.xlabel(\"Колличество\")\n",
    "plt.title(\"Топ %d слов в заголовках после удаления стоп слов\" % (NUMBER))\n",
    "plt.grid(True)"
   ]
  },
  {
   "cell_type": "markdown",
   "metadata": {},
   "source": [
    "# 4. Переведём каждый обработанный заголовок в векторное представление\n",
    "* с помощью контекстуализированной модели от RusVectōrēs натренерованной на около 10 миллиардов слов\n",
    "* будем создавать вектор для каждого слова, а в качестве вектора предложения будем брать среднее значение между всеми словами в нём"
   ]
  },
  {
   "cell_type": "code",
   "execution_count": 20,
   "metadata": {},
   "outputs": [
    {
     "name": "stderr",
     "output_type": "stream",
     "text": [
      "c:\\users\\vush6\\pycharmprojects\\fake or real title of news\\venv\\lib\\site-packages\\simple_elmo\\model.py:529: UserWarning: `tf.nn.rnn_cell.LSTMCell` is deprecated and will be removed in a future version. This class is equivalent as `tf.keras.layers.LSTMCell`, and will be replaced by that in Tensorflow 2.0.\n",
      "  lstm_cell = tf.compat.v1.nn.rnn_cell.LSTMCell(\n",
      "c:\\users\\vush6\\pycharmprojects\\fake or real title of news\\venv\\lib\\site-packages\\keras\\layers\\legacy_rnn\\rnn_cell_impl.py:984: UserWarning: `layer.add_variable` is deprecated and will be removed in a future version. Please use `layer.add_weight` method instead.\n",
      "  self._kernel = self.add_variable(\n",
      "c:\\users\\vush6\\pycharmprojects\\fake or real title of news\\venv\\lib\\site-packages\\keras\\layers\\legacy_rnn\\rnn_cell_impl.py:993: UserWarning: `layer.add_variable` is deprecated and will be removed in a future version. Please use `layer.add_weight` method instead.\n",
      "  self._bias = self.add_variable(\n",
      "c:\\users\\vush6\\pycharmprojects\\fake or real title of news\\venv\\lib\\site-packages\\keras\\layers\\legacy_rnn\\rnn_cell_impl.py:1009: UserWarning: `layer.add_variable` is deprecated and will be removed in a future version. Please use `layer.add_weight` method instead.\n",
      "  self._proj_kernel = self.add_variable(\n"
     ]
    },
    {
     "data": {
      "text/plain": [
       "'The model is now loaded.'"
      ]
     },
     "execution_count": 20,
     "metadata": {},
     "output_type": "execute_result"
    }
   ],
   "source": [
    "elmo_model = ElmoModel()\n",
    "elmo_model.load(\"sentence_embender\")"
   ]
  },
  {
   "cell_type": "code",
   "execution_count": 10,
   "metadata": {},
   "outputs": [
    {
     "data": {
      "text/plain": [
       "'москвич владимир клутина прийти счёт вмешательство американский выборы'"
      ]
     },
     "execution_count": 10,
     "metadata": {},
     "output_type": "execute_result"
    }
   ],
   "source": [
    "new_title[0]"
   ]
  },
  {
   "cell_type": "code",
   "execution_count": 22,
   "metadata": {},
   "outputs": [
    {
     "data": {
      "application/vnd.jupyter.widget-view+json": {
       "model_id": "6eaf5a4a419647c899652634a263e58c",
       "version_major": 2,
       "version_minor": 0
      },
      "text/plain": [
       "  0%|          | 0/180 [00:00<?, ?it/s]"
      ]
     },
     "metadata": {},
     "output_type": "display_data"
    },
    {
     "data": {
      "text/plain": [
       "(5758, 1024)"
      ]
     },
     "execution_count": 22,
     "metadata": {},
     "output_type": "execute_result"
    }
   ],
   "source": [
    "title_matrix = np.array([[0] * 1024], dtype=float)\n",
    "batch_size = 32\n",
    "for i in tqdm.notebook.tqdm(range(0, len(new_title), batch_size)):\n",
    "    title_matrix = np.append(title_matrix, \n",
    "                             elmo_model.get_elmo_vector_average([x.split() for x in new_title[i:i + batch_size]]),\n",
    "                             axis=0)\n",
    "\n",
    "title_matrix = np.delete(title_matrix, 0, axis=0)\n",
    "title_matrix.shape"
   ]
  },
  {
   "cell_type": "code",
   "execution_count": 23,
   "metadata": {},
   "outputs": [
    {
     "data": {
      "application/vnd.jupyter.widget-view+json": {
       "model_id": "a867d4d34ac341e3b2933e47a592db7c",
       "version_major": 2,
       "version_minor": 0
      },
      "text/plain": [
       "  0%|          | 0/180 [00:00<?, ?it/s]"
      ]
     },
     "metadata": {},
     "output_type": "display_data"
    },
    {
     "data": {
      "text/plain": [
       "(5758, 1024)"
      ]
     },
     "execution_count": 23,
     "metadata": {},
     "output_type": "execute_result"
    }
   ],
   "source": [
    "submission_title_matrix = np.array([[0] * 1024], dtype=float)\n",
    "batch_size = 32\n",
    "for i in tqdm.notebook.tqdm(range(0, len(new_submission_title), batch_size)):\n",
    "    submission_title_matrix = np.append(submission_title_matrix, \n",
    "                             elmo_model.get_elmo_vector_average(\n",
    "                                 [x.split() for x in new_submission_title[i:i + batch_size]]),\n",
    "                             axis=0)\n",
    "\n",
    "submission_title_matrix = np.delete(submission_title_matrix, 0, axis=0)\n",
    "submission_title_matrix.shape"
   ]
  },
  {
   "cell_type": "code",
   "execution_count": 24,
   "metadata": {
    "execution": {
     "iopub.execute_input": "2020-10-22T13:25:07.162902Z",
     "iopub.status.busy": "2020-10-22T13:25:07.161827Z",
     "iopub.status.idle": "2020-10-22T13:25:07.168882Z",
     "shell.execute_reply": "2020-10-22T13:25:07.169617Z"
    },
    "papermill": {
     "duration": 0.087527,
     "end_time": "2020-10-22T13:25:07.169863",
     "exception": false,
     "start_time": "2020-10-22T13:25:07.082336",
     "status": "completed"
    },
    "tags": []
   },
   "outputs": [
    {
     "name": "stdout",
     "output_type": "stream",
     "text": [
      "(5758, 2)\n",
      "(5758, 1024)\n",
      "(5758, 2)\n",
      "(5758, 1024)\n"
     ]
    }
   ],
   "source": [
    "print(data.shape)\n",
    "print(title_matrix.shape)\n",
    "\n",
    "print(submission_data.shape)\n",
    "print(submission_title_matrix.shape)"
   ]
  },
  {
   "cell_type": "markdown",
   "metadata": {},
   "source": [
    "# 5. Разделим датасет на обучающую, валидационную и тестовую подвыборки"
   ]
  },
  {
   "cell_type": "code",
   "execution_count": 36,
   "metadata": {
    "execution": {
     "iopub.execute_input": "2020-10-22T13:25:07.293223Z",
     "iopub.status.busy": "2020-10-22T13:25:07.292330Z",
     "iopub.status.idle": "2020-10-22T13:25:09.288942Z",
     "shell.execute_reply": "2020-10-22T13:25:09.288112Z"
    },
    "papermill": {
     "duration": 2.062523,
     "end_time": "2020-10-22T13:25:09.289101",
     "exception": false,
     "start_time": "2020-10-22T13:25:07.226578",
     "status": "completed"
    },
    "tags": []
   },
   "outputs": [],
   "source": [
    "x = np.concatenate((np.array(data.drop(\"is_fake\", axis=1)), title_matrix), axis=1)\n",
    "y = np.array([np.array(data[data.title == title[0]].is_fake)[0] for title in x])"
   ]
  },
  {
   "cell_type": "code",
   "execution_count": 37,
   "metadata": {},
   "outputs": [],
   "source": [
    "submission_x = np.concatenate((np.array(submission_data.drop(\"is_fake\", axis=1)), submission_title_matrix), axis=1)\n",
    "submission_y = np.array([np.array(submission_data[submission_data.title == title[0]].is_fake)[0] \n",
    "                         for title in submission_x])"
   ]
  },
  {
   "cell_type": "code",
   "execution_count": 38,
   "metadata": {},
   "outputs": [
    {
     "data": {
      "text/plain": [
       "array([['Москвичу Владимиру Клутину пришёл счёт за вмешательство в американские выборы',\n",
       "        -0.026137593794597208, -0.03709144557447718, ...,\n",
       "        0.019916739216694315, -0.007809336559148129,\n",
       "        -0.07590965777116687],\n",
       "       ['Агент Кокорина назвал езду по встречке житейской историей',\n",
       "        0.0045856463767328754, 0.012149634418496334, ...,\n",
       "        0.04233165955172, 0.1038698998738525, -0.059589282419974195],\n",
       "       ['Госдума рассмотрит возможность введения секретных статей Уголовного кодекса',\n",
       "        0.016818846771092983, -0.08118769593812755, ...,\n",
       "        -0.0031721681378487033, 0.000560379545336687,\n",
       "        -0.018380930701067475],\n",
       "       ...,\n",
       "       ['«Мне стыдно перед дедом»: новый канцлер ФРГ обратился с первой речью к Бундестагу',\n",
       "        -0.029480071644749972, -0.04626696189487515, ...,\n",
       "        0.008875949963536522, 0.015297313644998036,\n",
       "        -0.026672368018459965],\n",
       "       ['Туркмения в декабре начнет поставки газа в Китай',\n",
       "        -0.020441723371993712, -0.00859203528694557, ...,\n",
       "        0.007692824775513004, -0.03756802822077244, -0.05194766314884742],\n",
       "       ['Бывший тренер Локомотива возглавил нальчикский Спартак',\n",
       "        -0.023272885309655704, 0.008665957894524304, ...,\n",
       "        0.017197930884526685, 0.025318200061893077, -0.08065423996282528]],\n",
       "      dtype=object)"
      ]
     },
     "execution_count": 38,
     "metadata": {},
     "output_type": "execute_result"
    }
   ],
   "source": [
    "x"
   ]
  },
  {
   "cell_type": "code",
   "execution_count": 42,
   "metadata": {
    "execution": {
     "iopub.execute_input": "2020-10-22T13:25:09.485680Z",
     "iopub.status.busy": "2020-10-22T13:25:09.484491Z",
     "iopub.status.idle": "2020-10-22T13:25:09.489504Z",
     "shell.execute_reply": "2020-10-22T13:25:09.490606Z"
    },
    "papermill": {
     "duration": 0.059416,
     "end_time": "2020-10-22T13:25:09.490885",
     "exception": false,
     "start_time": "2020-10-22T13:25:09.431469",
     "status": "completed"
    },
    "tags": []
   },
   "outputs": [
    {
     "name": "stdout",
     "output_type": "stream",
     "text": [
      "(5758, 1025)\n",
      "(5758,)\n"
     ]
    }
   ],
   "source": [
    "print(x.shape)\n",
    "print(y.shape)"
   ]
  },
  {
   "cell_type": "code",
   "execution_count": 43,
   "metadata": {
    "execution": {
     "iopub.execute_input": "2020-10-22T13:25:09.596710Z",
     "iopub.status.busy": "2020-10-22T13:25:09.595872Z",
     "iopub.status.idle": "2020-10-22T13:25:11.184121Z",
     "shell.execute_reply": "2020-10-22T13:25:11.182844Z"
    },
    "papermill": {
     "duration": 1.647102,
     "end_time": "2020-10-22T13:25:11.184369",
     "exception": false,
     "start_time": "2020-10-22T13:25:09.537267",
     "status": "completed"
    },
    "tags": []
   },
   "outputs": [],
   "source": [
    "from sklearn.model_selection import train_test_split\n",
    "\n",
    "# Train Test Split\n",
    "X_train, X_test, Y_train, Y_test = train_test_split(x, np.array(y), test_size=0.15, random_state=1, shuffle=True)\n",
    "X_train, X_val, Y_train, Y_val = train_test_split(X_train, Y_train, test_size=0.15, random_state=1, shuffle=True)"
   ]
  },
  {
   "cell_type": "code",
   "execution_count": 44,
   "metadata": {},
   "outputs": [
    {
     "name": "stdout",
     "output_type": "stream",
     "text": [
      "(9917, 1025)\n",
      "(9917,)\n"
     ]
    }
   ],
   "source": [
    "X_train = np.append(X_train, submission_x, axis=0)\n",
    "Y_train = np.append(Y_train, submission_y, axis=0)\n",
    "print(X_train.shape)\n",
    "print(Y_train.shape)"
   ]
  },
  {
   "cell_type": "code",
   "execution_count": 45,
   "metadata": {},
   "outputs": [],
   "source": [
    "train_title = [x[0] for x in X_train]\n",
    "test_title = [x[0] for x in X_test]\n",
    "val_title = [x[0] for x in X_val]\n",
    "\n",
    "X_train = np.array([x[1:] for x in X_train], dtype=np.float64)\n",
    "X_test = np.array([x[1:] for x in X_test], dtype=np.float64)\n",
    "X_val = np.array([x[1:] for x in X_val], dtype=np.float64)"
   ]
  },
  {
   "cell_type": "code",
   "execution_count": 46,
   "metadata": {},
   "outputs": [
    {
     "name": "stdout",
     "output_type": "stream",
     "text": [
      "(9917, 1024)\n",
      "(864, 1024)\n",
      "(735, 1024)\n",
      "(9917,)\n",
      "(864,)\n",
      "(735,)\n"
     ]
    }
   ],
   "source": [
    "print(X_train.shape)\n",
    "print(X_test.shape)\n",
    "print(X_val.shape)\n",
    "print(Y_train.shape)\n",
    "print(Y_test.shape)\n",
    "print(Y_val.shape)"
   ]
  },
  {
   "cell_type": "markdown",
   "metadata": {
    "papermill": {
     "duration": 0.045765,
     "end_time": "2020-10-22T13:25:11.277268",
     "exception": false,
     "start_time": "2020-10-22T13:25:11.231503",
     "status": "completed"
    },
    "tags": []
   },
   "source": [
    "# 6. Здесь определяем саму линейную модель"
   ]
  },
  {
   "cell_type": "code",
   "execution_count": 47,
   "metadata": {
    "execution": {
     "iopub.execute_input": "2020-10-22T13:25:11.384792Z",
     "iopub.status.busy": "2020-10-22T13:25:11.381658Z",
     "iopub.status.idle": "2020-10-22T13:25:11.537188Z",
     "shell.execute_reply": "2020-10-22T13:25:11.536506Z"
    },
    "papermill": {
     "duration": 0.215291,
     "end_time": "2020-10-22T13:25:11.537349",
     "exception": false,
     "start_time": "2020-10-22T13:25:11.322058",
     "status": "completed"
    },
    "tags": []
   },
   "outputs": [],
   "source": [
    "class ANN(nn.Module):\n",
    "    \n",
    "    def __init__(self):\n",
    "        \n",
    "        super(ANN, self).__init__()\n",
    "        \n",
    "        self.linear1 = nn.Linear(1024, 800)\n",
    "        self.relu1 = nn.ReLU6()\n",
    "        \n",
    "        self.linear2 = nn.Linear(800, 600)\n",
    "        self.relu2 = nn.ReLU6()\n",
    "        \n",
    "        self.linear3 = nn.Linear(600, 500)\n",
    "        self.relu3 = nn.ReLU6()\n",
    "        \n",
    "        self.linear4 = nn.Linear(500, 300)\n",
    "        self.relu4 = nn.ReLU6()\n",
    "        \n",
    "        self.linear5 = nn.Linear(300, 100)\n",
    "        self.relu5 = nn.ReLU6()\n",
    "        \n",
    "        self.linear6 = nn.Linear(100, 20)\n",
    "        self.relu6 = nn.ReLU6()\n",
    "    \n",
    "        self.linear7 = nn.Linear(20, 2)\n",
    "        \n",
    "    \n",
    "    def forward(self, x):\n",
    "        \n",
    "        out = self.linear1(x)\n",
    "        out = self.relu1(out)\n",
    "        \n",
    "        out = self.linear2(out) \n",
    "        out = self.relu2(out)\n",
    "        \n",
    "        out = self.linear3(out)\n",
    "        out = self.relu3(out)\n",
    "        \n",
    "        out = self.linear4(out)\n",
    "        out = self.relu4(out)\n",
    "        \n",
    "        out = self.linear5(out)\n",
    "        out = self.relu5(out)\n",
    "        \n",
    "        out = self.linear6(out)\n",
    "        out = self.relu6(out)\n",
    "        \n",
    "        out = self.linear7(out)\n",
    "\n",
    "        return out"
   ]
  },
  {
   "cell_type": "markdown",
   "metadata": {
    "papermill": {
     "duration": 0.045839,
     "end_time": "2020-10-22T13:25:11.722970",
     "exception": false,
     "start_time": "2020-10-22T13:25:11.677131",
     "status": "completed"
    },
    "tags": []
   },
   "source": [
    "# 7. Переходим к самому скрипту обучения - циклы трейна и валидации"
   ]
  },
  {
   "cell_type": "code",
   "execution_count": 48,
   "metadata": {
    "execution": {
     "iopub.execute_input": "2020-10-22T13:25:11.823570Z",
     "iopub.status.busy": "2020-10-22T13:25:11.822752Z",
     "iopub.status.idle": "2020-10-22T13:29:38.802313Z",
     "shell.execute_reply": "2020-10-22T13:29:38.803213Z"
    },
    "papermill": {
     "duration": 267.03556,
     "end_time": "2020-10-22T13:29:38.803483",
     "exception": false,
     "start_time": "2020-10-22T13:25:11.767923",
     "status": "completed"
    },
    "scrolled": true,
    "tags": []
   },
   "outputs": [],
   "source": [
    "def train_loop(model, optimizer, criterion, X_train, Y_train):\n",
    "    model.train()\n",
    "    model.zero_grad()\n",
    "\n",
    "    optimizer.zero_grad()\n",
    "\n",
    "    outs = model(X_train)\n",
    "    loss = criterion(outs, Y_train)\n",
    "\n",
    "    loss.backward()\n",
    "    torch.nn.utils.clip_grad_norm_(model.parameters(), 2)\n",
    "    optimizer.step()\n",
    "    return round(float(loss), 4)\n",
    "\n",
    "\n",
    "def val_loop(model, X_val, Y_val):\n",
    "    model.eval()\n",
    "    test_pred = torch.max(model(X_val), 1)[1]\n",
    "    return round(float(f1_score(test_pred, Y_val)), 4)\n",
    "    \n",
    "\n",
    "def train(X_train, Y_train, X_val, Y_val):\n",
    "    model = ANN()\n",
    "    optimizer = torch.optim.Adam(model.parameters(), lr=0.001)\n",
    "    criterion = nn.CrossEntropyLoss()\n",
    "    scheduler = torch.optim.lr_scheduler.ReduceLROnPlateau(\n",
    "            optimizer=optimizer, mode='max', factor=0.75, patience=15)\n",
    "\n",
    "    val_f1_score_history = [0]\n",
    "    best_model = None\n",
    "\n",
    "    X_train = torch.Tensor(X_train)\n",
    "    Y_train = torch.Tensor(np.array(Y_train, dtype=np.float64)).type(torch.LongTensor)\n",
    "    X_val = torch.Tensor(X_val)\n",
    "    Y_val = torch.Tensor(Y_val)\n",
    "\n",
    "    EPOCHS = 200\n",
    "    for epoch in range(EPOCHS):\n",
    "        loss = train_loop(model, optimizer, criterion, X_train, Y_train)\n",
    "        f1_score = val_loop(model, X_val, Y_val)\n",
    "        scheduler.step(f1_score)\n",
    "\n",
    "        for param_group in optimizer.param_groups:\n",
    "            lr = param_group['lr']\n",
    "        print(f\"Loss after iteration {epoch} is {loss:.4f}\",\n",
    "              f\"val f1-score: {f1_score:.4f}\", \n",
    "              f\"lr: {lr}\", sep=\"    \")\n",
    "\n",
    "        if f1_score > max(val_f1_score_history) and f1_score > 0.86:\n",
    "            model_save_path = os.path.join(\n",
    "                    \"save_dir\", f'model-{val_f1_score_history[-1]:.4f}.ckpt')\n",
    "            torch.save(model.state_dict(), model_save_path)\n",
    "            best_model = deepcopy(model)\n",
    "            print(\"MODEL SAVED\")\n",
    "        \n",
    "        val_f1_score_history.append(f1_score)\n",
    "    return EPOCHS, val_f1_score_history, best_model\n"
   ]
  },
  {
   "cell_type": "markdown",
   "metadata": {},
   "source": [
    "# 8. Запускаем обучение!"
   ]
  },
  {
   "cell_type": "code",
   "execution_count": 49,
   "metadata": {
    "scrolled": true
   },
   "outputs": [
    {
     "name": "stdout",
     "output_type": "stream",
     "text": [
      "Loss after iteration 0 is 0.7079    val f1-score: 0.6612    lr: 0.001\n",
      "Loss after iteration 1 is 0.7054    val f1-score: 0.6612    lr: 0.001\n",
      "Loss after iteration 2 is 0.7031    val f1-score: 0.6612    lr: 0.001\n",
      "Loss after iteration 3 is 0.7003    val f1-score: 0.6612    lr: 0.001\n",
      "Loss after iteration 4 is 0.6966    val f1-score: 0.6612    lr: 0.001\n",
      "Loss after iteration 5 is 0.6917    val f1-score: 0.7023    lr: 0.001\n",
      "Loss after iteration 6 is 0.6868    val f1-score: 0.0272    lr: 0.001\n",
      "Loss after iteration 7 is 0.6871    val f1-score: 0.1432    lr: 0.001\n",
      "Loss after iteration 8 is 0.6838    val f1-score: 0.5483    lr: 0.001\n",
      "Loss after iteration 9 is 0.6787    val f1-score: 0.7431    lr: 0.001\n",
      "Loss after iteration 10 is 0.6758    val f1-score: 0.7982    lr: 0.001\n",
      "Loss after iteration 11 is 0.6725    val f1-score: 0.7965    lr: 0.001\n",
      "Loss after iteration 12 is 0.6679    val f1-score: 0.7976    lr: 0.001\n",
      "Loss after iteration 13 is 0.6634    val f1-score: 0.7970    lr: 0.001\n",
      "Loss after iteration 14 is 0.6623    val f1-score: 0.8242    lr: 0.001\n",
      "Loss after iteration 15 is 0.6608    val f1-score: 0.8349    lr: 0.001\n",
      "Loss after iteration 16 is 0.6589    val f1-score: 0.8390    lr: 0.001\n",
      "Loss after iteration 17 is 0.6588    val f1-score: 0.8365    lr: 0.001\n",
      "Loss after iteration 18 is 0.6574    val f1-score: 0.8405    lr: 0.001\n",
      "Loss after iteration 19 is 0.6551    val f1-score: 0.8452    lr: 0.001\n",
      "Loss after iteration 20 is 0.6537    val f1-score: 0.8420    lr: 0.001\n",
      "Loss after iteration 21 is 0.6518    val f1-score: 0.8424    lr: 0.001\n",
      "Loss after iteration 22 is 0.6495    val f1-score: 0.8412    lr: 0.001\n",
      "Loss after iteration 23 is 0.6483    val f1-score: 0.8418    lr: 0.001\n",
      "Loss after iteration 24 is 0.6468    val f1-score: 0.8383    lr: 0.001\n",
      "Loss after iteration 25 is 0.6451    val f1-score: 0.8353    lr: 0.001\n",
      "Loss after iteration 26 is 0.6438    val f1-score: 0.8369    lr: 0.001\n",
      "Loss after iteration 27 is 0.6419    val f1-score: 0.8391    lr: 0.001\n",
      "Loss after iteration 28 is 0.6403    val f1-score: 0.8351    lr: 0.001\n",
      "Loss after iteration 29 is 0.6386    val f1-score: 0.8377    lr: 0.001\n",
      "Loss after iteration 30 is 0.6368    val f1-score: 0.8435    lr: 0.001\n",
      "Loss after iteration 31 is 0.6350    val f1-score: 0.8473    lr: 0.001\n",
      "Loss after iteration 32 is 0.6326    val f1-score: 0.8476    lr: 0.001\n",
      "Loss after iteration 33 is 0.6303    val f1-score: 0.8399    lr: 0.001\n",
      "Loss after iteration 34 is 0.6280    val f1-score: 0.8459    lr: 0.001\n",
      "Loss after iteration 35 is 0.6253    val f1-score: 0.8408    lr: 0.001\n",
      "Loss after iteration 36 is 0.6226    val f1-score: 0.8459    lr: 0.001\n",
      "Loss after iteration 37 is 0.6194    val f1-score: 0.8439    lr: 0.001\n",
      "Loss after iteration 38 is 0.6157    val f1-score: 0.8452    lr: 0.001\n",
      "Loss after iteration 39 is 0.6116    val f1-score: 0.8435    lr: 0.001\n",
      "Loss after iteration 40 is 0.6071    val f1-score: 0.8338    lr: 0.001\n",
      "Loss after iteration 41 is 0.6023    val f1-score: 0.8231    lr: 0.001\n",
      "Loss after iteration 42 is 0.5975    val f1-score: 0.8306    lr: 0.001\n",
      "Loss after iteration 43 is 0.5998    val f1-score: 0.7425    lr: 0.001\n",
      "Loss after iteration 44 is 0.6407    val f1-score: 0.8288    lr: 0.001\n",
      "Loss after iteration 45 is 0.5920    val f1-score: 0.8061    lr: 0.001\n",
      "Loss after iteration 46 is 0.6187    val f1-score: 0.8345    lr: 0.001\n",
      "Loss after iteration 47 is 0.5946    val f1-score: 0.8420    lr: 0.001\n",
      "Loss after iteration 48 is 0.5955    val f1-score: 0.8222    lr: 0.00075\n",
      "Loss after iteration 49 is 0.6061    val f1-score: 0.8244    lr: 0.00075\n",
      "Loss after iteration 50 is 0.6038    val f1-score: 0.8431    lr: 0.00075\n",
      "Loss after iteration 51 is 0.5945    val f1-score: 0.8407    lr: 0.00075\n",
      "Loss after iteration 52 is 0.5881    val f1-score: 0.8305    lr: 0.00075\n",
      "Loss after iteration 53 is 0.5915    val f1-score: 0.8194    lr: 0.00075\n",
      "Loss after iteration 54 is 0.5942    val f1-score: 0.8312    lr: 0.00075\n",
      "Loss after iteration 55 is 0.5861    val f1-score: 0.8398    lr: 0.00075\n",
      "Loss after iteration 56 is 0.5804    val f1-score: 0.8225    lr: 0.00075\n",
      "Loss after iteration 57 is 0.5823    val f1-score: 0.8177    lr: 0.00075\n",
      "Loss after iteration 58 is 0.5833    val f1-score: 0.8153    lr: 0.00075\n",
      "Loss after iteration 59 is 0.5773    val f1-score: 0.8155    lr: 0.00075\n",
      "Loss after iteration 60 is 0.5713    val f1-score: 0.7944    lr: 0.00075\n",
      "Loss after iteration 61 is 0.5736    val f1-score: 0.7900    lr: 0.00075\n",
      "Loss after iteration 62 is 0.5708    val f1-score: 0.7822    lr: 0.00075\n",
      "Loss after iteration 63 is 0.5641    val f1-score: 0.7786    lr: 0.00075\n",
      "Loss after iteration 64 is 0.5661    val f1-score: 0.7727    lr: 0.0005625000000000001\n",
      "Loss after iteration 65 is 0.5619    val f1-score: 0.7778    lr: 0.0005625000000000001\n",
      "Loss after iteration 66 is 0.5568    val f1-score: 0.7749    lr: 0.0005625000000000001\n",
      "Loss after iteration 67 is 0.5578    val f1-score: 0.7755    lr: 0.0005625000000000001\n",
      "Loss after iteration 68 is 0.5548    val f1-score: 0.7662    lr: 0.0005625000000000001\n",
      "Loss after iteration 69 is 0.5502    val f1-score: 0.7503    lr: 0.0005625000000000001\n",
      "Loss after iteration 70 is 0.5507    val f1-score: 0.7557    lr: 0.0005625000000000001\n",
      "Loss after iteration 71 is 0.5463    val f1-score: 0.7553    lr: 0.0005625000000000001\n",
      "Loss after iteration 72 is 0.5437    val f1-score: 0.7547    lr: 0.0005625000000000001\n",
      "Loss after iteration 73 is 0.5427    val f1-score: 0.7510    lr: 0.0005625000000000001\n",
      "Loss after iteration 74 is 0.5376    val f1-score: 0.7415    lr: 0.0005625000000000001\n",
      "Loss after iteration 75 is 0.5371    val f1-score: 0.7436    lr: 0.0005625000000000001\n",
      "Loss after iteration 76 is 0.5321    val f1-score: 0.7425    lr: 0.0005625000000000001\n",
      "Loss after iteration 77 is 0.5306    val f1-score: 0.7400    lr: 0.0005625000000000001\n",
      "Loss after iteration 78 is 0.5260    val f1-score: 0.7261    lr: 0.0005625000000000001\n",
      "Loss after iteration 79 is 0.5243    val f1-score: 0.7270    lr: 0.0005625000000000001\n",
      "Loss after iteration 80 is 0.5190    val f1-score: 0.7173    lr: 0.00042187500000000005\n",
      "Loss after iteration 81 is 0.5175    val f1-score: 0.7132    lr: 0.00042187500000000005\n",
      "Loss after iteration 82 is 0.5127    val f1-score: 0.7084    lr: 0.00042187500000000005\n",
      "Loss after iteration 83 is 0.5115    val f1-score: 0.7050    lr: 0.00042187500000000005\n",
      "Loss after iteration 84 is 0.5070    val f1-score: 0.7035    lr: 0.00042187500000000005\n",
      "Loss after iteration 85 is 0.5048    val f1-score: 0.6991    lr: 0.00042187500000000005\n",
      "Loss after iteration 86 is 0.5016    val f1-score: 0.6976    lr: 0.00042187500000000005\n",
      "Loss after iteration 87 is 0.4973    val f1-score: 0.6963    lr: 0.00042187500000000005\n",
      "Loss after iteration 88 is 0.4954    val f1-score: 0.6933    lr: 0.00042187500000000005\n",
      "Loss after iteration 89 is 0.4914    val f1-score: 0.6909    lr: 0.00042187500000000005\n",
      "Loss after iteration 90 is 0.4867    val f1-score: 0.6893    lr: 0.00042187500000000005\n",
      "Loss after iteration 91 is 0.4842    val f1-score: 0.6815    lr: 0.00042187500000000005\n",
      "Loss after iteration 92 is 0.4822    val f1-score: 0.6869    lr: 0.00042187500000000005\n",
      "Loss after iteration 93 is 0.4796    val f1-score: 0.6782    lr: 0.00042187500000000005\n",
      "Loss after iteration 94 is 0.4754    val f1-score: 0.6801    lr: 0.00042187500000000005\n",
      "Loss after iteration 95 is 0.4706    val f1-score: 0.6700    lr: 0.00042187500000000005\n",
      "Loss after iteration 96 is 0.4660    val f1-score: 0.6750    lr: 0.00031640625000000006\n",
      "Loss after iteration 97 is 0.4619    val f1-score: 0.6667    lr: 0.00031640625000000006\n",
      "Loss after iteration 98 is 0.4585    val f1-score: 0.6642    lr: 0.00031640625000000006\n",
      "Loss after iteration 99 is 0.4554    val f1-score: 0.6642    lr: 0.00031640625000000006\n",
      "Loss after iteration 100 is 0.4527    val f1-score: 0.6576    lr: 0.00031640625000000006\n",
      "Loss after iteration 101 is 0.4502    val f1-score: 0.6608    lr: 0.00031640625000000006\n",
      "Loss after iteration 102 is 0.4479    val f1-score: 0.6560    lr: 0.00031640625000000006\n",
      "Loss after iteration 103 is 0.4466    val f1-score: 0.6557    lr: 0.00031640625000000006\n",
      "Loss after iteration 104 is 0.4471    val f1-score: 0.6521    lr: 0.00031640625000000006\n",
      "Loss after iteration 105 is 0.4472    val f1-score: 0.6499    lr: 0.00031640625000000006\n"
     ]
    },
    {
     "name": "stdout",
     "output_type": "stream",
     "text": [
      "Loss after iteration 106 is 0.4396    val f1-score: 0.6493    lr: 0.00031640625000000006\n",
      "Loss after iteration 107 is 0.4319    val f1-score: 0.6437    lr: 0.00031640625000000006\n",
      "Loss after iteration 108 is 0.4316    val f1-score: 0.6482    lr: 0.00031640625000000006\n",
      "Loss after iteration 109 is 0.4344    val f1-score: 0.6438    lr: 0.00031640625000000006\n",
      "Loss after iteration 110 is 0.4316    val f1-score: 0.6459    lr: 0.00031640625000000006\n",
      "Loss after iteration 111 is 0.4230    val f1-score: 0.6451    lr: 0.00031640625000000006\n",
      "Loss after iteration 112 is 0.4201    val f1-score: 0.6405    lr: 0.00023730468750000005\n",
      "Loss after iteration 113 is 0.4230    val f1-score: 0.6434    lr: 0.00023730468750000005\n",
      "Loss after iteration 114 is 0.4172    val f1-score: 0.6426    lr: 0.00023730468750000005\n",
      "Loss after iteration 115 is 0.4149    val f1-score: 0.6396    lr: 0.00023730468750000005\n",
      "Loss after iteration 116 is 0.4164    val f1-score: 0.6411    lr: 0.00023730468750000005\n",
      "Loss after iteration 117 is 0.4098    val f1-score: 0.6409    lr: 0.00023730468750000005\n",
      "Loss after iteration 118 is 0.4111    val f1-score: 0.6412    lr: 0.00023730468750000005\n",
      "Loss after iteration 119 is 0.4093    val f1-score: 0.6411    lr: 0.00023730468750000005\n",
      "Loss after iteration 120 is 0.4043    val f1-score: 0.6350    lr: 0.00023730468750000005\n",
      "Loss after iteration 121 is 0.4058    val f1-score: 0.6363    lr: 0.00023730468750000005\n",
      "Loss after iteration 122 is 0.4033    val f1-score: 0.6326    lr: 0.00023730468750000005\n",
      "Loss after iteration 123 is 0.3990    val f1-score: 0.6325    lr: 0.00023730468750000005\n",
      "Loss after iteration 124 is 0.3999    val f1-score: 0.6296    lr: 0.00023730468750000005\n",
      "Loss after iteration 125 is 0.3985    val f1-score: 0.6334    lr: 0.00023730468750000005\n",
      "Loss after iteration 126 is 0.3939    val f1-score: 0.6317    lr: 0.00023730468750000005\n",
      "Loss after iteration 127 is 0.3927    val f1-score: 0.6279    lr: 0.00023730468750000005\n",
      "Loss after iteration 128 is 0.3932    val f1-score: 0.6231    lr: 0.00017797851562500002\n",
      "Loss after iteration 129 is 0.3911    val f1-score: 0.6252    lr: 0.00017797851562500002\n",
      "Loss after iteration 130 is 0.3870    val f1-score: 0.6261    lr: 0.00017797851562500002\n",
      "Loss after iteration 131 is 0.3876    val f1-score: 0.6241    lr: 0.00017797851562500002\n",
      "Loss after iteration 132 is 0.3857    val f1-score: 0.6208    lr: 0.00017797851562500002\n",
      "Loss after iteration 133 is 0.3830    val f1-score: 0.6202    lr: 0.00017797851562500002\n",
      "Loss after iteration 134 is 0.3835    val f1-score: 0.6198    lr: 0.00017797851562500002\n",
      "Loss after iteration 135 is 0.3811    val f1-score: 0.6190    lr: 0.00017797851562500002\n",
      "Loss after iteration 136 is 0.3790    val f1-score: 0.6185    lr: 0.00017797851562500002\n",
      "Loss after iteration 137 is 0.3791    val f1-score: 0.6164    lr: 0.00017797851562500002\n",
      "Loss after iteration 138 is 0.3772    val f1-score: 0.6148    lr: 0.00017797851562500002\n",
      "Loss after iteration 139 is 0.3748    val f1-score: 0.6133    lr: 0.00017797851562500002\n",
      "Loss after iteration 140 is 0.3742    val f1-score: 0.6146    lr: 0.00017797851562500002\n",
      "Loss after iteration 141 is 0.3736    val f1-score: 0.6115    lr: 0.00017797851562500002\n",
      "Loss after iteration 142 is 0.3715    val f1-score: 0.6131    lr: 0.00017797851562500002\n",
      "Loss after iteration 143 is 0.3694    val f1-score: 0.6138    lr: 0.00017797851562500002\n",
      "Loss after iteration 144 is 0.3683    val f1-score: 0.6115    lr: 0.00013348388671875002\n",
      "Loss after iteration 145 is 0.3679    val f1-score: 0.6138    lr: 0.00013348388671875002\n",
      "Loss after iteration 146 is 0.3663    val f1-score: 0.6138    lr: 0.00013348388671875002\n",
      "Loss after iteration 147 is 0.3647    val f1-score: 0.6115    lr: 0.00013348388671875002\n",
      "Loss after iteration 148 is 0.3647    val f1-score: 0.6138    lr: 0.00013348388671875002\n",
      "Loss after iteration 149 is 0.3632    val f1-score: 0.6131    lr: 0.00013348388671875002\n",
      "Loss after iteration 150 is 0.3617    val f1-score: 0.6115    lr: 0.00013348388671875002\n",
      "Loss after iteration 151 is 0.3614    val f1-score: 0.6138    lr: 0.00013348388671875002\n",
      "Loss after iteration 152 is 0.3605    val f1-score: 0.6131    lr: 0.00013348388671875002\n",
      "Loss after iteration 153 is 0.3588    val f1-score: 0.6131    lr: 0.00013348388671875002\n",
      "Loss after iteration 154 is 0.3579    val f1-score: 0.6138    lr: 0.00013348388671875002\n",
      "Loss after iteration 155 is 0.3575    val f1-score: 0.6115    lr: 0.00013348388671875002\n",
      "Loss after iteration 156 is 0.3566    val f1-score: 0.6138    lr: 0.00013348388671875002\n",
      "Loss after iteration 157 is 0.3552    val f1-score: 0.6131    lr: 0.00013348388671875002\n",
      "Loss after iteration 158 is 0.3539    val f1-score: 0.6131    lr: 0.00013348388671875002\n",
      "Loss after iteration 159 is 0.3530    val f1-score: 0.6138    lr: 0.00013348388671875002\n",
      "Loss after iteration 160 is 0.3524    val f1-score: 0.6131    lr: 0.00010011291503906251\n",
      "Loss after iteration 161 is 0.3520    val f1-score: 0.6138    lr: 0.00010011291503906251\n",
      "Loss after iteration 162 is 0.3509    val f1-score: 0.6131    lr: 0.00010011291503906251\n",
      "Loss after iteration 163 is 0.3496    val f1-score: 0.6131    lr: 0.00010011291503906251\n",
      "Loss after iteration 164 is 0.3496    val f1-score: 0.6138    lr: 0.00010011291503906251\n",
      "Loss after iteration 165 is 0.3488    val f1-score: 0.6131    lr: 0.00010011291503906251\n",
      "Loss after iteration 166 is 0.3475    val f1-score: 0.6131    lr: 0.00010011291503906251\n",
      "Loss after iteration 167 is 0.3471    val f1-score: 0.6138    lr: 0.00010011291503906251\n",
      "Loss after iteration 168 is 0.3467    val f1-score: 0.6131    lr: 0.00010011291503906251\n",
      "Loss after iteration 169 is 0.3457    val f1-score: 0.6131    lr: 0.00010011291503906251\n",
      "Loss after iteration 170 is 0.3447    val f1-score: 0.6138    lr: 0.00010011291503906251\n",
      "Loss after iteration 171 is 0.3443    val f1-score: 0.6131    lr: 0.00010011291503906251\n",
      "Loss after iteration 172 is 0.3439    val f1-score: 0.6138    lr: 0.00010011291503906251\n",
      "Loss after iteration 173 is 0.3431    val f1-score: 0.6131    lr: 0.00010011291503906251\n",
      "Loss after iteration 174 is 0.3421    val f1-score: 0.6131    lr: 0.00010011291503906251\n",
      "Loss after iteration 175 is 0.3413    val f1-score: 0.6121    lr: 0.00010011291503906251\n",
      "Loss after iteration 176 is 0.3407    val f1-score: 0.6106    lr: 7.508468627929689e-05\n",
      "Loss after iteration 177 is 0.3403    val f1-score: 0.6121    lr: 7.508468627929689e-05\n",
      "Loss after iteration 178 is 0.3396    val f1-score: 0.6113    lr: 7.508468627929689e-05\n",
      "Loss after iteration 179 is 0.3389    val f1-score: 0.6106    lr: 7.508468627929689e-05\n",
      "Loss after iteration 180 is 0.3386    val f1-score: 0.6121    lr: 7.508468627929689e-05\n",
      "Loss after iteration 181 is 0.3380    val f1-score: 0.6106    lr: 7.508468627929689e-05\n",
      "Loss after iteration 182 is 0.3373    val f1-score: 0.6106    lr: 7.508468627929689e-05\n",
      "Loss after iteration 183 is 0.3370    val f1-score: 0.6096    lr: 7.508468627929689e-05\n",
      "Loss after iteration 184 is 0.3365    val f1-score: 0.6088    lr: 7.508468627929689e-05\n",
      "Loss after iteration 185 is 0.3358    val f1-score: 0.6088    lr: 7.508468627929689e-05\n",
      "Loss after iteration 186 is 0.3353    val f1-score: 0.6088    lr: 7.508468627929689e-05\n",
      "Loss after iteration 187 is 0.3349    val f1-score: 0.6088    lr: 7.508468627929689e-05\n",
      "Loss after iteration 188 is 0.3344    val f1-score: 0.6088    lr: 7.508468627929689e-05\n",
      "Loss after iteration 189 is 0.3337    val f1-score: 0.6088    lr: 7.508468627929689e-05\n",
      "Loss after iteration 190 is 0.3332    val f1-score: 0.6088    lr: 7.508468627929689e-05\n",
      "Loss after iteration 191 is 0.3328    val f1-score: 0.6088    lr: 7.508468627929689e-05\n",
      "Loss after iteration 192 is 0.3324    val f1-score: 0.6088    lr: 5.631351470947266e-05\n",
      "Loss after iteration 193 is 0.3318    val f1-score: 0.6088    lr: 5.631351470947266e-05\n",
      "Loss after iteration 194 is 0.3313    val f1-score: 0.6088    lr: 5.631351470947266e-05\n",
      "Loss after iteration 195 is 0.3311    val f1-score: 0.6088    lr: 5.631351470947266e-05\n",
      "Loss after iteration 196 is 0.3307    val f1-score: 0.6088    lr: 5.631351470947266e-05\n",
      "Loss after iteration 197 is 0.3302    val f1-score: 0.6088    lr: 5.631351470947266e-05\n",
      "Loss after iteration 198 is 0.3300    val f1-score: 0.6088    lr: 5.631351470947266e-05\n"
     ]
    },
    {
     "name": "stdout",
     "output_type": "stream",
     "text": [
      "Loss after iteration 199 is 0.3296    val f1-score: 0.6088    lr: 5.631351470947266e-05\n"
     ]
    }
   ],
   "source": [
    "EPOCHS, val_f1_score_history, best_model = train(X_train, Y_train, X_val, Y_val)"
   ]
  },
  {
   "cell_type": "markdown",
   "metadata": {},
   "source": [
    "* посмотрим на изменение f1-score "
   ]
  },
  {
   "cell_type": "code",
   "execution_count": 50,
   "metadata": {},
   "outputs": [
    {
     "data": {
      "text/plain": [
       "<AxesSubplot:xlabel='epochs', ylabel='f1-score'>"
      ]
     },
     "execution_count": 50,
     "metadata": {},
     "output_type": "execute_result"
    },
    {
     "data": {
      "image/png": "[encoded data removed]",
      "text/plain": [
       "<Figure size 432x288 with 1 Axes>"
      ]
     },
     "metadata": {
      "needs_background": "light"
     },
     "output_type": "display_data"
    }
   ],
   "source": [
    "sns.lineplot(data={\"f1-score\": val_f1_score_history,\n",
    "                   \"epochs\": list(range(1, EPOCHS + 2))}, x=\"epochs\", y=\"f1-score\")"
   ]
  },
  {
   "cell_type": "markdown",
   "metadata": {
    "papermill": {
     "duration": 0.052762,
     "end_time": "2020-10-22T13:29:38.914634",
     "exception": false,
     "start_time": "2020-10-22T13:29:38.861872",
     "status": "completed"
    },
    "tags": []
   },
   "source": [
    "# 9. Проверим точность нашей модели на тест части датасета"
   ]
  },
  {
   "cell_type": "code",
   "execution_count": 52,
   "metadata": {
    "execution": {
     "iopub.execute_input": "2020-10-22T13:29:39.032029Z",
     "iopub.status.busy": "2020-10-22T13:29:39.030838Z",
     "iopub.status.idle": "2020-10-22T13:29:41.545944Z",
     "shell.execute_reply": "2020-10-22T13:29:41.544260Z"
    },
    "papermill": {
     "duration": 2.57732,
     "end_time": "2020-10-22T13:29:41.546100",
     "exception": false,
     "start_time": "2020-10-22T13:29:38.968780",
     "status": "completed"
    },
    "tags": []
   },
   "outputs": [
    {
     "ename": "AttributeError",
     "evalue": "'NoneType' object has no attribute 'eval'",
     "output_type": "error",
     "traceback": [
      "\u001b[1;31m---------------------------------------------------------------------------\u001b[0m",
      "\u001b[1;31mAttributeError\u001b[0m                            Traceback (most recent call last)",
      "Input \u001b[1;32mIn [52]\u001b[0m, in \u001b[0;36m<cell line: 5>\u001b[1;34m()\u001b[0m\n\u001b[0;32m      1\u001b[0m X_test \u001b[38;5;241m=\u001b[39m torch\u001b[38;5;241m.\u001b[39mTensor(X_test)\n\u001b[0;32m      3\u001b[0m Y_test \u001b[38;5;241m=\u001b[39m torch\u001b[38;5;241m.\u001b[39mTensor(np\u001b[38;5;241m.\u001b[39marray(Y_test, dtype\u001b[38;5;241m=\u001b[39mnp\u001b[38;5;241m.\u001b[39mfloat64))\u001b[38;5;241m.\u001b[39mtype(torch\u001b[38;5;241m.\u001b[39mLongTensor)\n\u001b[1;32m----> 5\u001b[0m \u001b[43mbest_model\u001b[49m\u001b[38;5;241;43m.\u001b[39;49m\u001b[43meval\u001b[49m()\n\u001b[0;32m      6\u001b[0m y_head \u001b[38;5;241m=\u001b[39m best_model(X_test)\n\u001b[0;32m      7\u001b[0m y_pred \u001b[38;5;241m=\u001b[39m torch\u001b[38;5;241m.\u001b[39mmax(y_head, \u001b[38;5;241m1\u001b[39m)[\u001b[38;5;241m1\u001b[39m]\n",
      "\u001b[1;31mAttributeError\u001b[0m: 'NoneType' object has no attribute 'eval'"
     ]
    }
   ],
   "source": [
    "X_test = torch.Tensor(X_test)\n",
    "\n",
    "Y_test = torch.Tensor(np.array(Y_test, dtype=np.float64)).type(torch.LongTensor)\n",
    "\n",
    "best_model.eval()\n",
    "y_head = best_model(X_test)\n",
    "y_pred = torch.max(y_head, 1)[1]\n",
    "\n",
    "for i in sample(list(range(500)), 10):\n",
    "    print(test_title[i], \"pred\", y_pred[i].item(), \"is_fake\", int(Y_test[i].item()))\n",
    "\n",
    "print(\"\\nModel accuracy is \", f1_score(y_pred, Y_test))\n",
    "model_plot = input()\n",
    "if model_plot != \"\":\n",
    "    with open(\"used_models.txt\", mode=\"a\") as f:\n",
    "        f.write(model_plot + \";\" + str(EPOCHS) + \";\" + str(f1_score(y_pred, Y_test)) + \"\\n\")"
   ]
  },
  {
   "cell_type": "markdown",
   "metadata": {},
   "source": [
    "## 10. Создаём предсказания для тестовых данных"
   ]
  },
  {
   "cell_type": "code",
   "execution_count": null,
   "metadata": {},
   "outputs": [
    {
     "data": {
      "application/vnd.jupyter.widget-view+json": {
       "model_id": "930bc16137084557893da8b76c370c75",
       "version_major": 2,
       "version_minor": 0
      },
      "text/plain": [
       "  0%|          | 0/5758 [00:00<?, ?it/s]"
      ]
     },
     "metadata": {},
     "output_type": "display_data"
    },
    {
     "data": {
      "application/vnd.jupyter.widget-view+json": {
       "model_id": "0b5819ead4904c86b0a78e678c99280f",
       "version_major": 2,
       "version_minor": 0
      },
      "text/plain": [
       "  0%|          | 0/180 [00:00<?, ?it/s]"
      ]
     },
     "metadata": {},
     "output_type": "display_data"
    }
   ],
   "source": [
    "test_data = pd.read_csv(\"dataset/test.tsv\", sep=\"\\t\", header=0)\n",
    "test_data = data.sample(frac=1)\n",
    "\n",
    "new_title = []\n",
    "for txt in tqdm.notebook.tqdm(data.title):\n",
    "    new_title.append(sentence_editor(txt))\n",
    "\n",
    "title_matrix = np.array([[0] * 1024], dtype=float)\n",
    "batch_size = 32\n",
    "for i in tqdm.notebook.tqdm(range(0, len(new_title), batch_size)):\n",
    "    title_matrix = np.append(title_matrix, \n",
    "                             elmo_model.get_elmo_vector_average([x.split() for x in new_title[i:i + batch_size]]), \n",
    "                             axis=0)\n",
    "\n",
    "title_matrix = np.delete(title_matrix, 0, axis=0)\n",
    "title_matrix.shape\n",
    "\n",
    "y_head = best_model(torch.Tensor(title_matrix))\n",
    "y_pred = torch.max(y_head, 1)[1]\n",
    "\n",
    "test_data.is_fake = y_pred\n",
    "test_data.to_csv(\"solution.csv\", index=False)\n",
    "\n",
    "test_data.head(10)"
   ]
  },
  {
   "cell_type": "code",
   "execution_count": null,
   "metadata": {},
   "outputs": [],
   "source": []
  }
 ],
 "metadata": {
  "kernelspec": {
   "display_name": "Python 3 (ipykernel)",
   "language": "python",
   "name": "python3"
  },
  "language_info": {
   "codemirror_mode": {
    "name": "ipython",
    "version": 3
   },
   "file_extension": ".py",
   "mimetype": "text/x-python",
   "name": "python",
   "nbconvert_exporter": "python",
   "pygments_lexer": "ipython3",
   "version": "3.10.4"
  },
  "papermill": {
   "duration": 655.199052,
   "end_time": "2020-10-22T13:29:42.538242",
   "environment_variables": {},
   "exception": null,
   "input_path": "__notebook__.ipynb",
   "output_path": "__notebook__.ipynb",
   "parameters": {},
   "start_time": "2020-10-22T13:18:47.339190",
   "version": "2.1.0"
  }
 },
 "nbformat": 4,
 "nbformat_minor": 4
}
