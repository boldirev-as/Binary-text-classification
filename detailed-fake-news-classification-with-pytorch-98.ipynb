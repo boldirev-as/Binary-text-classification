{
 "cells": [
  {
   "cell_type": "markdown",
   "metadata": {},
   "source": [
    "# Классификация заголовоков новостей на фейковые и настоящие "
   ]
  },
  {
   "cell_type": "markdown",
   "metadata": {
    "papermill": {
     "duration": 0.030228,
     "end_time": "2020-10-22T13:18:52.872089",
     "exception": false,
     "start_time": "2020-10-22T13:18:52.841861",
     "status": "completed"
    },
    "tags": []
   },
   "source": [
    "## 0. Установка и подгрузука библиотек\n",
    "Установка библиотек, под которым запускается данный бейзлайн."
   ]
  },
  {
   "cell_type": "code",
   "execution_count": 32,
   "metadata": {},
   "outputs": [
    {
     "name": "stdout",
     "output_type": "stream",
     "text": [
      "Looking in indexes: https://pypi.org/simple, https://download.pytorch.org/whl/cu113\n",
      "Requirement already satisfied: torch in c:\\users\\vush6\\anaconda3\\lib\\site-packages (1.11.0)\n",
      "Collecting torchvision\n",
      "  Downloading https://download.pytorch.org/whl/cu113/torchvision-0.12.0%2Bcu113-cp39-cp39-win_amd64.whl (5.4 MB)\n",
      "Collecting torchaudio\n",
      "  Downloading https://download.pytorch.org/whl/cu113/torchaudio-0.11.0%2Bcu113-cp39-cp39-win_amd64.whl (573 kB)\n",
      "Requirement already satisfied: typing-extensions in c:\\users\\vush6\\anaconda3\\lib\\site-packages (from torch) (3.10.0.2)\n",
      "Requirement already satisfied: pillow!=8.3.*,>=5.3.0 in c:\\users\\vush6\\anaconda3\\lib\\site-packages (from torchvision) (8.4.0)\n",
      "Requirement already satisfied: requests in c:\\users\\vush6\\anaconda3\\lib\\site-packages (from torchvision) (2.26.0)\n",
      "Requirement already satisfied: numpy in c:\\users\\vush6\\anaconda3\\lib\\site-packages (from torchvision) (1.20.3)\n",
      "Requirement already satisfied: charset-normalizer~=2.0.0 in c:\\users\\vush6\\anaconda3\\lib\\site-packages (from requests->torchvision) (2.0.4)\n",
      "Requirement already satisfied: idna<4,>=2.5 in c:\\users\\vush6\\anaconda3\\lib\\site-packages (from requests->torchvision) (3.2)\n",
      "Requirement already satisfied: urllib3<1.27,>=1.21.1 in c:\\users\\vush6\\anaconda3\\lib\\site-packages (from requests->torchvision) (1.26.7)\n",
      "Requirement already satisfied: certifi>=2017.4.17 in c:\\users\\vush6\\anaconda3\\lib\\site-packages (from requests->torchvision) (2021.10.8)\n",
      "Installing collected packages: torchvision, torchaudio\n",
      "Successfully installed torchaudio-0.11.0+cu113 torchvision-0.12.0+cu113\n",
      "Requirement already satisfied: tensorflow in c:\\users\\vush6\\anaconda3\\lib\\site-packages (2.8.0)\n",
      "Requirement already satisfied: gast>=0.2.1 in c:\\users\\vush6\\anaconda3\\lib\\site-packages (from tensorflow) (0.5.3)\n",
      "Requirement already satisfied: tf-estimator-nightly==2.8.0.dev2021122109 in c:\\users\\vush6\\anaconda3\\lib\\site-packages (from tensorflow) (2.8.0.dev2021122109)\n",
      "Requirement already satisfied: google-pasta>=0.1.1 in c:\\users\\vush6\\anaconda3\\lib\\site-packages (from tensorflow) (0.2.0)\n",
      "Requirement already satisfied: keras-preprocessing>=1.1.1 in c:\\users\\vush6\\anaconda3\\lib\\site-packages (from tensorflow) (1.1.2)\n",
      "Requirement already satisfied: libclang>=9.0.1 in c:\\users\\vush6\\anaconda3\\lib\\site-packages (from tensorflow) (13.0.0)\n",
      "Requirement already satisfied: flatbuffers>=1.12 in c:\\users\\vush6\\anaconda3\\lib\\site-packages (from tensorflow) (2.0)\n",
      "Requirement already satisfied: opt-einsum>=2.3.2 in c:\\users\\vush6\\anaconda3\\lib\\site-packages (from tensorflow) (3.3.0)\n",
      "Requirement already satisfied: protobuf>=3.9.2 in c:\\users\\vush6\\anaconda3\\lib\\site-packages (from tensorflow) (3.20.0)\n",
      "Requirement already satisfied: termcolor>=1.1.0 in c:\\users\\vush6\\anaconda3\\lib\\site-packages (from tensorflow) (1.1.0)\n",
      "Requirement already satisfied: wrapt>=1.11.0 in c:\\users\\vush6\\anaconda3\\lib\\site-packages (from tensorflow) (1.12.1)\n",
      "Requirement already satisfied: typing-extensions>=3.6.6 in c:\\users\\vush6\\anaconda3\\lib\\site-packages (from tensorflow) (3.10.0.2)\n",
      "Requirement already satisfied: keras<2.9,>=2.8.0rc0 in c:\\users\\vush6\\anaconda3\\lib\\site-packages (from tensorflow) (2.8.0)\n",
      "Requirement already satisfied: astunparse>=1.6.0 in c:\\users\\vush6\\anaconda3\\lib\\site-packages (from tensorflow) (1.6.3)\n",
      "Requirement already satisfied: grpcio<2.0,>=1.24.3 in c:\\users\\vush6\\anaconda3\\lib\\site-packages (from tensorflow) (1.44.0)\n",
      "Requirement already satisfied: tensorflow-io-gcs-filesystem>=0.23.1 in c:\\users\\vush6\\anaconda3\\lib\\site-packages (from tensorflow) (0.24.0)\n",
      "Requirement already satisfied: numpy>=1.20 in c:\\users\\vush6\\anaconda3\\lib\\site-packages (from tensorflow) (1.20.3)\n",
      "Requirement already satisfied: absl-py>=0.4.0 in c:\\users\\vush6\\anaconda3\\lib\\site-packages (from tensorflow) (1.0.0)\n",
      "Requirement already satisfied: six>=1.12.0 in c:\\users\\vush6\\anaconda3\\lib\\site-packages (from tensorflow) (1.16.0)\n",
      "Requirement already satisfied: tensorboard<2.9,>=2.8 in c:\\users\\vush6\\anaconda3\\lib\\site-packages (from tensorflow) (2.8.0)\n",
      "Requirement already satisfied: setuptools in c:\\users\\vush6\\anaconda3\\lib\\site-packages (from tensorflow) (58.0.4)\n",
      "Requirement already satisfied: h5py>=2.9.0 in c:\\users\\vush6\\anaconda3\\lib\\site-packages (from tensorflow) (3.2.1)\n",
      "Requirement already satisfied: wheel<1.0,>=0.23.0 in c:\\users\\vush6\\anaconda3\\lib\\site-packages (from astunparse>=1.6.0->tensorflow) (0.37.0)\n",
      "Requirement already satisfied: tensorboard-plugin-wit>=1.6.0 in c:\\users\\vush6\\anaconda3\\lib\\site-packages (from tensorboard<2.9,>=2.8->tensorflow) (1.8.1)\n",
      "Requirement already satisfied: tensorboard-data-server<0.7.0,>=0.6.0 in c:\\users\\vush6\\anaconda3\\lib\\site-packages (from tensorboard<2.9,>=2.8->tensorflow) (0.6.1)\n",
      "Requirement already satisfied: google-auth<3,>=1.6.3 in c:\\users\\vush6\\anaconda3\\lib\\site-packages (from tensorboard<2.9,>=2.8->tensorflow) (2.6.5)\n",
      "Requirement already satisfied: markdown>=2.6.8 in c:\\users\\vush6\\anaconda3\\lib\\site-packages (from tensorboard<2.9,>=2.8->tensorflow) (3.3.6)\n",
      "Requirement already satisfied: requests<3,>=2.21.0 in c:\\users\\vush6\\anaconda3\\lib\\site-packages (from tensorboard<2.9,>=2.8->tensorflow) (2.26.0)\n",
      "Requirement already satisfied: werkzeug>=0.11.15 in c:\\users\\vush6\\anaconda3\\lib\\site-packages (from tensorboard<2.9,>=2.8->tensorflow) (2.0.2)\n",
      "Requirement already satisfied: google-auth-oauthlib<0.5,>=0.4.1 in c:\\users\\vush6\\anaconda3\\lib\\site-packages (from tensorboard<2.9,>=2.8->tensorflow) (0.4.6)\n",
      "Requirement already satisfied: cachetools<6.0,>=2.0.0 in c:\\users\\vush6\\anaconda3\\lib\\site-packages (from google-auth<3,>=1.6.3->tensorboard<2.9,>=2.8->tensorflow) (5.0.0)\n",
      "Requirement already satisfied: pyasn1-modules>=0.2.1 in c:\\users\\vush6\\anaconda3\\lib\\site-packages (from google-auth<3,>=1.6.3->tensorboard<2.9,>=2.8->tensorflow) (0.2.8)\n",
      "Requirement already satisfied: rsa<5,>=3.1.4 in c:\\users\\vush6\\anaconda3\\lib\\site-packages (from google-auth<3,>=1.6.3->tensorboard<2.9,>=2.8->tensorflow) (4.8)\n",
      "Requirement already satisfied: requests-oauthlib>=0.7.0 in c:\\users\\vush6\\anaconda3\\lib\\site-packages (from google-auth-oauthlib<0.5,>=0.4.1->tensorboard<2.9,>=2.8->tensorflow) (1.3.1)\n",
      "Requirement already satisfied: importlib-metadata>=4.4 in c:\\users\\vush6\\anaconda3\\lib\\site-packages (from markdown>=2.6.8->tensorboard<2.9,>=2.8->tensorflow) (4.8.1)\n",
      "Requirement already satisfied: zipp>=0.5 in c:\\users\\vush6\\anaconda3\\lib\\site-packages (from importlib-metadata>=4.4->markdown>=2.6.8->tensorboard<2.9,>=2.8->tensorflow) (3.6.0)\n",
      "Requirement already satisfied: pyasn1<0.5.0,>=0.4.6 in c:\\users\\vush6\\anaconda3\\lib\\site-packages (from pyasn1-modules>=0.2.1->google-auth<3,>=1.6.3->tensorboard<2.9,>=2.8->tensorflow) (0.4.8)\n",
      "Requirement already satisfied: charset-normalizer~=2.0.0 in c:\\users\\vush6\\anaconda3\\lib\\site-packages (from requests<3,>=2.21.0->tensorboard<2.9,>=2.8->tensorflow) (2.0.4)\n",
      "Requirement already satisfied: idna<4,>=2.5 in c:\\users\\vush6\\anaconda3\\lib\\site-packages (from requests<3,>=2.21.0->tensorboard<2.9,>=2.8->tensorflow) (3.2)\n",
      "Requirement already satisfied: urllib3<1.27,>=1.21.1 in c:\\users\\vush6\\anaconda3\\lib\\site-packages (from requests<3,>=2.21.0->tensorboard<2.9,>=2.8->tensorflow) (1.26.7)\n",
      "Requirement already satisfied: certifi>=2017.4.17 in c:\\users\\vush6\\anaconda3\\lib\\site-packages (from requests<3,>=2.21.0->tensorboard<2.9,>=2.8->tensorflow) (2021.10.8)\n",
      "Requirement already satisfied: oauthlib>=3.0.0 in c:\\users\\vush6\\anaconda3\\lib\\site-packages (from requests-oauthlib>=0.7.0->google-auth-oauthlib<0.5,>=0.4.1->tensorboard<2.9,>=2.8->tensorflow) (3.2.0)\n",
      "Requirement already satisfied: pymorphy2 in c:\\users\\vush6\\anaconda3\\lib\\site-packages (0.9.1)\n",
      "Requirement already satisfied: dawg-python>=0.7.1 in c:\\users\\vush6\\anaconda3\\lib\\site-packages (from pymorphy2) (0.7.2)\n",
      "Requirement already satisfied: docopt>=0.6 in c:\\users\\vush6\\anaconda3\\lib\\site-packages (from pymorphy2) (0.6.2)\n",
      "Requirement already satisfied: pymorphy2-dicts-ru<3.0,>=2.4 in c:\\users\\vush6\\anaconda3\\lib\\site-packages (from pymorphy2) (2.4.417127.4579844)\n",
      "Requirement already satisfied: stop-words in c:\\users\\vush6\\anaconda3\\lib\\site-packages (2018.7.23)\n",
      "Collecting transformers\n",
      "  Using cached transformers-4.18.0-py3-none-any.whl (4.0 MB)\n",
      "Requirement already satisfied: regex!=2019.12.17 in c:\\users\\vush6\\anaconda3\\lib\\site-packages (from transformers) (2021.8.3)\n",
      "Collecting huggingface-hub<1.0,>=0.1.0\n",
      "  Using cached huggingface_hub-0.5.1-py3-none-any.whl (77 kB)\n",
      "Requirement already satisfied: numpy>=1.17 in c:\\users\\vush6\\anaconda3\\lib\\site-packages (from transformers) (1.20.3)\n",
      "Requirement already satisfied: packaging>=20.0 in c:\\users\\vush6\\anaconda3\\lib\\site-packages (from transformers) (21.0)\n",
      "Collecting tokenizers!=0.11.3,<0.13,>=0.11.1\n",
      "  Downloading tokenizers-0.12.1-cp39-cp39-win_amd64.whl (3.3 MB)\n",
      "Requirement already satisfied: requests in c:\\users\\vush6\\anaconda3\\lib\\site-packages (from transformers) (2.26.0)\n",
      "Requirement already satisfied: tqdm>=4.27 in c:\\users\\vush6\\anaconda3\\lib\\site-packages (from transformers) (4.62.3)\n",
      "Collecting sacremoses\n",
      "  Using cached sacremoses-0.0.49-py3-none-any.whl (895 kB)\n",
      "Requirement already satisfied: filelock in c:\\users\\vush6\\anaconda3\\lib\\site-packages (from transformers) (3.3.1)\n",
      "Requirement already satisfied: pyyaml>=5.1 in c:\\users\\vush6\\anaconda3\\lib\\site-packages (from transformers) (6.0)\n",
      "Requirement already satisfied: typing-extensions>=3.7.4.3 in c:\\users\\vush6\\anaconda3\\lib\\site-packages (from huggingface-hub<1.0,>=0.1.0->transformers) (3.10.0.2)\n",
      "Requirement already satisfied: pyparsing>=2.0.2 in c:\\users\\vush6\\anaconda3\\lib\\site-packages (from packaging>=20.0->transformers) (3.0.4)\n",
      "Requirement already satisfied: colorama in c:\\users\\vush6\\anaconda3\\lib\\site-packages (from tqdm>=4.27->transformers) (0.4.4)\n",
      "Requirement already satisfied: charset-normalizer~=2.0.0 in c:\\users\\vush6\\anaconda3\\lib\\site-packages (from requests->transformers) (2.0.4)\n",
      "Requirement already satisfied: idna<4,>=2.5 in c:\\users\\vush6\\anaconda3\\lib\\site-packages (from requests->transformers) (3.2)\n",
      "Requirement already satisfied: urllib3<1.27,>=1.21.1 in c:\\users\\vush6\\anaconda3\\lib\\site-packages (from requests->transformers) (1.26.7)\n",
      "Requirement already satisfied: certifi>=2017.4.17 in c:\\users\\vush6\\anaconda3\\lib\\site-packages (from requests->transformers) (2021.10.8)\n",
      "Requirement already satisfied: six in c:\\users\\vush6\\anaconda3\\lib\\site-packages (from sacremoses->transformers) (1.16.0)\n",
      "Requirement already satisfied: joblib in c:\\users\\vush6\\anaconda3\\lib\\site-packages (from sacremoses->transformers) (1.1.0)\n",
      "Requirement already satisfied: click in c:\\users\\vush6\\anaconda3\\lib\\site-packages (from sacremoses->transformers) (8.0.3)\n",
      "Installing collected packages: tokenizers, sacremoses, huggingface-hub, transformers\n",
      "Successfully installed huggingface-hub-0.5.1 sacremoses-0.0.49 tokenizers-0.12.1 transformers-4.18.0\n"
     ]
    }
   ],
   "source": [
    "!pip3 install torch torchvision torchaudio --extra-index-url https://download.pytorch.org/whl/cu113\n",
    "!pip install tensorflow\n",
    "!pip install pymorphy2\n",
    "!pip install stop-words\n",
    "!pip install transformers"
   ]
  },
  {
   "cell_type": "code",
   "execution_count": 34,
   "metadata": {
    "_cell_guid": "b1076dfc-b9ad-4769-8c92-a6c4dae69d19",
    "_uuid": "8f2839f25d086af736a60e9eeb907d3b93b6e0e5",
    "execution": {
     "iopub.execute_input": "2020-10-22T13:18:52.957659Z",
     "iopub.status.busy": "2020-10-22T13:18:52.956657Z",
     "iopub.status.idle": "2020-10-22T13:18:56.383792Z",
     "shell.execute_reply": "2020-10-22T13:18:56.384536Z"
    },
    "papermill": {
     "duration": 3.482423,
     "end_time": "2020-10-22T13:18:56.384824",
     "exception": false,
     "start_time": "2020-10-22T13:18:52.902401",
     "status": "completed"
    },
    "tags": []
   },
   "outputs": [],
   "source": [
    "import numpy as np\n",
    "import pandas as pd\n",
    "pd.set_option('max_colwidth', 200)\n",
    "pd.set_option('display.width', 100)\n",
    "\n",
    "import torch\n",
    "import torch.nn as nn\n",
    "\n",
    "import matplotlib.pyplot as plt\n",
    "import seaborn as sns\n",
    "\n",
    "from sklearn.model_selection import train_test_split\n",
    "\n",
    "from sklearn.metrics import f1_score, confusion_matrix\n",
    "from random import sample\n",
    "import random\n",
    "\n",
    "import tqdm\n",
    "from copy import deepcopy\n",
    "import re\n",
    "\n",
    "import os\n",
    "os.environ['TF_CPP_MIN_LOG_LEVEL'] = '3'\n",
    "\n",
    "import logging\n",
    "logger = logging.getLogger()\n",
    "logging.disable(logging.ERROR)\n",
    "\n",
    "import tensorflow as tf\n",
    "tf.get_logger().setLevel('ERROR')\n",
    "\n",
    "import pickle\n",
    "\n",
    "import pymorphy2\n",
    "import stop_words\n",
    "\n",
    "from transformers import AutoTokenizer, AutoModel"
   ]
  },
  {
   "cell_type": "markdown",
   "metadata": {},
   "source": [
    "* зафиксируем все сиды для воспроизводимости результатов"
   ]
  },
  {
   "cell_type": "code",
   "execution_count": 8,
   "metadata": {},
   "outputs": [],
   "source": [
    "def seed_everything(seed=1234):\n",
    "    random.seed(seed)\n",
    "    os.environ['PYTHONHASHSEED'] = str(seed)\n",
    "    np.random.seed(seed)     \n",
    "    torch.manual_seed(seed)\n",
    "    torch.cuda.manual_seed(seed)\n",
    "    torch.backends.cudnn.deterministic = True\n",
    "\n",
    "seed_everything()"
   ]
  },
  {
   "cell_type": "code",
   "execution_count": 47,
   "metadata": {},
   "outputs": [],
   "source": [
    "DEVICE = torch.device(\"cuda\" if torch.cuda.is_available() else \"cpu\")"
   ]
  },
  {
   "cell_type": "markdown",
   "metadata": {},
   "source": [
    "## 1. Загрузим датасет"
   ]
  },
  {
   "cell_type": "code",
   "execution_count": 9,
   "metadata": {
    "execution": {
     "iopub.execute_input": "2020-10-22T13:18:59.255532Z",
     "iopub.status.busy": "2020-10-22T13:18:59.253093Z",
     "iopub.status.idle": "2020-10-22T13:18:59.287673Z",
     "shell.execute_reply": "2020-10-22T13:18:59.286827Z"
    },
    "papermill": {
     "duration": 0.075615,
     "end_time": "2020-10-22T13:18:59.287823",
     "exception": false,
     "start_time": "2020-10-22T13:18:59.212208",
     "status": "completed"
    },
    "scrolled": true,
    "tags": []
   },
   "outputs": [
    {
     "data": {
      "text/html": [
       "<div>\n",
       "<style scoped>\n",
       "    .dataframe tbody tr th:only-of-type {\n",
       "        vertical-align: middle;\n",
       "    }\n",
       "\n",
       "    .dataframe tbody tr th {\n",
       "        vertical-align: top;\n",
       "    }\n",
       "\n",
       "    .dataframe thead th {\n",
       "        text-align: right;\n",
       "    }\n",
       "</style>\n",
       "<table border=\"1\" class=\"dataframe\">\n",
       "  <thead>\n",
       "    <tr style=\"text-align: right;\">\n",
       "      <th></th>\n",
       "      <th>title</th>\n",
       "      <th>is_fake</th>\n",
       "    </tr>\n",
       "  </thead>\n",
       "  <tbody>\n",
       "    <tr>\n",
       "      <th>0</th>\n",
       "      <td>Москвичу Владимиру Клутину пришёл счёт за вмешательство в американские выборы</td>\n",
       "      <td>1</td>\n",
       "    </tr>\n",
       "    <tr>\n",
       "      <th>1</th>\n",
       "      <td>Агент Кокорина назвал езду по встречке житейской историей</td>\n",
       "      <td>0</td>\n",
       "    </tr>\n",
       "    <tr>\n",
       "      <th>2</th>\n",
       "      <td>Госдума рассмотрит возможность введения секретных статей Уголовного кодекса</td>\n",
       "      <td>1</td>\n",
       "    </tr>\n",
       "    <tr>\n",
       "      <th>3</th>\n",
       "      <td>ФАС заблокировала поставку скоростных трамваев для Москвы</td>\n",
       "      <td>0</td>\n",
       "    </tr>\n",
       "    <tr>\n",
       "      <th>4</th>\n",
       "      <td>Против Навального завели дело о недоносительстве на Волкова</td>\n",
       "      <td>1</td>\n",
       "    </tr>\n",
       "    <tr>\n",
       "      <th>5</th>\n",
       "      <td>Российским студентам запретят учиться за рубежом</td>\n",
       "      <td>1</td>\n",
       "    </tr>\n",
       "    <tr>\n",
       "      <th>6</th>\n",
       "      <td>Путин пишет книгу об истории Украины</td>\n",
       "      <td>1</td>\n",
       "    </tr>\n",
       "    <tr>\n",
       "      <th>7</th>\n",
       "      <td>Россияне обхитрили рост цен</td>\n",
       "      <td>0</td>\n",
       "    </tr>\n",
       "    <tr>\n",
       "      <th>8</th>\n",
       "      <td>Звезда «Ворониных» раскрыл подробности о своем состоянии</td>\n",
       "      <td>0</td>\n",
       "    </tr>\n",
       "    <tr>\n",
       "      <th>9</th>\n",
       "      <td>Microsoft объявила дату выхода очков дополненной реальности Hololens</td>\n",
       "      <td>0</td>\n",
       "    </tr>\n",
       "  </tbody>\n",
       "</table>\n",
       "</div>"
      ],
      "text/plain": [
       "                                                                           title  is_fake\n",
       "0  Москвичу Владимиру Клутину пришёл счёт за вмешательство в американские выборы        1\n",
       "1                      Агент Кокорина назвал езду по встречке житейской историей        0\n",
       "2    Госдума рассмотрит возможность введения секретных статей Уголовного кодекса        1\n",
       "3                      ФАС заблокировала поставку скоростных трамваев для Москвы        0\n",
       "4                    Против Навального завели дело о недоносительстве на Волкова        1\n",
       "5                               Российским студентам запретят учиться за рубежом        1\n",
       "6                                           Путин пишет книгу об истории Украины        1\n",
       "7                                                    Россияне обхитрили рост цен        0\n",
       "8                       Звезда «Ворониных» раскрыл подробности о своем состоянии        0\n",
       "9           Microsoft объявила дату выхода очков дополненной реальности Hololens        0"
      ]
     },
     "execution_count": 9,
     "metadata": {},
     "output_type": "execute_result"
    }
   ],
   "source": [
    "data = pd.read_csv(\"dataset/train.tsv\", sep=\"\\t\")\n",
    "data.head(10)"
   ]
  },
  {
   "cell_type": "markdown",
   "metadata": {
    "papermill": {
     "duration": 0.038064,
     "end_time": "2020-10-22T13:18:59.364143",
     "exception": false,
     "start_time": "2020-10-22T13:18:59.326079",
     "status": "completed"
    },
    "tags": []
   },
   "source": [
    "* Датасет загружен, проанализируем его содержимое"
   ]
  },
  {
   "cell_type": "markdown",
   "metadata": {
    "papermill": {
     "duration": 0.044334,
     "end_time": "2020-10-22T13:19:00.503911",
     "exception": false,
     "start_time": "2020-10-22T13:19:00.459577",
     "status": "completed"
    },
    "tags": []
   },
   "source": [
    "## 2. Препроцессинг заголовков новостей\n",
    "1. Токенизация — разобьём каждый заголовок статьи на слова.\n",
    "2. Нормализация — приведём слова к «рафинированному» виду (единый регистр слов, отсутствие знаков пунктуации, расшифрованные сокращения, словесное написание чисел и т.д.).\n",
    "3. Стеммизация — приведём слова к его корню путем устранения придатков (суффикса, приставки, окончания).\n",
    "4. Лемматизация — приведём слова к начальной форме.\n",
    "5. Чистка — удаленим стоп-слова, которые не несут смысловой нагрузки (артикли, междометья).\n",
    "\n",
    "* Для этого будем использовать библиотеку pymorphy2"
   ]
  },
  {
   "cell_type": "code",
   "execution_count": 10,
   "metadata": {
    "execution": {
     "iopub.execute_input": "2020-10-22T13:24:23.723873Z",
     "iopub.status.busy": "2020-10-22T13:24:23.713305Z",
     "iopub.status.idle": "2020-10-22T13:24:39.324303Z",
     "shell.execute_reply": "2020-10-22T13:24:39.323490Z"
    },
    "papermill": {
     "duration": 15.680556,
     "end_time": "2020-10-22T13:24:39.324448",
     "exception": false,
     "start_time": "2020-10-22T13:24:23.643892",
     "status": "completed"
    },
    "tags": []
   },
   "outputs": [
    {
     "data": {
      "application/vnd.jupyter.widget-view+json": {
       "model_id": "737e002d0a924c9d935dd013bec0c177",
       "version_major": 2,
       "version_minor": 0
      },
      "text/plain": [
       "  0%|          | 0/5758 [00:00<?, ?it/s]"
      ]
     },
     "metadata": {},
     "output_type": "display_data"
    },
    {
     "name": "stdout",
     "output_type": "stream",
     "text": [
      "власть северный корея требовать немедленный возврат дрезина угнать российский дипломат\n",
      "священник рассказать молитва российский олимпиец\n",
      "госдума создать комиссия инспекция зарубежный курорт\n",
      "успешный борьба женщина свой право новый костюм ильич возвращение навальный репрессия трамп еженедельный рубрика панорама неделя\n",
      "новогодний ночь дмитрий песков похитить ус\n",
      "французский табачник забастовать возмущение\n",
      "путин разрешить наказывать просрочка отмена мобильный рабство\n",
      "мосводоканал утвердить график плановый прорыв труба зимний период\n",
      "итальянский футболист повторно уличный употребление кокаин\n",
      "курс доллар приблизиться рубль\n",
      "УДАЛЕНО 10000 слов\n"
     ]
    }
   ],
   "source": [
    "russian_stopwords = stop_words.get_stop_words('ru')\n",
    "count = 0\n",
    "all_words = []\n",
    "all_pre_words = []\n",
    "\n",
    "\n",
    "def sentence_editor(title):\n",
    "    global count\n",
    "    txt = re.sub(pattern, \"\", title)  # удалим все посторонние знаки кроме букв\n",
    "    txt = txt.strip(\" \").lower()  # приведём все буквы к одному регистру\n",
    "    txt = txt.split()  # разделим заголовок на список слов\n",
    "    all_pre_words.extend(txt)\n",
    "    new_txt = []\n",
    "    for word in txt:\n",
    "        word = morph.parse(word)[0].normal_form\n",
    "        if word not in russian_stopwords:  # удалим не несущие смысла слова\n",
    "            new_txt.append(word)\n",
    "        else:\n",
    "            count += 1\n",
    "    all_words.extend(new_txt)\n",
    "    txt = \" \".join(new_txt)\n",
    "    return txt\n",
    "\n",
    "\n",
    "morph = pymorphy2.MorphAnalyzer()\n",
    "new_title = []\n",
    "pattern = \"[^а-яА-Яa-zA-Z ё]\"\n",
    "\n",
    "for txt in tqdm.notebook.tqdm(data.title):\n",
    "    new_title.append(sentence_editor(txt))\n",
    "\n",
    "start = random.randint(0, len(new_title))\n",
    "print(*new_title[start:start + 10], sep=\"\\n\")\n",
    "print(\"УДАЛЕНО\", count, \"слов\")"
   ]
  },
  {
   "cell_type": "markdown",
   "metadata": {
    "papermill": {
     "duration": 0.037522,
     "end_time": "2020-10-22T13:18:59.440141",
     "exception": false,
     "start_time": "2020-10-22T13:18:59.402619",
     "status": "completed"
    },
    "tags": []
   },
   "source": [
    "## 3. Визуализация данных\n",
    "\n",
    "\n",
    "### Есть ли дисбаланс классов?"
   ]
  },
  {
   "cell_type": "code",
   "execution_count": 11,
   "metadata": {
    "execution": {
     "iopub.execute_input": "2020-10-22T13:18:59.520227Z",
     "iopub.status.busy": "2020-10-22T13:18:59.519151Z",
     "iopub.status.idle": "2020-10-22T13:18:59.686725Z",
     "shell.execute_reply": "2020-10-22T13:18:59.685946Z"
    },
    "papermill": {
     "duration": 0.209923,
     "end_time": "2020-10-22T13:18:59.686858",
     "exception": false,
     "start_time": "2020-10-22T13:18:59.476935",
     "status": "completed"
    },
    "tags": []
   },
   "outputs": [
    {
     "data": {
      "text/plain": [
       "<AxesSubplot:xlabel='is_fake', ylabel='count'>"
      ]
     },
     "execution_count": 11,
     "metadata": {},
     "output_type": "execute_result"
    },
    {
     "data": {
      "image/png": "[encoded data removed]",
      "text/plain": [
       "<Figure size 432x288 with 1 Axes>"
      ]
     },
     "metadata": {
      "needs_background": "light"
     },
     "output_type": "display_data"
    }
   ],
   "source": [
    "sns.countplot(x=data[\"is_fake\"])"
   ]
  },
  {
   "cell_type": "markdown",
   "metadata": {
    "papermill": {
     "duration": 0.036091,
     "end_time": "2020-10-22T13:18:59.759379",
     "exception": false,
     "start_time": "2020-10-22T13:18:59.723288",
     "status": "completed"
    },
    "tags": []
   },
   "source": [
    "* Колличество фейковых и реальных новостей полностью совпадает, что не может не радовать"
   ]
  },
  {
   "cell_type": "markdown",
   "metadata": {},
   "source": [
    "### Топ самых частых слов до удаления стоп-слов"
   ]
  },
  {
   "cell_type": "code",
   "execution_count": 12,
   "metadata": {},
   "outputs": [],
   "source": [
    "NUMBER = 30\n",
    "count_words = {}\n",
    "for word in all_pre_words:\n",
    "    if word in count_words:\n",
    "        count_words[word] += 1\n",
    "    else:\n",
    "        count_words[word] = 1\n",
    "\n",
    "most_frequency_words = {\"word\": sorted(count_words, key=lambda x: -count_words[x])[:NUMBER], \n",
    "                        \"number\": []}\n",
    "for word in most_frequency_words[\"word\"]:\n",
    "    most_frequency_words[\"number\"].append(count_words[word])\n"
   ]
  },
  {
   "cell_type": "code",
   "execution_count": 13,
   "metadata": {},
   "outputs": [
    {
     "data": {
      "image/png": "[encoded data removed]",
      "text/plain": [
       "<Figure size 1008x576 with 1 Axes>"
      ]
     },
     "metadata": {
      "needs_background": "light"
     },
     "output_type": "display_data"
    }
   ],
   "source": [
    "plt.figure(figsize=(14,8))\n",
    "plt.barh(most_frequency_words[\"word\"][::-1], most_frequency_words[\"number\"][::-1])\n",
    "plt.ylabel(\"Слова\")\n",
    "plt.xlabel(\"Колличество\")\n",
    "plt.title(\"Топ %d слов в заголовках перед удалением стоп слов\" % (NUMBER))\n",
    "plt.grid(True)"
   ]
  },
  {
   "cell_type": "code",
   "execution_count": 14,
   "metadata": {},
   "outputs": [],
   "source": [
    "NUMBER = 30\n",
    "count_words = {}\n",
    "for word in all_words:\n",
    "    if word in count_words:\n",
    "        count_words[word] += 1\n",
    "    else:\n",
    "        count_words[word] = 1\n",
    "\n",
    "most_frequency_words = {\"word\": sorted(count_words, key=lambda x: -count_words[x])[:NUMBER], \n",
    "                        \"number\": []}\n",
    "for word in most_frequency_words[\"word\"]:\n",
    "    most_frequency_words[\"number\"].append(count_words[word])\n"
   ]
  },
  {
   "cell_type": "code",
   "execution_count": 15,
   "metadata": {},
   "outputs": [
    {
     "data": {
      "image/png": "[encoded data removed]",
      "text/plain": [
       "<Figure size 1008x576 with 1 Axes>"
      ]
     },
     "metadata": {
      "needs_background": "light"
     },
     "output_type": "display_data"
    }
   ],
   "source": [
    "plt.figure(figsize=(14,8))\n",
    "plt.barh(most_frequency_words[\"word\"][::-1], most_frequency_words[\"number\"][::-1])\n",
    "plt.ylabel(\"Слова\")\n",
    "plt.xlabel(\"Колличество\")\n",
    "plt.title(\"Топ %d слов в заголовках после удаления стоп слов\" % (NUMBER))\n",
    "plt.grid(True)"
   ]
  },
  {
   "cell_type": "markdown",
   "metadata": {},
   "source": [
    "## 4. Переведём каждый обработанный заголовок в векторное представление\n",
    "* с помощью контекстуализированной модели от RusVectōrēs натренерованной на около 10 миллиардов слов\n",
    "* будем создавать вектор для каждого слова, а в качестве вектора предложения будем брать среднее значение между всеми словами в нём"
   ]
  },
  {
   "cell_type": "code",
   "execution_count": 16,
   "metadata": {},
   "outputs": [],
   "source": [
    "NEED_NEW_EMBENDINGS = False  # чтобы при каждом запуске кода не ждать пока фичи посчитаются"
   ]
  },
  {
   "cell_type": "code",
   "execution_count": 17,
   "metadata": {},
   "outputs": [
    {
     "data": {
      "text/plain": [
       "'москвич владимир клутина прийти счёт вмешательство американский выборы'"
      ]
     },
     "execution_count": 17,
     "metadata": {},
     "output_type": "execute_result"
    }
   ],
   "source": [
    "new_title[0]"
   ]
  },
  {
   "cell_type": "markdown",
   "metadata": {},
   "source": [
    "* создадим массив векторного представления заголовков"
   ]
  },
  {
   "cell_type": "code",
   "execution_count": 18,
   "metadata": {},
   "outputs": [],
   "source": [
    "if NEED_NEW_EMBENDINGS:\n",
    "    elmo_model = ElmoModel()\n",
    "    elmo_model.load(\"sentence_embender\")\n",
    "\n",
    "    title_matrix = np.array([[0] * 1024], dtype=float)\n",
    "    batch_size = 32\n",
    "    for i in tqdm.notebook.tqdm(range(0, len(new_title), batch_size)):\n",
    "        title_matrix = np.append(title_matrix, \n",
    "                                 elmo_model.get_elmo_vector_average([x.split() for x in new_title[i:i + batch_size]]),\n",
    "                                 axis=0)\n",
    "\n",
    "    title_matrix = np.delete(title_matrix, 0, axis=0)\n",
    "    title_matrix = np.concatenate((title_matrix, [[x] for x in new_title]), axis=1)\n",
    "    title_matrix = np.concatenate((title_matrix, [[x] for x in data.title]), axis=1)\n",
    "    with open('files/title_embendings.pickle', 'wb') as f:\n",
    "        pickle.dump(title_matrix, f)\n",
    "else:\n",
    "    with open('files/title_embendings.pickle', 'rb') as f:\n",
    "        title_matrix = pickle.load(f)"
   ]
  },
  {
   "cell_type": "markdown",
   "metadata": {},
   "source": [
    "* проверим, что размерность не изменилась"
   ]
  },
  {
   "cell_type": "code",
   "execution_count": 19,
   "metadata": {
    "execution": {
     "iopub.execute_input": "2020-10-22T13:25:07.162902Z",
     "iopub.status.busy": "2020-10-22T13:25:07.161827Z",
     "iopub.status.idle": "2020-10-22T13:25:07.168882Z",
     "shell.execute_reply": "2020-10-22T13:25:07.169617Z"
    },
    "papermill": {
     "duration": 0.087527,
     "end_time": "2020-10-22T13:25:07.169863",
     "exception": false,
     "start_time": "2020-10-22T13:25:07.082336",
     "status": "completed"
    },
    "tags": []
   },
   "outputs": [
    {
     "name": "stdout",
     "output_type": "stream",
     "text": [
      "(5758, 2)\n",
      "(5758, 1026)\n"
     ]
    }
   ],
   "source": [
    "print(data.shape)\n",
    "print(title_matrix.shape)"
   ]
  },
  {
   "cell_type": "markdown",
   "metadata": {},
   "source": [
    "## 5. Разделим датасет на обучающую, валидационную и тестовую подвыборки"
   ]
  },
  {
   "cell_type": "markdown",
   "metadata": {},
   "source": [
    "* пусть элементом множества X будет массив, содержащий текстовое и векторное представления заголовков новостей\n",
    "* элементы множества Y - лейбл к соответствующему заголовку"
   ]
  },
  {
   "cell_type": "code",
   "execution_count": 20,
   "metadata": {
    "execution": {
     "iopub.execute_input": "2020-10-22T13:25:07.293223Z",
     "iopub.status.busy": "2020-10-22T13:25:07.292330Z",
     "iopub.status.idle": "2020-10-22T13:25:09.288942Z",
     "shell.execute_reply": "2020-10-22T13:25:09.288112Z"
    },
    "papermill": {
     "duration": 2.062523,
     "end_time": "2020-10-22T13:25:09.289101",
     "exception": false,
     "start_time": "2020-10-22T13:25:07.226578",
     "status": "completed"
    },
    "tags": []
   },
   "outputs": [],
   "source": [
    "x = title_matrix\n",
    "y = np.array([np.array(data[data.title == title[-1]].is_fake)[0] for title in x])"
   ]
  },
  {
   "cell_type": "code",
   "execution_count": 21,
   "metadata": {},
   "outputs": [
    {
     "data": {
      "text/plain": [
       "array([['-0.025353217963431325', '-0.03899200585072359',\n",
       "        '-0.012223210954359626', ..., '-0.07846261611320571',\n",
       "        'москвич владимир клутина прийти счёт вмешательство американский выборы',\n",
       "        'Москвичу Владимиру Клутину пришёл счёт за вмешательство в американские выборы'],\n",
       "       ['0.0055339119336639325', '0.010116062420100415',\n",
       "        '0.002806860720301394', ..., '-0.06257945077044548',\n",
       "        'агент кокорин назвать езда встречка житейский история',\n",
       "        'Агент Кокорина назвал езду по встречке житейской историей'],\n",
       "       ['0.017482594833686117', '-0.08266218525385828',\n",
       "        '0.014771586332479575', ..., '-0.020353627978579585',\n",
       "        'госдума рассмотреть возможность введение секретный стать уголовный кодекс',\n",
       "        'Госдума рассмотрит возможность введения секретных статей Уголовного кодекса'],\n",
       "       ...,\n",
       "       ['-0.020829642732216675', '-0.03746267815599863',\n",
       "        '0.02485347549806252', ..., '-0.0175713604959743',\n",
       "        'стыдно дед новый канцлер фрг обратиться речь бундестаг',\n",
       "        '«Мне стыдно перед дедом»: новый канцлер ФРГ обратился с первой речью к Бундестагу'],\n",
       "       ['-0.020441723371993712', '-0.00859203528694557',\n",
       "        '0.02979059121466816', ..., '-0.05194766314884742',\n",
       "        'туркмения декабрь начать поставка газ китай',\n",
       "        'Туркмения в декабре начнет поставки газа в Китай'],\n",
       "       ['-0.023272885309655704', '0.008665957894524304',\n",
       "        '0.04569557344505567', ..., '-0.08065423996282528',\n",
       "        'бывший тренер локомотив возглавить нальчикский спартак',\n",
       "        'Бывший тренер Локомотива возглавил нальчикский Спартак']],\n",
       "      dtype='<U211')"
      ]
     },
     "execution_count": 21,
     "metadata": {},
     "output_type": "execute_result"
    }
   ],
   "source": [
    "x"
   ]
  },
  {
   "cell_type": "code",
   "execution_count": 22,
   "metadata": {
    "execution": {
     "iopub.execute_input": "2020-10-22T13:25:09.485680Z",
     "iopub.status.busy": "2020-10-22T13:25:09.484491Z",
     "iopub.status.idle": "2020-10-22T13:25:09.489504Z",
     "shell.execute_reply": "2020-10-22T13:25:09.490606Z"
    },
    "papermill": {
     "duration": 0.059416,
     "end_time": "2020-10-22T13:25:09.490885",
     "exception": false,
     "start_time": "2020-10-22T13:25:09.431469",
     "status": "completed"
    },
    "tags": []
   },
   "outputs": [
    {
     "name": "stdout",
     "output_type": "stream",
     "text": [
      "(5758, 1026)\n",
      "(5758,)\n"
     ]
    }
   ],
   "source": [
    "print(x.shape)\n",
    "print(y.shape)"
   ]
  },
  {
   "cell_type": "markdown",
   "metadata": {},
   "source": [
    "* сначала разделим датасет на трейн и тест, а потом трейн разделим на трейн и вал"
   ]
  },
  {
   "cell_type": "code",
   "execution_count": 23,
   "metadata": {
    "execution": {
     "iopub.execute_input": "2020-10-22T13:25:09.596710Z",
     "iopub.status.busy": "2020-10-22T13:25:09.595872Z",
     "iopub.status.idle": "2020-10-22T13:25:11.184121Z",
     "shell.execute_reply": "2020-10-22T13:25:11.182844Z"
    },
    "papermill": {
     "duration": 1.647102,
     "end_time": "2020-10-22T13:25:11.184369",
     "exception": false,
     "start_time": "2020-10-22T13:25:09.537267",
     "status": "completed"
    },
    "tags": []
   },
   "outputs": [],
   "source": [
    "from sklearn.model_selection import train_test_split\n",
    "\n",
    "# Train Test Split\n",
    "X_train, X_test, Y_train, Y_test = train_test_split(x, np.array(y), test_size=0.15, random_state=1, shuffle=True)\n",
    "X_train, X_val, Y_train, Y_val = train_test_split(X_train, Y_train, test_size=0.15, random_state=1, shuffle=True)"
   ]
  },
  {
   "cell_type": "markdown",
   "metadata": {},
   "source": [
    "* создадим отдельный массив с текстовым представлением заголовков для каждой подвыборки"
   ]
  },
  {
   "cell_type": "code",
   "execution_count": 24,
   "metadata": {},
   "outputs": [],
   "source": [
    "train_title = [x[-2] for x in X_train]\n",
    "test_title = [x[-2] for x in X_test]\n",
    "val_title = [x[-2] for x in X_val]\n",
    "\n",
    "train_title_raw = [x[-1] for x in X_train]\n",
    "test_title_raw = [x[-1] for x in X_test]\n",
    "val_title_raw = [x[-1] for x in X_val]\n",
    "\n",
    "X_train = np.array([x[:-2] for x in X_train], dtype=np.float64)\n",
    "X_test = np.array([x[:-2] for x in X_test], dtype=np.float64)\n",
    "X_val = np.array([x[:-2] for x in X_val], dtype=np.float64)"
   ]
  },
  {
   "cell_type": "code",
   "execution_count": 25,
   "metadata": {},
   "outputs": [
    {
     "name": "stdout",
     "output_type": "stream",
     "text": [
      "(4159, 1024)\n",
      "(864, 1024)\n",
      "(735, 1024)\n",
      "(4159,)\n",
      "(864,)\n",
      "(735,)\n"
     ]
    }
   ],
   "source": [
    "print(X_train.shape)\n",
    "print(X_test.shape)\n",
    "print(X_val.shape)\n",
    "print(Y_train.shape)\n",
    "print(Y_test.shape)\n",
    "print(Y_val.shape)"
   ]
  },
  {
   "cell_type": "markdown",
   "metadata": {
    "papermill": {
     "duration": 0.045765,
     "end_time": "2020-10-22T13:25:11.277268",
     "exception": false,
     "start_time": "2020-10-22T13:25:11.231503",
     "status": "completed"
    },
    "tags": []
   },
   "source": [
    "## 6. Здесь определяем саму линейную модель"
   ]
  },
  {
   "cell_type": "code",
   "execution_count": 26,
   "metadata": {
    "execution": {
     "iopub.execute_input": "2020-10-22T13:25:11.384792Z",
     "iopub.status.busy": "2020-10-22T13:25:11.381658Z",
     "iopub.status.idle": "2020-10-22T13:25:11.537188Z",
     "shell.execute_reply": "2020-10-22T13:25:11.536506Z"
    },
    "papermill": {
     "duration": 0.215291,
     "end_time": "2020-10-22T13:25:11.537349",
     "exception": false,
     "start_time": "2020-10-22T13:25:11.322058",
     "status": "completed"
    },
    "tags": []
   },
   "outputs": [],
   "source": [
    "class ANN(nn.Module):\n",
    "    \n",
    "    def __init__(self):\n",
    "        \n",
    "        super(ANN, self).__init__()\n",
    "        \n",
    "        self.linear1 = nn.Linear(1024, 800)\n",
    "        self.relu1 = nn.ReLU6()\n",
    "        \n",
    "        self.linear2 = nn.Linear(800, 600)\n",
    "        self.relu2 = nn.ReLU6()\n",
    "        \n",
    "        self.linear3 = nn.Linear(600, 500)\n",
    "        self.relu3 = nn.ReLU6()\n",
    "        \n",
    "        self.linear4 = nn.Linear(500, 300)\n",
    "        self.relu4 = nn.ReLU6()\n",
    "        \n",
    "        self.linear5 = nn.Linear(300, 100)\n",
    "        self.relu5 = nn.ReLU6()\n",
    "        \n",
    "        self.linear6 = nn.Linear(100, 20)\n",
    "        self.relu6 = nn.ReLU6()\n",
    "\n",
    "        self.linear7 = nn.Linear(20, 2)\n",
    "        \n",
    "    \n",
    "    def forward(self, x):\n",
    "        \n",
    "        out = self.linear1(x)\n",
    "        out = self.relu1(out)\n",
    "        \n",
    "        out = self.linear2(out) \n",
    "        out = self.relu2(out)\n",
    "        \n",
    "        out = self.linear3(out)\n",
    "        out = self.relu3(out)\n",
    "        \n",
    "        out = self.linear4(out)\n",
    "        out = self.relu4(out)\n",
    "        \n",
    "        out = self.linear5(out)\n",
    "        out = self.relu5(out)\n",
    "        \n",
    "        out = self.linear6(out)\n",
    "        out = self.relu6(out)\n",
    "        \n",
    "        out = self.linear7(out)\n",
    "\n",
    "        return out"
   ]
  },
  {
   "cell_type": "markdown",
   "metadata": {
    "papermill": {
     "duration": 0.045839,
     "end_time": "2020-10-22T13:25:11.722970",
     "exception": false,
     "start_time": "2020-10-22T13:25:11.677131",
     "status": "completed"
    },
    "tags": []
   },
   "source": [
    "## 7. Переходим к самому скрипту обучения - циклы трейна и валидации"
   ]
  },
  {
   "cell_type": "code",
   "execution_count": 27,
   "metadata": {
    "execution": {
     "iopub.execute_input": "2020-10-22T13:25:11.823570Z",
     "iopub.status.busy": "2020-10-22T13:25:11.822752Z",
     "iopub.status.idle": "2020-10-22T13:29:38.802313Z",
     "shell.execute_reply": "2020-10-22T13:29:38.803213Z"
    },
    "papermill": {
     "duration": 267.03556,
     "end_time": "2020-10-22T13:29:38.803483",
     "exception": false,
     "start_time": "2020-10-22T13:25:11.767923",
     "status": "completed"
    },
    "scrolled": true,
    "tags": []
   },
   "outputs": [],
   "source": [
    "def train_loop(model, optimizer, criterion, X_train, Y_train):\n",
    "    model.train()\n",
    "    model.zero_grad()\n",
    "\n",
    "    optimizer.zero_grad()\n",
    "\n",
    "    outs = model(X_train)\n",
    "    loss = criterion(outs, Y_train)\n",
    "\n",
    "    loss.backward()\n",
    "    torch.nn.utils.clip_grad_norm_(model.parameters(), 2)\n",
    "    optimizer.step()\n",
    "    return round(float(loss), 4)\n",
    "\n",
    "\n",
    "def val_loop(model, X_val, Y_val):\n",
    "    model.eval()\n",
    "    test_pred = torch.max(model(X_val), 1)[1]\n",
    "    return round(float(f1_score(test_pred, Y_val)), 4)\n",
    "    \n",
    "\n",
    "def train(X_train, Y_train, X_val, Y_val, EPOCHS=200):\n",
    "    model = ANN()\n",
    "    optimizer = torch.optim.Adam(model.parameters(), lr=0.001)\n",
    "    criterion = nn.CrossEntropyLoss()\n",
    "    scheduler = torch.optim.lr_scheduler.ReduceLROnPlateau(\n",
    "            optimizer=optimizer, mode='max', factor=0.75, patience=15)\n",
    "\n",
    "    val_f1_score_history = [0]\n",
    "    best_model = None\n",
    "\n",
    "    X_train = torch.Tensor(X_train)\n",
    "    Y_train = torch.Tensor(np.array(Y_train, dtype=np.float64)).type(torch.LongTensor)\n",
    "    X_val = torch.Tensor(X_val)\n",
    "    Y_val = torch.Tensor(Y_val)\n",
    "\n",
    "    for epoch in range(EPOCHS):\n",
    "        loss = train_loop(model, optimizer, criterion, X_train, Y_train)\n",
    "        f1_score = val_loop(model, X_val, Y_val)\n",
    "        scheduler.step(f1_score)\n",
    "\n",
    "        for param_group in optimizer.param_groups:\n",
    "            lr = param_group['lr']\n",
    "        print(f\"Loss after iteration {epoch} is {loss:.4f}\",\n",
    "              f\"val f1-score: {f1_score:.4f}\", \n",
    "              f\"lr: {lr}\", sep=\"    \")\n",
    "\n",
    "        if f1_score > max(val_f1_score_history) and f1_score > 0.86:\n",
    "            model_save_path = os.path.join(\n",
    "                    \"save_dir\", f'model-{val_f1_score_history[-1]:.4f}.ckpt')\n",
    "            torch.save(model.state_dict(), model_save_path)\n",
    "            best_model = deepcopy(model)\n",
    "            print(\"MODEL SAVED\")\n",
    "        \n",
    "        val_f1_score_history.append(f1_score)\n",
    "    return val_f1_score_history, best_model\n"
   ]
  },
  {
   "cell_type": "markdown",
   "metadata": {},
   "source": [
    "# 8. Запускаем обучение!"
   ]
  },
  {
   "cell_type": "code",
   "execution_count": 28,
   "metadata": {
    "scrolled": true
   },
   "outputs": [
    {
     "name": "stdout",
     "output_type": "stream",
     "text": [
      "Loss after iteration 0 is 0.7054    val f1-score: 0.6612    lr: 0.001\n",
      "Loss after iteration 1 is 0.7040    val f1-score: 0.6612    lr: 0.001\n",
      "Loss after iteration 2 is 0.7025    val f1-score: 0.6612    lr: 0.001\n",
      "Loss after iteration 3 is 0.7003    val f1-score: 0.6612    lr: 0.001\n",
      "Loss after iteration 4 is 0.6967    val f1-score: 0.6612    lr: 0.001\n",
      "Loss after iteration 5 is 0.6913    val f1-score: 0.6612    lr: 0.001\n",
      "Loss after iteration 6 is 0.6819    val f1-score: 0.7074    lr: 0.001\n",
      "Loss after iteration 7 is 0.6657    val f1-score: 0.8169    lr: 0.001\n",
      "Loss after iteration 8 is 0.6398    val f1-score: 0.7697    lr: 0.001\n",
      "Loss after iteration 9 is 0.6044    val f1-score: 0.7318    lr: 0.001\n",
      "Loss after iteration 10 is 0.5638    val f1-score: 0.7288    lr: 0.001\n",
      "Loss after iteration 11 is 0.5305    val f1-score: 0.7630    lr: 0.001\n",
      "Loss after iteration 12 is 0.5086    val f1-score: 0.8040    lr: 0.001\n",
      "Loss after iteration 13 is 0.4891    val f1-score: 0.8340    lr: 0.001\n",
      "Loss after iteration 14 is 0.4818    val f1-score: 0.8399    lr: 0.001\n",
      "Loss after iteration 15 is 0.4793    val f1-score: 0.8395    lr: 0.001\n",
      "Loss after iteration 16 is 0.4706    val f1-score: 0.8443    lr: 0.001\n",
      "Loss after iteration 17 is 0.4648    val f1-score: 0.8389    lr: 0.001\n",
      "Loss after iteration 18 is 0.4608    val f1-score: 0.8433    lr: 0.001\n",
      "Loss after iteration 19 is 0.4503    val f1-score: 0.8391    lr: 0.001\n",
      "Loss after iteration 20 is 0.4415    val f1-score: 0.8429    lr: 0.001\n",
      "Loss after iteration 21 is 0.4327    val f1-score: 0.8444    lr: 0.001\n",
      "Loss after iteration 22 is 0.4201    val f1-score: 0.8568    lr: 0.001\n",
      "Loss after iteration 23 is 0.4104    val f1-score: 0.8560    lr: 0.001\n",
      "Loss after iteration 24 is 0.3966    val f1-score: 0.8505    lr: 0.001\n",
      "Loss after iteration 25 is 0.3835    val f1-score: 0.8490    lr: 0.001\n",
      "Loss after iteration 26 is 0.3673    val f1-score: 0.8537    lr: 0.001\n",
      "Loss after iteration 27 is 0.3482    val f1-score: 0.8537    lr: 0.001\n",
      "Loss after iteration 28 is 0.3280    val f1-score: 0.8500    lr: 0.001\n",
      "Loss after iteration 29 is 0.3065    val f1-score: 0.8538    lr: 0.001\n",
      "Loss after iteration 30 is 0.2877    val f1-score: 0.8526    lr: 0.001\n",
      "Loss after iteration 31 is 0.2748    val f1-score: 0.8537    lr: 0.001\n",
      "Loss after iteration 32 is 0.2699    val f1-score: 0.8598    lr: 0.001\n",
      "Loss after iteration 33 is 0.2690    val f1-score: 0.8591    lr: 0.001\n",
      "Loss after iteration 34 is 0.2636    val f1-score: 0.8568    lr: 0.001\n",
      "Loss after iteration 35 is 0.2520    val f1-score: 0.8571    lr: 0.001\n",
      "Loss after iteration 36 is 0.2391    val f1-score: 0.8657    lr: 0.001\n",
      "MODEL SAVED\n",
      "Loss after iteration 37 is 0.2281    val f1-score: 0.8556    lr: 0.001\n",
      "Loss after iteration 38 is 0.2182    val f1-score: 0.8641    lr: 0.001\n",
      "Loss after iteration 39 is 0.2104    val f1-score: 0.8621    lr: 0.001\n",
      "Loss after iteration 40 is 0.2039    val f1-score: 0.8587    lr: 0.001\n",
      "Loss after iteration 41 is 0.1981    val f1-score: 0.8579    lr: 0.001\n",
      "Loss after iteration 42 is 0.1927    val f1-score: 0.8609    lr: 0.001\n",
      "Loss after iteration 43 is 0.1896    val f1-score: 0.8697    lr: 0.001\n",
      "MODEL SAVED\n",
      "Loss after iteration 44 is 0.1859    val f1-score: 0.8616    lr: 0.001\n",
      "Loss after iteration 45 is 0.1764    val f1-score: 0.8660    lr: 0.001\n",
      "Loss after iteration 46 is 0.1630    val f1-score: 0.8689    lr: 0.001\n",
      "Loss after iteration 47 is 0.1620    val f1-score: 0.8594    lr: 0.001\n",
      "Loss after iteration 48 is 0.1576    val f1-score: 0.8675    lr: 0.001\n",
      "Loss after iteration 49 is 0.1450    val f1-score: 0.8650    lr: 0.001\n",
      "Loss after iteration 50 is 0.1458    val f1-score: 0.8594    lr: 0.001\n",
      "Loss after iteration 51 is 0.1455    val f1-score: 0.8660    lr: 0.001\n",
      "Loss after iteration 52 is 0.1278    val f1-score: 0.8660    lr: 0.001\n",
      "Loss after iteration 53 is 0.1363    val f1-score: 0.8681    lr: 0.001\n",
      "Loss after iteration 54 is 0.1310    val f1-score: 0.8723    lr: 0.001\n",
      "MODEL SAVED\n",
      "Loss after iteration 55 is 0.1191    val f1-score: 0.8685    lr: 0.001\n",
      "Loss after iteration 56 is 0.1185    val f1-score: 0.8615    lr: 0.001\n",
      "Loss after iteration 57 is 0.1051    val f1-score: 0.8698    lr: 0.001\n",
      "Loss after iteration 58 is 0.1054    val f1-score: 0.8634    lr: 0.001\n",
      "Loss after iteration 59 is 0.0966    val f1-score: 0.8668    lr: 0.001\n",
      "Loss after iteration 60 is 0.0962    val f1-score: 0.8571    lr: 0.001\n",
      "Loss after iteration 61 is 0.0875    val f1-score: 0.8660    lr: 0.001\n",
      "Loss after iteration 62 is 0.0852    val f1-score: 0.8579    lr: 0.001\n",
      "Loss after iteration 63 is 0.0792    val f1-score: 0.8647    lr: 0.001\n",
      "Loss after iteration 64 is 0.0776    val f1-score: 0.8626    lr: 0.001\n",
      "Loss after iteration 65 is 0.0727    val f1-score: 0.8649    lr: 0.001\n",
      "Loss after iteration 66 is 0.0699    val f1-score: 0.8662    lr: 0.001\n",
      "Loss after iteration 67 is 0.0658    val f1-score: 0.8643    lr: 0.001\n",
      "Loss after iteration 68 is 0.0634    val f1-score: 0.8666    lr: 0.001\n",
      "Loss after iteration 69 is 0.0588    val f1-score: 0.8622    lr: 0.001\n",
      "Loss after iteration 70 is 0.0556    val f1-score: 0.8690    lr: 0.00075\n",
      "Loss after iteration 71 is 0.0508    val f1-score: 0.8667    lr: 0.00075\n",
      "Loss after iteration 72 is 0.0484    val f1-score: 0.8669    lr: 0.00075\n",
      "Loss after iteration 73 is 0.0442    val f1-score: 0.8665    lr: 0.00075\n",
      "Loss after iteration 74 is 0.0420    val f1-score: 0.8669    lr: 0.00075\n",
      "Loss after iteration 75 is 0.0390    val f1-score: 0.8733    lr: 0.00075\n",
      "MODEL SAVED\n",
      "Loss after iteration 76 is 0.0379    val f1-score: 0.8721    lr: 0.00075\n",
      "Loss after iteration 77 is 0.0357    val f1-score: 0.8712    lr: 0.00075\n",
      "Loss after iteration 78 is 0.0344    val f1-score: 0.8724    lr: 0.00075\n",
      "Loss after iteration 79 is 0.0323    val f1-score: 0.8733    lr: 0.00075\n",
      "Loss after iteration 80 is 0.0296    val f1-score: 0.8717    lr: 0.00075\n",
      "Loss after iteration 81 is 0.0282    val f1-score: 0.8748    lr: 0.00075\n",
      "MODEL SAVED\n",
      "Loss after iteration 82 is 0.0267    val f1-score: 0.8719    lr: 0.00075\n",
      "Loss after iteration 83 is 0.0257    val f1-score: 0.8714    lr: 0.00075\n",
      "Loss after iteration 84 is 0.0248    val f1-score: 0.8719    lr: 0.00075\n",
      "Loss after iteration 85 is 0.0233    val f1-score: 0.8755    lr: 0.00075\n",
      "MODEL SAVED\n",
      "Loss after iteration 86 is 0.0226    val f1-score: 0.8755    lr: 0.00075\n",
      "Loss after iteration 87 is 0.0221    val f1-score: 0.8759    lr: 0.00075\n",
      "MODEL SAVED\n",
      "Loss after iteration 88 is 0.0215    val f1-score: 0.8723    lr: 0.00075\n",
      "Loss after iteration 89 is 0.0202    val f1-score: 0.8698    lr: 0.00075\n",
      "Loss after iteration 90 is 0.0192    val f1-score: 0.8698    lr: 0.00075\n",
      "Loss after iteration 91 is 0.0174    val f1-score: 0.8706    lr: 0.00075\n",
      "Loss after iteration 92 is 0.0158    val f1-score: 0.8730    lr: 0.00075\n",
      "Loss after iteration 93 is 0.0146    val f1-score: 0.8730    lr: 0.00075\n",
      "Loss after iteration 94 is 0.0137    val f1-score: 0.8723    lr: 0.00075\n",
      "Loss after iteration 95 is 0.0129    val f1-score: 0.8723    lr: 0.00075\n",
      "Loss after iteration 96 is 0.0125    val f1-score: 0.8735    lr: 0.00075\n",
      "Loss after iteration 97 is 0.0123    val f1-score: 0.8747    lr: 0.00075\n",
      "Loss after iteration 98 is 0.0121    val f1-score: 0.8759    lr: 0.00075\n",
      "Loss after iteration 99 is 0.0119    val f1-score: 0.8759    lr: 0.00075\n",
      "Loss after iteration 100 is 0.0117    val f1-score: 0.8723    lr: 0.00075\n",
      "Loss after iteration 101 is 0.0112    val f1-score: 0.8742    lr: 0.00075\n",
      "Loss after iteration 102 is 0.0107    val f1-score: 0.8742    lr: 0.00075\n",
      "Loss after iteration 103 is 0.0106    val f1-score: 0.8759    lr: 0.0005625000000000001\n",
      "Loss after iteration 104 is 0.0103    val f1-score: 0.8770    lr: 0.0005625000000000001\n",
      "MODEL SAVED\n",
      "Loss after iteration 105 is 0.0102    val f1-score: 0.8770    lr: 0.0005625000000000001\n",
      "Loss after iteration 106 is 0.0100    val f1-score: 0.8770    lr: 0.0005625000000000001\n",
      "Loss after iteration 107 is 0.0093    val f1-score: 0.8747    lr: 0.0005625000000000001\n",
      "Loss after iteration 108 is 0.0083    val f1-score: 0.8742    lr: 0.0005625000000000001\n",
      "Loss after iteration 109 is 0.0082    val f1-score: 0.8750    lr: 0.0005625000000000001\n",
      "Loss after iteration 110 is 0.0080    val f1-score: 0.8782    lr: 0.0005625000000000001\n",
      "MODEL SAVED\n",
      "Loss after iteration 111 is 0.0077    val f1-score: 0.8776    lr: 0.0005625000000000001\n"
     ]
    },
    {
     "name": "stdout",
     "output_type": "stream",
     "text": [
      "Loss after iteration 112 is 0.0077    val f1-score: 0.8797    lr: 0.0005625000000000001\n",
      "MODEL SAVED\n",
      "Loss after iteration 113 is 0.0077    val f1-score: 0.8797    lr: 0.0005625000000000001\n",
      "Loss after iteration 114 is 0.0077    val f1-score: 0.8785    lr: 0.0005625000000000001\n",
      "Loss after iteration 115 is 0.0076    val f1-score: 0.8772    lr: 0.0005625000000000001\n",
      "Loss after iteration 116 is 0.0075    val f1-score: 0.8779    lr: 0.0005625000000000001\n",
      "Loss after iteration 117 is 0.0075    val f1-score: 0.8774    lr: 0.0005625000000000001\n",
      "Loss after iteration 118 is 0.0075    val f1-score: 0.8774    lr: 0.0005625000000000001\n",
      "Loss after iteration 119 is 0.0075    val f1-score: 0.8762    lr: 0.0005625000000000001\n",
      "Loss after iteration 120 is 0.0075    val f1-score: 0.8777    lr: 0.0005625000000000001\n",
      "Loss after iteration 121 is 0.0075    val f1-score: 0.8777    lr: 0.0005625000000000001\n",
      "Loss after iteration 122 is 0.0074    val f1-score: 0.8777    lr: 0.0005625000000000001\n",
      "Loss after iteration 123 is 0.0074    val f1-score: 0.8782    lr: 0.0005625000000000001\n",
      "Loss after iteration 124 is 0.0074    val f1-score: 0.8795    lr: 0.0005625000000000001\n",
      "Loss after iteration 125 is 0.0074    val f1-score: 0.8795    lr: 0.0005625000000000001\n",
      "Loss after iteration 126 is 0.0074    val f1-score: 0.8779    lr: 0.0005625000000000001\n",
      "Loss after iteration 127 is 0.0074    val f1-score: 0.8791    lr: 0.0005625000000000001\n",
      "Loss after iteration 128 is 0.0074    val f1-score: 0.8791    lr: 0.00042187500000000005\n",
      "Loss after iteration 129 is 0.0074    val f1-score: 0.8791    lr: 0.00042187500000000005\n",
      "Loss after iteration 130 is 0.0074    val f1-score: 0.8791    lr: 0.00042187500000000005\n",
      "Loss after iteration 131 is 0.0074    val f1-score: 0.8791    lr: 0.00042187500000000005\n",
      "Loss after iteration 132 is 0.0073    val f1-score: 0.8791    lr: 0.00042187500000000005\n",
      "Loss after iteration 133 is 0.0073    val f1-score: 0.8803    lr: 0.00042187500000000005\n",
      "MODEL SAVED\n",
      "Loss after iteration 134 is 0.0073    val f1-score: 0.8803    lr: 0.00042187500000000005\n",
      "Loss after iteration 135 is 0.0073    val f1-score: 0.8803    lr: 0.00042187500000000005\n",
      "Loss after iteration 136 is 0.0073    val f1-score: 0.8803    lr: 0.00042187500000000005\n",
      "Loss after iteration 137 is 0.0073    val f1-score: 0.8803    lr: 0.00042187500000000005\n",
      "Loss after iteration 138 is 0.0073    val f1-score: 0.8803    lr: 0.00042187500000000005\n",
      "Loss after iteration 139 is 0.0073    val f1-score: 0.8791    lr: 0.00042187500000000005\n",
      "Loss after iteration 140 is 0.0073    val f1-score: 0.8791    lr: 0.00042187500000000005\n",
      "Loss after iteration 141 is 0.0073    val f1-score: 0.8791    lr: 0.00042187500000000005\n",
      "Loss after iteration 142 is 0.0073    val f1-score: 0.8791    lr: 0.00042187500000000005\n",
      "Loss after iteration 143 is 0.0073    val f1-score: 0.8791    lr: 0.00042187500000000005\n",
      "Loss after iteration 144 is 0.0073    val f1-score: 0.8779    lr: 0.00042187500000000005\n",
      "Loss after iteration 145 is 0.0073    val f1-score: 0.8779    lr: 0.00042187500000000005\n",
      "Loss after iteration 146 is 0.0073    val f1-score: 0.8779    lr: 0.00042187500000000005\n",
      "Loss after iteration 147 is 0.0073    val f1-score: 0.8779    lr: 0.00042187500000000005\n",
      "Loss after iteration 148 is 0.0073    val f1-score: 0.8795    lr: 0.00042187500000000005\n",
      "Loss after iteration 149 is 0.0073    val f1-score: 0.8795    lr: 0.00031640625000000006\n",
      "Loss after iteration 150 is 0.0073    val f1-score: 0.8795    lr: 0.00031640625000000006\n",
      "Loss after iteration 151 is 0.0073    val f1-score: 0.8795    lr: 0.00031640625000000006\n",
      "Loss after iteration 152 is 0.0073    val f1-score: 0.8795    lr: 0.00031640625000000006\n",
      "Loss after iteration 153 is 0.0073    val f1-score: 0.8795    lr: 0.00031640625000000006\n",
      "Loss after iteration 154 is 0.0073    val f1-score: 0.8807    lr: 0.00031640625000000006\n",
      "MODEL SAVED\n",
      "Loss after iteration 155 is 0.0073    val f1-score: 0.8807    lr: 0.00031640625000000006\n",
      "Loss after iteration 156 is 0.0073    val f1-score: 0.8807    lr: 0.00031640625000000006\n",
      "Loss after iteration 157 is 0.0073    val f1-score: 0.8791    lr: 0.00031640625000000006\n",
      "Loss after iteration 158 is 0.0073    val f1-score: 0.8791    lr: 0.00031640625000000006\n",
      "Loss after iteration 159 is 0.0073    val f1-score: 0.8791    lr: 0.00031640625000000006\n",
      "Loss after iteration 160 is 0.0073    val f1-score: 0.8791    lr: 0.00031640625000000006\n",
      "Loss after iteration 161 is 0.0073    val f1-score: 0.8776    lr: 0.00031640625000000006\n",
      "Loss after iteration 162 is 0.0073    val f1-score: 0.8776    lr: 0.00031640625000000006\n",
      "Loss after iteration 163 is 0.0073    val f1-score: 0.8776    lr: 0.00031640625000000006\n",
      "Loss after iteration 164 is 0.0072    val f1-score: 0.8776    lr: 0.00031640625000000006\n",
      "Loss after iteration 165 is 0.0072    val f1-score: 0.8776    lr: 0.00031640625000000006\n",
      "Loss after iteration 166 is 0.0072    val f1-score: 0.8776    lr: 0.00031640625000000006\n",
      "Loss after iteration 167 is 0.0072    val f1-score: 0.8776    lr: 0.00031640625000000006\n",
      "Loss after iteration 168 is 0.0072    val f1-score: 0.8776    lr: 0.00031640625000000006\n",
      "Loss after iteration 169 is 0.0072    val f1-score: 0.8776    lr: 0.00031640625000000006\n",
      "Loss after iteration 170 is 0.0072    val f1-score: 0.8776    lr: 0.00023730468750000005\n",
      "Loss after iteration 171 is 0.0072    val f1-score: 0.8776    lr: 0.00023730468750000005\n",
      "Loss after iteration 172 is 0.0072    val f1-score: 0.8776    lr: 0.00023730468750000005\n",
      "Loss after iteration 173 is 0.0072    val f1-score: 0.8776    lr: 0.00023730468750000005\n",
      "Loss after iteration 174 is 0.0072    val f1-score: 0.8788    lr: 0.00023730468750000005\n",
      "Loss after iteration 175 is 0.0072    val f1-score: 0.8788    lr: 0.00023730468750000005\n",
      "Loss after iteration 176 is 0.0072    val f1-score: 0.8788    lr: 0.00023730468750000005\n",
      "Loss after iteration 177 is 0.0072    val f1-score: 0.8788    lr: 0.00023730468750000005\n",
      "Loss after iteration 178 is 0.0072    val f1-score: 0.8788    lr: 0.00023730468750000005\n",
      "Loss after iteration 179 is 0.0072    val f1-score: 0.8788    lr: 0.00023730468750000005\n",
      "Loss after iteration 180 is 0.0072    val f1-score: 0.8788    lr: 0.00023730468750000005\n",
      "Loss after iteration 181 is 0.0072    val f1-score: 0.8788    lr: 0.00023730468750000005\n",
      "Loss after iteration 182 is 0.0072    val f1-score: 0.8788    lr: 0.00023730468750000005\n",
      "Loss after iteration 183 is 0.0072    val f1-score: 0.8788    lr: 0.00023730468750000005\n",
      "Loss after iteration 184 is 0.0072    val f1-score: 0.8788    lr: 0.00023730468750000005\n",
      "Loss after iteration 185 is 0.0072    val f1-score: 0.8788    lr: 0.00023730468750000005\n",
      "Loss after iteration 186 is 0.0072    val f1-score: 0.8788    lr: 0.00017797851562500002\n",
      "Loss after iteration 187 is 0.0072    val f1-score: 0.8788    lr: 0.00017797851562500002\n",
      "Loss after iteration 188 is 0.0072    val f1-score: 0.8788    lr: 0.00017797851562500002\n",
      "Loss after iteration 189 is 0.0072    val f1-score: 0.8788    lr: 0.00017797851562500002\n",
      "Loss after iteration 190 is 0.0072    val f1-score: 0.8788    lr: 0.00017797851562500002\n",
      "Loss after iteration 191 is 0.0072    val f1-score: 0.8788    lr: 0.00017797851562500002\n",
      "Loss after iteration 192 is 0.0072    val f1-score: 0.8788    lr: 0.00017797851562500002\n",
      "Loss after iteration 193 is 0.0072    val f1-score: 0.8788    lr: 0.00017797851562500002\n",
      "Loss after iteration 194 is 0.0072    val f1-score: 0.8788    lr: 0.00017797851562500002\n",
      "Loss after iteration 195 is 0.0072    val f1-score: 0.8788    lr: 0.00017797851562500002\n",
      "Loss after iteration 196 is 0.0072    val f1-score: 0.8788    lr: 0.00017797851562500002\n",
      "Loss after iteration 197 is 0.0072    val f1-score: 0.8788    lr: 0.00017797851562500002\n",
      "Loss after iteration 198 is 0.0072    val f1-score: 0.8788    lr: 0.00017797851562500002\n",
      "Loss after iteration 199 is 0.0072    val f1-score: 0.8788    lr: 0.00017797851562500002\n"
     ]
    }
   ],
   "source": [
    "EPOCHS = 200\n",
    "val_f1_score_history, best_model = train(X_train, Y_train, X_val, Y_val, EPOCHS)"
   ]
  },
  {
   "cell_type": "markdown",
   "metadata": {},
   "source": [
    "* посмотрим на изменение f1-score "
   ]
  },
  {
   "cell_type": "code",
   "execution_count": 29,
   "metadata": {},
   "outputs": [
    {
     "data": {
      "text/plain": [
       "<AxesSubplot:xlabel='epochs', ylabel='f1-score'>"
      ]
     },
     "execution_count": 29,
     "metadata": {},
     "output_type": "execute_result"
    },
    {
     "data": {
      "image/png": "[encoded data removed]",
      "text/plain": [
       "<Figure size 432x288 with 1 Axes>"
      ]
     },
     "metadata": {
      "needs_background": "light"
     },
     "output_type": "display_data"
    }
   ],
   "source": [
    "sns.lineplot(data={\"f1-score\": val_f1_score_history,\n",
    "                   \"epochs\": list(range(1, EPOCHS + 2))}, x=\"epochs\", y=\"f1-score\")"
   ]
  },
  {
   "cell_type": "markdown",
   "metadata": {
    "papermill": {
     "duration": 0.052762,
     "end_time": "2020-10-22T13:29:38.914634",
     "exception": false,
     "start_time": "2020-10-22T13:29:38.861872",
     "status": "completed"
    },
    "tags": []
   },
   "source": [
    "## 9. Проверим точность нашей модели на тест части датасета"
   ]
  },
  {
   "cell_type": "code",
   "execution_count": 30,
   "metadata": {
    "execution": {
     "iopub.execute_input": "2020-10-22T13:29:39.032029Z",
     "iopub.status.busy": "2020-10-22T13:29:39.030838Z",
     "iopub.status.idle": "2020-10-22T13:29:41.545944Z",
     "shell.execute_reply": "2020-10-22T13:29:41.544260Z"
    },
    "papermill": {
     "duration": 2.57732,
     "end_time": "2020-10-22T13:29:41.546100",
     "exception": false,
     "start_time": "2020-10-22T13:29:38.968780",
     "status": "completed"
    },
    "tags": []
   },
   "outputs": [
    {
     "name": "stdout",
     "output_type": "stream",
     "text": [
      "власть керчь пожаловаться отсутствие автоподход крымский мост pred 1 is_fake 0\n",
      "коммерческий спутник сфотографировать китайский туннель подлодка pred 0 is_fake 0\n",
      "суд отклонить иск навальный оператор система платон pred 0 is_fake 0\n",
      "эколог бить тревога строительство северный поток увеличить число случай депрессия пингвин pred 1 is_fake 1\n",
      "начо дуато поставить михайловский спать красавица pred 0 is_fake 0\n",
      "россия перевести десятилетний финансовый план pred 0 is_fake 0\n",
      "барселона забить безответный гол матч кубок испания pred 0 is_fake 0\n",
      "российский суд впервые признать простолюдин pred 0 is_fake 1\n",
      "сергей безруков жениться сценаристка ёлка pred 0 is_fake 0\n",
      "фетисов взять дело пылев личный контроль pred 0 is_fake 0\n",
      "\n",
      "Model F1 SCORE is  0.8687350835322196\n",
      "\n"
     ]
    }
   ],
   "source": [
    "X_test = torch.Tensor(X_test)\n",
    "\n",
    "Y_test = torch.Tensor(np.array(Y_test, dtype=np.float64)).type(torch.LongTensor)\n",
    "\n",
    "best_model.eval()\n",
    "y_head = best_model(X_test)\n",
    "y_pred = torch.max(y_head, 1)[1]\n",
    "\n",
    "for i in sample(list(range(500)), 10):\n",
    "    print(test_title[i], \"pred\", y_pred[i].item(), \"is_fake\", int(Y_test[i].item()))\n",
    "\n",
    "print(\"\\nModel F1 SCORE is \", f1_score(y_pred, Y_test))\n",
    "model_plot = \"\"  # input()\n",
    "if model_plot != \"\":\n",
    "    with open(\"used_models.txt\", mode=\"a\") as f:\n",
    "        f.write(model_plot + \";\" + str(EPOCHS) + \";\" + str(f1_score(y_pred, Y_test)) + \"\\n\")"
   ]
  },
  {
   "cell_type": "markdown",
   "metadata": {},
   "source": [
    "# 00. Также попробуем использовать ruBERT для бинарной классификации"
   ]
  },
  {
   "cell_type": "markdown",
   "metadata": {},
   "source": [
    "### 1. Загружаем модель"
   ]
  },
  {
   "cell_type": "code",
   "execution_count": 35,
   "metadata": {},
   "outputs": [],
   "source": [
    "MODEL_NAME = \"sberbank-ai/ruRoberta-large\"\n",
    "tokenizer = AutoTokenizer.from_pretrained(MODEL_NAME)\n",
    "model = AutoModel.from_pretrained(MODEL_NAME)"
   ]
  },
  {
   "cell_type": "markdown",
   "metadata": {},
   "source": [
    "#### Пример работы токенайзера"
   ]
  },
  {
   "cell_type": "code",
   "execution_count": 37,
   "metadata": {},
   "outputs": [
    {
     "name": "stdout",
     "output_type": "stream",
     "text": [
      "tensor([[    1, 16283, 13874,  3947,  1418,  9651,   375, 16287,  7274,     2,\n",
      "             0,     0,     0,     0,     0,     0,     0,     0,     0,     0,\n",
      "             0,     0,     0,     0,     0,     0,     0,     0,     0,     0,\n",
      "             0,     0]])\n",
      "tensor([[1, 1, 1, 1, 1, 1, 1, 1, 1, 1, 0, 0, 0, 0, 0, 0, 0, 0, 0, 0, 0, 0, 0, 0,\n",
      "         0, 0, 0, 0, 0, 0, 0, 0]])\n"
     ]
    }
   ],
   "source": [
    "df = data\n",
    "example_text = \"фетисов взять дело пылев личный контроль\"\n",
    "bert_input = tokenizer(example_text, padding='max_length', max_length = 32, \n",
    "                       truncation=True, return_tensors=\"pt\")\n",
    "\n",
    "print(bert_input['input_ids'])\n",
    "# print(bert_input['token_type_ids'])\n",
    "print(bert_input['attention_mask'])"
   ]
  },
  {
   "cell_type": "markdown",
   "metadata": {},
   "source": [
    "### 2. Теперь определим класс датасета (torch.utils.data.Dataset)"
   ]
  },
  {
   "cell_type": "code",
   "execution_count": 38,
   "metadata": {},
   "outputs": [],
   "source": [
    "import torch\n",
    "import numpy as np\n",
    "\n",
    "\n",
    "class Dataset(torch.utils.data.Dataset):\n",
    "\n",
    "    def __init__(self, df):\n",
    "\n",
    "        self.labels = [x for x in df.is_fake]\n",
    "        self.texts = [tokenizer(text, \n",
    "                               padding='max_length', max_length=64, truncation=True,\n",
    "                                return_tensors=\"pt\") for text in df.title]\n",
    "\n",
    "    def classes(self):\n",
    "        return self.labels\n",
    "\n",
    "    def __len__(self):\n",
    "        return len(self.labels)\n",
    "\n",
    "    def get_batch_labels(self, idx):\n",
    "        return np.array(self.labels[idx])\n",
    "\n",
    "    def get_batch_texts(self, idx):\n",
    "        return self.texts[idx]\n",
    "\n",
    "    def __getitem__(self, idx):\n",
    "\n",
    "        batch_texts = self.get_batch_texts(idx)\n",
    "        batch_y = self.get_batch_labels(idx)\n",
    "\n",
    "        return batch_texts, batch_y"
   ]
  },
  {
   "cell_type": "markdown",
   "metadata": {},
   "source": [
    "### 3. Разделим датасет на обучающую, валидационную и тестовую подвыборки"
   ]
  },
  {
   "cell_type": "code",
   "execution_count": 39,
   "metadata": {},
   "outputs": [],
   "source": [
    "df_train, df_val, df_test = np.split(df.sample(frac=1, random_state=42), \n",
    "                                     [int(.8*len(df)), int(.9*len(df))])"
   ]
  },
  {
   "cell_type": "markdown",
   "metadata": {},
   "source": [
    "### 4. Теперь давайте построим модель, используя предварительно обученную базовую модель ruBERT"
   ]
  },
  {
   "cell_type": "code",
   "execution_count": 40,
   "metadata": {},
   "outputs": [],
   "source": [
    "from torch import nn\n",
    "\n",
    "class BertClassifier(nn.Module):\n",
    "\n",
    "    def __init__(self, dropout=0.5):\n",
    "\n",
    "        super(BertClassifier, self).__init__()\n",
    "\n",
    "        self.bert = AutoModel.from_pretrained(MODEL_NAME)\n",
    "        self.dropout = nn.Dropout(dropout)\n",
    "        self.linear = nn.Linear(1024, 2)\n",
    "        self.relu = nn.ReLU()\n",
    "\n",
    "    def forward(self, input_id, mask):\n",
    "\n",
    "        _, pooled_output = self.bert(input_ids=input_id, attention_mask=mask, return_dict=False)\n",
    "        dropout_output = self.dropout(pooled_output)\n",
    "        linear_output = self.linear(dropout_output)\n",
    "        final_layer = self.relu(linear_output)\n",
    "\n",
    "        return final_layer"
   ]
  },
  {
   "cell_type": "markdown",
   "metadata": {},
   "source": [
    "#### Как видно из приведенного выше кода, модель BERT выводит две переменные:\n",
    "* Первая переменная, которую я назвал *_* в приведенном выше коде, содержит векторы встраивания всех токенов в последовательность.\n",
    "* Вторая переменная содержит вектор встраивания токена [ CLS ]. Для задачи классификации текста достаточно использовать это встраивание в качестве входных данных для нашего классификатора. *pooled_output*\n",
    "\n",
    "=> Затем мы передаем переменную в линейный слой с функцией активации ReLU. В конце линейного слоя у нас есть вектор размера 2, каждый из которых соответствует категории наших лейблов (фейк, не фейк)."
   ]
  },
  {
   "cell_type": "markdown",
   "metadata": {},
   "source": [
    "### 5. Переходим к самому скрипту обучения - циклы трейна и валидации"
   ]
  },
  {
   "cell_type": "code",
   "execution_count": null,
   "metadata": {},
   "outputs": [],
   "source": [
    "from torch.optim import Adam\n",
    "\n",
    "def train(model, train_data, val_data, learning_rate, epochs, batch_size=1):\n",
    "\n",
    "    train, val = Dataset(train_data), Dataset(val_data)\n",
    "\n",
    "    train_dataloader = torch.utils.data.DataLoader(train, batch_size=batch_size, shuffle=True)\n",
    "    val_dataloader = torch.utils.data.DataLoader(val, batch_size=batch_size)\n",
    "\n",
    "    best_f1 = 0\n",
    "\n",
    "    criterion = nn.CrossEntropyLoss()\n",
    "    optimizer = Adam(model.parameters(), lr= learning_rate)\n",
    "    scheduler = torch.optim.lr_scheduler.ReduceLROnPlateau(\n",
    "            optimizer=optimizer, mode='max', factor=0.75, patience=15)\n",
    "\n",
    "    model.to(DEVICE)\n",
    "    criterion.to(DEVICE)\n",
    "\n",
    "    for epoch_num in range(epochs):\n",
    "\n",
    "            total_acc_train = 0\n",
    "            total_loss_train = 0\n",
    "\n",
    "            for train_input, train_label in tqdm.notebook.tqdm(train_dataloader):\n",
    "\n",
    "                train_label = train_label.type(torch.LongTensor).to(device)\n",
    "                mask = train_input['attention_mask'].type(torch.LongTensor).to(device)\n",
    "                input_id = train_input['input_ids'].squeeze(1).type(torch.LongTensor).to(device)\n",
    "\n",
    "                output = model(input_id, mask)\n",
    "                \n",
    "                batch_loss = criterion(output, train_label)\n",
    "                total_loss_train += batch_loss.item()\n",
    "                \n",
    "                acc = (output.argmax(dim=1) == train_label).sum().item()\n",
    "                total_acc_train += acc\n",
    "\n",
    "                model.zero_grad()\n",
    "                batch_loss.backward()\n",
    "                optimizer.step()\n",
    "            \n",
    "            total_acc_val = 0\n",
    "            total_loss_val = 0\n",
    "\n",
    "            with torch.no_grad():\n",
    "\n",
    "                for val_input, val_label in val_dataloader:\n",
    "\n",
    "                    val_label = val_label.type(torch.LongTensor).to(device)\n",
    "                    mask = val_input['attention_mask'].type(torch.LongTensor).to(device)\n",
    "                    input_id = val_input['input_ids'].type(torch.LongTensor).squeeze(1).to(device)\n",
    "\n",
    "                    output = model(input_id, mask)\n",
    "\n",
    "                    batch_loss = criterion(output, val_label)\n",
    "                    total_loss_val += batch_loss.item()\n",
    "                    \n",
    "                    acc = (output.argmax(dim=1) == val_label).sum().item()\n",
    "                    total_acc_val += acc\n",
    "            \n",
    "            \n",
    "            scheduler.step(total_acc_val / len(val_data))\n",
    "\n",
    "            print(\n",
    "                f'Epochs: {epoch_num + 1} | Train Loss: {total_loss_train / len(train_data): .3f} \\\n",
    "                | Train Accuracy: {total_acc_train / len(train_data): .3f} \\\n",
    "                | Val Loss: {total_loss_val / len(val_data): .3f} \\\n",
    "                | Val Accuracy: {total_acc_val / len(val_data): .3f}')\n",
    "\n",
    "            if total_acc_val / len(val_data) >= best_f1 and total_acc_val / len(val_data) >= 0.80:\n",
    "                best_f1 = total_acc_val / len(val_data)\n",
    "                torch.save(model, \"files/bert_classification.pth\")\n",
    "                print(\"MODEL_SAVED\")\n",
    "\n",
    "EPOCHS = 10\n",
    "model = BertClassifier()\n",
    "LR = 1e-6\n",
    "batch_size = 30\n",
    "              \n",
    "train(model, df_train, df_val, LR, EPOCHS, batch_size=batch_size)"
   ]
  },
  {
   "cell_type": "markdown",
   "metadata": {},
   "source": [
    "### 6. Проверим точность нашей модели на тест части датасета"
   ]
  },
  {
   "cell_type": "code",
   "execution_count": 46,
   "metadata": {},
   "outputs": [
    {
     "data": {
      "application/vnd.jupyter.widget-view+json": {
       "model_id": "fa48c2dd73284acb93dac07d4602124d",
       "version_major": 2,
       "version_minor": 0
      },
      "text/plain": [
       "  0%|          | 0/288 [00:00<?, ?it/s]"
      ]
     },
     "metadata": {},
     "output_type": "display_data"
    },
    {
     "name": "stdout",
     "output_type": "stream",
     "text": [
      "Test Accuracy:  0.885\n"
     ]
    }
   ],
   "source": [
    "def evaluate(model, test_data):\n",
    "    test = Dataset(test_data)\n",
    "    test_dataloader = torch.utils.data.DataLoader(test, batch_size=2)\n",
    "    model = model.to(DEVICE)\n",
    "\n",
    "    total_acc_test = 0\n",
    "    with torch.no_grad():\n",
    "        for test_input, test_label in tqdm.notebook.tqdm(test_dataloader):\n",
    "\n",
    "            test_label = test_label.to(device)\n",
    "            mask = test_input['attention_mask'].to(device)\n",
    "            input_id = test_input['input_ids'].squeeze(1).to(device)\n",
    "\n",
    "            output = model(input_id, mask)\n",
    "\n",
    "            acc = (output.argmax(dim=1) == test_label).sum().item()\n",
    "            total_acc_test += acc\n",
    "\n",
    "    print(f'Test Accuracy: {total_acc_test / len(test_data): .3f}')\n",
    "\n",
    "model = torch.load(\"files/bert_classification_final.pth\")\n",
    "evaluate(model, df_test)"
   ]
  },
  {
   "cell_type": "markdown",
   "metadata": {},
   "source": [
    "## => 999. Создаём предсказания для test.tsv"
   ]
  },
  {
   "cell_type": "code",
   "execution_count": null,
   "metadata": {},
   "outputs": [],
   "source": [
    "model = torch.load(\"files/bert_classification_final.pth\", map_location=torch.device('cpu'))\n",
    "\n",
    "test_data = pd.read_csv(\"dataset/test.tsv\", sep=\"\\t\")\n",
    "test_data = data.sample(frac=1)\n",
    "\n",
    "test = Dataset(test_data)\n",
    "\n",
    "test_dataloader = torch.utils.data.DataLoader(test, batch_size=2)\n",
    "\n",
    "model.to(DEVICE)\n",
    "\n",
    "with torch.no_grad():\n",
    "    y_pred = []\n",
    "    for test_input, test_label in tqdm.notebook.tqdm(test_dataloader):\n",
    "        test_label = test_label.to(DEVICE)\n",
    "        mask = test_input['attention_mask'].to(DEVICE)\n",
    "        input_id = test_input['input_ids'].squeeze(1).to(DEVICE)\n",
    "\n",
    "        output = model(input_id, mask)\n",
    "\n",
    "        y_pred.append(output.argmax(dim=1))\n",
    "\n",
    "test_data.is_fake = y_pred\n",
    "test_data.to_csv(\"predictions.tsv\", index=False)\n",
    "\n",
    "test_data.head(10)"
   ]
  },
  {
   "cell_type": "markdown",
   "metadata": {},
   "source": [
    "## 11. Итог\n",
    "* за месяц я успел поиграться с CATBOOSTом - получилось добиться где-то F1-скор **~0.82**\n",
    "* также перепробовал различные способы векторизации предложений(в добавок к тем, которые используются в ноутбуке\n",
    "    использовал \"мешок слов\")\n",
    "* **ruBERT**: Попробовал различные модельки от **DeepPavlov, sberbank-ai, cointegrated**,\n",
    "    но сильных изменений в скоре это не дало, НООО всё же BERT показал скор лучше на ~0.05, чем линейная модель\n",
    "\n",
    "=> Так что итоговые предсказания были сформированы ruBERTой"
   ]
  },
  {
   "cell_type": "code",
   "execution_count": null,
   "metadata": {},
   "outputs": [],
   "source": []
  }
 ],
 "metadata": {
  "kernelspec": {
   "display_name": "Python 3 (ipykernel)",
   "language": "python",
   "name": "python3"
  },
  "language_info": {
   "codemirror_mode": {
    "name": "ipython",
    "version": 3
   },
   "file_extension": ".py",
   "mimetype": "text/x-python",
   "name": "python",
   "nbconvert_exporter": "python",
   "pygments_lexer": "ipython3",
   "version": "3.9.7"
  },
  "papermill": {
   "duration": 655.199052,
   "end_time": "2020-10-22T13:29:42.538242",
   "environment_variables": {},
   "exception": null,
   "input_path": "__notebook__.ipynb",
   "output_path": "__notebook__.ipynb",
   "parameters": {},
   "start_time": "2020-10-22T13:18:47.339190",
   "version": "2.1.0"
  }
 },
 "nbformat": 4,
 "nbformat_minor": 4
}
