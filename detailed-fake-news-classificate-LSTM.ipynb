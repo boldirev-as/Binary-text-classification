{
 "cells": [
  {
   "cell_type": "markdown",
   "metadata": {},
   "source": [
    "## Классификация заголовоков новостей на фейковые и настоящие "
   ]
  },
  {
   "cell_type": "markdown",
   "metadata": {
    "papermill": {
     "duration": 0.030228,
     "end_time": "2020-10-22T13:18:52.872089",
     "exception": false,
     "start_time": "2020-10-22T13:18:52.841861",
     "status": "completed"
    },
    "tags": []
   },
   "source": [
    "## 0. Установка и подгрузука библиотек\n",
    "Установка библиотек, под которым запускается данный бейзлайн."
   ]
  },
  {
   "cell_type": "code",
   "execution_count": 2,
   "metadata": {
    "_cell_guid": "b1076dfc-b9ad-4769-8c92-a6c4dae69d19",
    "_uuid": "8f2839f25d086af736a60e9eeb907d3b93b6e0e5",
    "execution": {
     "iopub.execute_input": "2020-10-22T13:18:52.957659Z",
     "iopub.status.busy": "2020-10-22T13:18:52.956657Z",
     "iopub.status.idle": "2020-10-22T13:18:56.383792Z",
     "shell.execute_reply": "2020-10-22T13:18:56.384536Z"
    },
    "papermill": {
     "duration": 3.482423,
     "end_time": "2020-10-22T13:18:56.384824",
     "exception": false,
     "start_time": "2020-10-22T13:18:52.902401",
     "status": "completed"
    },
    "tags": []
   },
   "outputs": [],
   "source": [
    "import numpy as np\n",
    "import pandas as pd\n",
    "pd.set_option('max_colwidth', 200)\n",
    "pd.set_option('display.width', 100)\n",
    "\n",
    "import torch\n",
    "import torch.nn as nn\n",
    "\n",
    "import matplotlib.pyplot as plt\n",
    "import seaborn as sns\n",
    "\n",
    "from sklearn.model_selection import train_test_split\n",
    "\n",
    "from sklearn.metrics import f1_score, confusion_matrix\n",
    "from random import sample\n",
    "import random\n",
    "\n",
    "import tqdm\n",
    "from copy import deepcopy\n",
    "import re\n",
    "\n",
    "import os\n",
    "os.environ['TF_CPP_MIN_LOG_LEVEL'] = '3'\n",
    "\n",
    "import logging\n",
    "logger = logging.getLogger()\n",
    "logging.disable(logging.ERROR)\n",
    "\n",
    "from simple_elmo import ElmoModel\n",
    "\n",
    "import tensorflow as tf\n",
    "tf.get_logger().setLevel('ERROR')"
   ]
  },
  {
   "cell_type": "markdown",
   "metadata": {},
   "source": [
    "## 1. Загрузим датасет"
   ]
  },
  {
   "cell_type": "code",
   "execution_count": 3,
   "metadata": {
    "execution": {
     "iopub.execute_input": "2020-10-22T13:18:59.255532Z",
     "iopub.status.busy": "2020-10-22T13:18:59.253093Z",
     "iopub.status.idle": "2020-10-22T13:18:59.287673Z",
     "shell.execute_reply": "2020-10-22T13:18:59.286827Z"
    },
    "papermill": {
     "duration": 0.075615,
     "end_time": "2020-10-22T13:18:59.287823",
     "exception": false,
     "start_time": "2020-10-22T13:18:59.212208",
     "status": "completed"
    },
    "scrolled": true,
    "tags": []
   },
   "outputs": [
    {
     "data": {
      "text/html": [
       "<div>\n",
       "<style scoped>\n",
       "    .dataframe tbody tr th:only-of-type {\n",
       "        vertical-align: middle;\n",
       "    }\n",
       "\n",
       "    .dataframe tbody tr th {\n",
       "        vertical-align: top;\n",
       "    }\n",
       "\n",
       "    .dataframe thead th {\n",
       "        text-align: right;\n",
       "    }\n",
       "</style>\n",
       "<table border=\"1\" class=\"dataframe\">\n",
       "  <thead>\n",
       "    <tr style=\"text-align: right;\">\n",
       "      <th></th>\n",
       "      <th>title</th>\n",
       "      <th>is_fake</th>\n",
       "    </tr>\n",
       "  </thead>\n",
       "  <tbody>\n",
       "    <tr>\n",
       "      <th>0</th>\n",
       "      <td>Москвичу Владимиру Клутину пришёл счёт за вмешательство в американские выборы</td>\n",
       "      <td>1</td>\n",
       "    </tr>\n",
       "    <tr>\n",
       "      <th>1</th>\n",
       "      <td>Агент Кокорина назвал езду по встречке житейской историей</td>\n",
       "      <td>0</td>\n",
       "    </tr>\n",
       "    <tr>\n",
       "      <th>2</th>\n",
       "      <td>Госдума рассмотрит возможность введения секретных статей Уголовного кодекса</td>\n",
       "      <td>1</td>\n",
       "    </tr>\n",
       "    <tr>\n",
       "      <th>3</th>\n",
       "      <td>ФАС заблокировала поставку скоростных трамваев для Москвы</td>\n",
       "      <td>0</td>\n",
       "    </tr>\n",
       "    <tr>\n",
       "      <th>4</th>\n",
       "      <td>Против Навального завели дело о недоносительстве на Волкова</td>\n",
       "      <td>1</td>\n",
       "    </tr>\n",
       "    <tr>\n",
       "      <th>5</th>\n",
       "      <td>Российским студентам запретят учиться за рубежом</td>\n",
       "      <td>1</td>\n",
       "    </tr>\n",
       "    <tr>\n",
       "      <th>6</th>\n",
       "      <td>Путин пишет книгу об истории Украины</td>\n",
       "      <td>1</td>\n",
       "    </tr>\n",
       "    <tr>\n",
       "      <th>7</th>\n",
       "      <td>Россияне обхитрили рост цен</td>\n",
       "      <td>0</td>\n",
       "    </tr>\n",
       "    <tr>\n",
       "      <th>8</th>\n",
       "      <td>Звезда «Ворониных» раскрыл подробности о своем состоянии</td>\n",
       "      <td>0</td>\n",
       "    </tr>\n",
       "    <tr>\n",
       "      <th>9</th>\n",
       "      <td>Microsoft объявила дату выхода очков дополненной реальности Hololens</td>\n",
       "      <td>0</td>\n",
       "    </tr>\n",
       "  </tbody>\n",
       "</table>\n",
       "</div>"
      ],
      "text/plain": [
       "                                                                           title  is_fake\n",
       "0  Москвичу Владимиру Клутину пришёл счёт за вмешательство в американские выборы        1\n",
       "1                      Агент Кокорина назвал езду по встречке житейской историей        0\n",
       "2    Госдума рассмотрит возможность введения секретных статей Уголовного кодекса        1\n",
       "3                      ФАС заблокировала поставку скоростных трамваев для Москвы        0\n",
       "4                    Против Навального завели дело о недоносительстве на Волкова        1\n",
       "5                               Российским студентам запретят учиться за рубежом        1\n",
       "6                                           Путин пишет книгу об истории Украины        1\n",
       "7                                                    Россияне обхитрили рост цен        0\n",
       "8                       Звезда «Ворониных» раскрыл подробности о своем состоянии        0\n",
       "9           Microsoft объявила дату выхода очков дополненной реальности Hololens        0"
      ]
     },
     "execution_count": 3,
     "metadata": {},
     "output_type": "execute_result"
    }
   ],
   "source": [
    "data = pd.read_csv(\"dataset/train.tsv\", sep=\"\\t\")\n",
    "data.head(10)"
   ]
  },
  {
   "cell_type": "markdown",
   "metadata": {
    "papermill": {
     "duration": 0.038064,
     "end_time": "2020-10-22T13:18:59.364143",
     "exception": false,
     "start_time": "2020-10-22T13:18:59.326079",
     "status": "completed"
    },
    "tags": []
   },
   "source": [
    "* Датасет загружен, проанализируем его содержимое"
   ]
  },
  {
   "cell_type": "markdown",
   "metadata": {
    "papermill": {
     "duration": 0.044334,
     "end_time": "2020-10-22T13:19:00.503911",
     "exception": false,
     "start_time": "2020-10-22T13:19:00.459577",
     "status": "completed"
    },
    "tags": []
   },
   "source": [
    "## 2. Препроцессинг заголовков новостей\n",
    "1. Токенизация — разобьём каждый заголовок статьи на слова.\n",
    "2. Нормализация — приведём слова к «рафинированному» виду (единый регистр слов, отсутствие знаков пунктуации, расшифрованные сокращения, словесное написание чисел и т.д.).\n",
    "3. Стеммизация — приведём слова к его корню путем устранения придатков (суффикса, приставки, окончания).\n",
    "4. Лемматизация — приведём слова к начальной форме.\n",
    "5. Чистка — удаленим стоп-слова, которые не несут смысловой нагрузки (артикли, междометья).\n",
    "\n",
    "* Для этого будем использовать библиотеку pymorphy2"
   ]
  },
  {
   "cell_type": "code",
   "execution_count": 4,
   "metadata": {
    "execution": {
     "iopub.execute_input": "2020-10-22T13:24:23.723873Z",
     "iopub.status.busy": "2020-10-22T13:24:23.713305Z",
     "iopub.status.idle": "2020-10-22T13:24:39.324303Z",
     "shell.execute_reply": "2020-10-22T13:24:39.323490Z"
    },
    "papermill": {
     "duration": 15.680556,
     "end_time": "2020-10-22T13:24:39.324448",
     "exception": false,
     "start_time": "2020-10-22T13:24:23.643892",
     "status": "completed"
    },
    "tags": []
   },
   "outputs": [
    {
     "data": {
      "application/vnd.jupyter.widget-view+json": {
       "model_id": "88889720d28a4f33bb1d1e6578a5df0f",
       "version_major": 2,
       "version_minor": 0
      },
      "text/plain": [
       "  0%|          | 0/5758 [00:00<?, ?it/s]"
      ]
     },
     "metadata": {},
     "output_type": "display_data"
    },
    {
     "name": "stdout",
     "output_type": "stream",
     "text": [
      "капитан арсенал заказать результат жеребьёвка лига чемпион\n",
      "ответ приостановка поставка тухлый яйцо грузия закрыть завод боржоми саранск\n",
      "украина решить продать российский актив крым\n",
      "французский коммунист требовать вынести тело наполеон дом инвалид\n",
      "гость ялта просить нападать крокодил сбежать затопление крокодиляриум\n",
      "airbus получить февраль один заказ\n",
      "автор хороший комментарий защита бузов получить дом подмосковье\n",
      "глава фрс отчитаться конгресс покупка актив bear stearns\n",
      "германия согласовать митинг антипрививочник памятник доктор менгель\n",
      "честь летие иа панорама князь монако присвоить дворянство сотрудник издательство\n",
      "DELETED 8337 words\n"
     ]
    }
   ],
   "source": [
    "import pymorphy2\n",
    "count = 0\n",
    "all_words = []\n",
    "all_pre_words = []\n",
    "\n",
    "\n",
    "def sentence_editor(title):\n",
    "    global count\n",
    "    txt = re.sub(pattern, \"\", title)\n",
    "    txt = txt.strip(\" \").lower()\n",
    "    txt = txt.split() # Tokenizing\n",
    "    all_pre_words.extend(txt)\n",
    "    new_txt = []\n",
    "    for word in txt:\n",
    "        word = morph.parse(word)[0]\n",
    "        if word.tag.POS not in [\"PRCL\", \"INTJ\", \"PREP\", \"CONJ\"]:\n",
    "            new_txt.append(word.normal_form) # Lemmatizing\n",
    "        else:\n",
    "            count += 1\n",
    "    all_words.extend(new_txt)\n",
    "    txt = \" \".join(new_txt)\n",
    "    return txt\n",
    "\n",
    "\n",
    "morph = pymorphy2.MorphAnalyzer()\n",
    "new_title = []\n",
    "pattern = \"[^а-яА-Яa-zA-Z ё]\"\n",
    "\n",
    "for txt in tqdm.notebook.tqdm(data.title):\n",
    "    new_title.append(sentence_editor(txt))\n",
    "\n",
    "start = random.randint(0, len(new_title))\n",
    "print(*new_title[start:start + 10], sep=\"\\n\")\n",
    "print(\"DELETED\", count, \"words\")"
   ]
  },
  {
   "cell_type": "markdown",
   "metadata": {
    "papermill": {
     "duration": 0.037522,
     "end_time": "2020-10-22T13:18:59.440141",
     "exception": false,
     "start_time": "2020-10-22T13:18:59.402619",
     "status": "completed"
    },
    "tags": []
   },
   "source": [
    "## 3. Визуализация данных\n",
    "\n",
    "\n",
    "### Есть ли дисбаланс классов?"
   ]
  },
  {
   "cell_type": "code",
   "execution_count": 5,
   "metadata": {
    "execution": {
     "iopub.execute_input": "2020-10-22T13:18:59.520227Z",
     "iopub.status.busy": "2020-10-22T13:18:59.519151Z",
     "iopub.status.idle": "2020-10-22T13:18:59.686725Z",
     "shell.execute_reply": "2020-10-22T13:18:59.685946Z"
    },
    "papermill": {
     "duration": 0.209923,
     "end_time": "2020-10-22T13:18:59.686858",
     "exception": false,
     "start_time": "2020-10-22T13:18:59.476935",
     "status": "completed"
    },
    "tags": []
   },
   "outputs": [
    {
     "data": {
      "text/plain": [
       "<AxesSubplot:xlabel='is_fake', ylabel='count'>"
      ]
     },
     "execution_count": 5,
     "metadata": {},
     "output_type": "execute_result"
    },
    {
     "data": {
      "image/png": "[encoded data removed]",
      "text/plain": [
       "<Figure size 432x288 with 1 Axes>"
      ]
     },
     "metadata": {
      "needs_background": "light"
     },
     "output_type": "display_data"
    }
   ],
   "source": [
    "sns.countplot(x=data[\"is_fake\"])"
   ]
  },
  {
   "cell_type": "markdown",
   "metadata": {
    "papermill": {
     "duration": 0.036091,
     "end_time": "2020-10-22T13:18:59.759379",
     "exception": false,
     "start_time": "2020-10-22T13:18:59.723288",
     "status": "completed"
    },
    "tags": []
   },
   "source": [
    "* Колличество фейковых и реальных новостей полностью совпадает, что не может не радовать"
   ]
  },
  {
   "cell_type": "markdown",
   "metadata": {},
   "source": [
    "### Топ самых частых слов до удаления стоп-слов"
   ]
  },
  {
   "cell_type": "code",
   "execution_count": 6,
   "metadata": {},
   "outputs": [],
   "source": [
    "NUMBER = 30\n",
    "count_words = {}\n",
    "for word in all_pre_words:\n",
    "    if word in count_words:\n",
    "        count_words[word] += 1\n",
    "    else:\n",
    "        count_words[word] = 1\n",
    "\n",
    "most_frequency_words = {\"word\": sorted(count_words, key=lambda x: -count_words[x])[:NUMBER], \n",
    "                        \"number\": []}\n",
    "for word in most_frequency_words[\"word\"]:\n",
    "    most_frequency_words[\"number\"].append(count_words[word])\n"
   ]
  },
  {
   "cell_type": "code",
   "execution_count": 7,
   "metadata": {},
   "outputs": [
    {
     "data": {
      "image/png": "[encoded data removed]",
      "text/plain": [
       "<Figure size 1008x576 with 1 Axes>"
      ]
     },
     "metadata": {
      "needs_background": "light"
     },
     "output_type": "display_data"
    }
   ],
   "source": [
    "plt.figure(figsize=(14,8))\n",
    "plt.barh(most_frequency_words[\"word\"][::-1], most_frequency_words[\"number\"][::-1])\n",
    "plt.ylabel(\"Слова\")\n",
    "plt.xlabel(\"Колличество\")\n",
    "plt.title(\"Топ %d слов в заголовках перед удалением стоп слов\" % (NUMBER))\n",
    "plt.grid(True)"
   ]
  },
  {
   "cell_type": "code",
   "execution_count": 8,
   "metadata": {},
   "outputs": [],
   "source": [
    "NUMBER = 30\n",
    "count_words = {}\n",
    "for word in all_words:\n",
    "    if word in count_words:\n",
    "        count_words[word] += 1\n",
    "    else:\n",
    "        count_words[word] = 1\n",
    "\n",
    "most_frequency_words = {\"word\": sorted(count_words, key=lambda x: -count_words[x])[:NUMBER], \n",
    "                        \"number\": []}\n",
    "for word in most_frequency_words[\"word\"]:\n",
    "    most_frequency_words[\"number\"].append(count_words[word])\n"
   ]
  },
  {
   "cell_type": "code",
   "execution_count": 9,
   "metadata": {},
   "outputs": [
    {
     "data": {
      "image/png": "[encoded data removed]",
      "text/plain": [
       "<Figure size 1008x576 with 1 Axes>"
      ]
     },
     "metadata": {
      "needs_background": "light"
     },
     "output_type": "display_data"
    }
   ],
   "source": [
    "plt.figure(figsize=(14,8))\n",
    "plt.barh(most_frequency_words[\"word\"][::-1], most_frequency_words[\"number\"][::-1])\n",
    "plt.ylabel(\"Слова\")\n",
    "plt.xlabel(\"Колличество\")\n",
    "plt.title(\"Топ %d слов в заголовках после удаления стоп слов\" % (NUMBER))\n",
    "plt.grid(True)"
   ]
  },
  {
   "cell_type": "markdown",
   "metadata": {},
   "source": [
    "## 4. Переведём каждый обработанный заголовок в векторное представление\n",
    "* с помощью контекстуализированной модели от RusVectōrēs натренерованной на около 10 миллиардов слов\n",
    "* будем создавать вектор для каждого слова, а в качестве вектора предложения будем брать среднее значение между всеми словами в нём"
   ]
  },
  {
   "cell_type": "code",
   "execution_count": 10,
   "metadata": {},
   "outputs": [
    {
     "name": "stderr",
     "output_type": "stream",
     "text": [
      "c:\\users\\vush6\\pycharmprojects\\fake or real title of news\\venv\\lib\\site-packages\\simple_elmo\\model.py:529: UserWarning: `tf.nn.rnn_cell.LSTMCell` is deprecated and will be removed in a future version. This class is equivalent as `tf.keras.layers.LSTMCell`, and will be replaced by that in Tensorflow 2.0.\n",
      "  lstm_cell = tf.compat.v1.nn.rnn_cell.LSTMCell(\n",
      "c:\\users\\vush6\\pycharmprojects\\fake or real title of news\\venv\\lib\\site-packages\\keras\\layers\\legacy_rnn\\rnn_cell_impl.py:984: UserWarning: `layer.add_variable` is deprecated and will be removed in a future version. Please use `layer.add_weight` method instead.\n",
      "  self._kernel = self.add_variable(\n",
      "c:\\users\\vush6\\pycharmprojects\\fake or real title of news\\venv\\lib\\site-packages\\keras\\layers\\legacy_rnn\\rnn_cell_impl.py:993: UserWarning: `layer.add_variable` is deprecated and will be removed in a future version. Please use `layer.add_weight` method instead.\n",
      "  self._bias = self.add_variable(\n",
      "c:\\users\\vush6\\pycharmprojects\\fake or real title of news\\venv\\lib\\site-packages\\keras\\layers\\legacy_rnn\\rnn_cell_impl.py:1009: UserWarning: `layer.add_variable` is deprecated and will be removed in a future version. Please use `layer.add_weight` method instead.\n",
      "  self._proj_kernel = self.add_variable(\n"
     ]
    },
    {
     "data": {
      "text/plain": [
       "'The model is now loaded.'"
      ]
     },
     "execution_count": 10,
     "metadata": {},
     "output_type": "execute_result"
    }
   ],
   "source": [
    "elmo_model = ElmoModel()\n",
    "elmo_model.load(\"sentence_embender\")"
   ]
  },
  {
   "cell_type": "code",
   "execution_count": 11,
   "metadata": {},
   "outputs": [
    {
     "data": {
      "text/plain": [
       "'москвич владимир клутина прийти счёт вмешательство американский выборы'"
      ]
     },
     "execution_count": 11,
     "metadata": {},
     "output_type": "execute_result"
    }
   ],
   "source": [
    "new_title[0]"
   ]
  },
  {
   "cell_type": "code",
   "execution_count": 12,
   "metadata": {},
   "outputs": [
    {
     "data": {
      "application/vnd.jupyter.widget-view+json": {
       "model_id": "386f68f062304682a032d4cd21c1a6f7",
       "version_major": 2,
       "version_minor": 0
      },
      "text/plain": [
       "  0%|          | 0/180 [00:00<?, ?it/s]"
      ]
     },
     "metadata": {},
     "output_type": "display_data"
    },
    {
     "data": {
      "text/plain": [
       "(5758, 1024)"
      ]
     },
     "execution_count": 12,
     "metadata": {},
     "output_type": "execute_result"
    }
   ],
   "source": [
    "title_matrix = np.array([[0] * 1024], dtype=float)\n",
    "batch_size = 32\n",
    "for i in tqdm.notebook.tqdm(range(0, len(new_title), batch_size)):\n",
    "    title_matrix = np.append(title_matrix, \n",
    "                             elmo_model.get_elmo_vector_average([x.split() for x in new_title[i:i + batch_size]]),\n",
    "                             axis=0)\n",
    "\n",
    "title_matrix = np.delete(title_matrix, 0, axis=0)\n",
    "title_matrix.shape"
   ]
  },
  {
   "cell_type": "code",
   "execution_count": 13,
   "metadata": {
    "execution": {
     "iopub.execute_input": "2020-10-22T13:25:07.162902Z",
     "iopub.status.busy": "2020-10-22T13:25:07.161827Z",
     "iopub.status.idle": "2020-10-22T13:25:07.168882Z",
     "shell.execute_reply": "2020-10-22T13:25:07.169617Z"
    },
    "papermill": {
     "duration": 0.087527,
     "end_time": "2020-10-22T13:25:07.169863",
     "exception": false,
     "start_time": "2020-10-22T13:25:07.082336",
     "status": "completed"
    },
    "tags": []
   },
   "outputs": [
    {
     "name": "stdout",
     "output_type": "stream",
     "text": [
      "(5758, 2)\n",
      "(5758, 1024)\n"
     ]
    }
   ],
   "source": [
    "print(data.shape)\n",
    "print(title_matrix.shape)"
   ]
  },
  {
   "cell_type": "markdown",
   "metadata": {},
   "source": [
    "## 5. Разделим трейн датасет на обучающую и валидационную подвыборки"
   ]
  },
  {
   "cell_type": "code",
   "execution_count": 14,
   "metadata": {
    "execution": {
     "iopub.execute_input": "2020-10-22T13:25:07.293223Z",
     "iopub.status.busy": "2020-10-22T13:25:07.292330Z",
     "iopub.status.idle": "2020-10-22T13:25:09.288942Z",
     "shell.execute_reply": "2020-10-22T13:25:09.288112Z"
    },
    "papermill": {
     "duration": 2.062523,
     "end_time": "2020-10-22T13:25:09.289101",
     "exception": false,
     "start_time": "2020-10-22T13:25:07.226578",
     "status": "completed"
    },
    "tags": []
   },
   "outputs": [],
   "source": [
    "x = np.concatenate((np.array(data.drop(\"is_fake\", axis=1)), title_matrix), axis=1)\n",
    "y = np.array([np.array(data[data.title == title[0]].is_fake)[0] for title in x])"
   ]
  },
  {
   "cell_type": "code",
   "execution_count": 15,
   "metadata": {},
   "outputs": [
    {
     "data": {
      "text/plain": [
       "array([['Москвичу Владимиру Клутину пришёл счёт за вмешательство в американские выборы',\n",
       "        -0.026137593794597208, -0.03709144557447718, ...,\n",
       "        0.019916739216694315, -0.007809336559148129,\n",
       "        -0.07590965777116687],\n",
       "       ['Агент Кокорина назвал езду по встречке житейской историей',\n",
       "        0.0045856463767328754, 0.012149634418496334, ...,\n",
       "        0.04233165955172, 0.1038698998738525, -0.059589282419974195],\n",
       "       ['Госдума рассмотрит возможность введения секретных статей Уголовного кодекса',\n",
       "        0.016818846771092983, -0.08118769593812755, ...,\n",
       "        -0.0031721681378487033, 0.000560379545336687,\n",
       "        -0.018380930701067475],\n",
       "       ...,\n",
       "       ['«Мне стыдно перед дедом»: новый канцлер ФРГ обратился с первой речью к Бундестагу',\n",
       "        -0.029480071644749972, -0.04626696189487515, ...,\n",
       "        0.008875949963536522, 0.015297313644998036,\n",
       "        -0.026672368018459965],\n",
       "       ['Туркмения в декабре начнет поставки газа в Китай',\n",
       "        -0.020441723371993712, -0.00859203528694557, ...,\n",
       "        0.007692824775513004, -0.03756802822077244, -0.05194766314884742],\n",
       "       ['Бывший тренер Локомотива возглавил нальчикский Спартак',\n",
       "        -0.023272885309655704, 0.008665957894524304, ...,\n",
       "        0.017197930884526685, 0.025318200061893077, -0.08065423996282528]],\n",
       "      dtype=object)"
      ]
     },
     "execution_count": 15,
     "metadata": {},
     "output_type": "execute_result"
    }
   ],
   "source": [
    "x"
   ]
  },
  {
   "cell_type": "code",
   "execution_count": 16,
   "metadata": {
    "execution": {
     "iopub.execute_input": "2020-10-22T13:25:09.485680Z",
     "iopub.status.busy": "2020-10-22T13:25:09.484491Z",
     "iopub.status.idle": "2020-10-22T13:25:09.489504Z",
     "shell.execute_reply": "2020-10-22T13:25:09.490606Z"
    },
    "papermill": {
     "duration": 0.059416,
     "end_time": "2020-10-22T13:25:09.490885",
     "exception": false,
     "start_time": "2020-10-22T13:25:09.431469",
     "status": "completed"
    },
    "tags": []
   },
   "outputs": [
    {
     "name": "stdout",
     "output_type": "stream",
     "text": [
      "(5758, 1025)\n",
      "(5758,)\n"
     ]
    }
   ],
   "source": [
    "print(x.shape)\n",
    "print(y.shape)"
   ]
  },
  {
   "cell_type": "code",
   "execution_count": 17,
   "metadata": {
    "execution": {
     "iopub.execute_input": "2020-10-22T13:25:09.596710Z",
     "iopub.status.busy": "2020-10-22T13:25:09.595872Z",
     "iopub.status.idle": "2020-10-22T13:25:11.184121Z",
     "shell.execute_reply": "2020-10-22T13:25:11.182844Z"
    },
    "papermill": {
     "duration": 1.647102,
     "end_time": "2020-10-22T13:25:11.184369",
     "exception": false,
     "start_time": "2020-10-22T13:25:09.537267",
     "status": "completed"
    },
    "tags": []
   },
   "outputs": [],
   "source": [
    "from sklearn.model_selection import train_test_split\n",
    "\n",
    "# Train Test Split\n",
    "X_train, X_test, Y_train, Y_test = train_test_split(x, np.array(y), test_size=0.15, random_state=1, shuffle=True)\n",
    "X_train, X_val, Y_train, Y_val = train_test_split(X_train, Y_train, test_size=0.15, random_state=1, shuffle=True)"
   ]
  },
  {
   "cell_type": "code",
   "execution_count": 18,
   "metadata": {},
   "outputs": [],
   "source": [
    "train_title = [x[0] for x in X_train]\n",
    "test_title = [x[0] for x in X_test]\n",
    "val_title = [x[0] for x in X_val]\n",
    "\n",
    "X_train = np.array([x[1:] for x in X_train], dtype=np.float64)\n",
    "X_test = np.array([x[1:] for x in X_test], dtype=np.float64)\n",
    "X_val = np.array([x[1:] for x in X_val], dtype=np.float64)"
   ]
  },
  {
   "cell_type": "code",
   "execution_count": 19,
   "metadata": {},
   "outputs": [
    {
     "name": "stdout",
     "output_type": "stream",
     "text": [
      "(4159, 1024)\n",
      "(864, 1024)\n",
      "(735, 1024)\n",
      "(4159,)\n",
      "(864,)\n",
      "(735,)\n"
     ]
    }
   ],
   "source": [
    "print(X_train.shape)\n",
    "print(X_test.shape)\n",
    "print(X_val.shape)\n",
    "print(Y_train.shape)\n",
    "print(Y_test.shape)\n",
    "print(Y_val.shape)"
   ]
  },
  {
   "cell_type": "markdown",
   "metadata": {
    "papermill": {
     "duration": 0.045765,
     "end_time": "2020-10-22T13:25:11.277268",
     "exception": false,
     "start_time": "2020-10-22T13:25:11.231503",
     "status": "completed"
    },
    "tags": []
   },
   "source": [
    "## 6. Здесь определяем саму линейную модель"
   ]
  },
  {
   "cell_type": "code",
   "execution_count": 1,
   "metadata": {
    "execution": {
     "iopub.execute_input": "2020-10-22T13:25:11.384792Z",
     "iopub.status.busy": "2020-10-22T13:25:11.381658Z",
     "iopub.status.idle": "2020-10-22T13:25:11.537188Z",
     "shell.execute_reply": "2020-10-22T13:25:11.536506Z"
    },
    "papermill": {
     "duration": 0.215291,
     "end_time": "2020-10-22T13:25:11.537349",
     "exception": false,
     "start_time": "2020-10-22T13:25:11.322058",
     "status": "completed"
    },
    "tags": []
   },
   "outputs": [
    {
     "ename": "NameError",
     "evalue": "name 'nn' is not defined",
     "output_type": "error",
     "traceback": [
      "\u001b[1;31m---------------------------------------------------------------------------\u001b[0m",
      "\u001b[1;31mNameError\u001b[0m                                 Traceback (most recent call last)",
      "Input \u001b[1;32mIn [1]\u001b[0m, in \u001b[0;36m<cell line: 1>\u001b[1;34m()\u001b[0m\n\u001b[1;32m----> 1\u001b[0m \u001b[38;5;28;01mclass\u001b[39;00m \u001b[38;5;21;01mLSTM\u001b[39;00m(\u001b[43mnn\u001b[49m\u001b[38;5;241m.\u001b[39mModule):\n\u001b[0;32m      3\u001b[0m     \u001b[38;5;28;01mdef\u001b[39;00m \u001b[38;5;21m__init__\u001b[39m(\u001b[38;5;28mself\u001b[39m):\n\u001b[0;32m      4\u001b[0m         \u001b[38;5;28msuper\u001b[39m(LSTM, \u001b[38;5;28mself\u001b[39m)\u001b[38;5;241m.\u001b[39m\u001b[38;5;21m__init__\u001b[39m()\n",
      "\u001b[1;31mNameError\u001b[0m: name 'nn' is not defined"
     ]
    }
   ],
   "source": [
    "class LSTM(nn.Module):\n",
    "\n",
    "    def __init__(self):\n",
    "        super(LSTM, self).__init__()\n",
    "        self.lstm = nn.LSTM(1024, 128,\n",
    "                            num_layers=1,\n",
    "                            batch_first=True)\n",
    "        self.fc = nn.Linear(2 * 128, 2)\n",
    "\n",
    "    def forward(self, text_emb):\n",
    "        packed_output, _ = self.lstm(text_emb)\n",
    "        text_fea = self.fc(packed_output)\n",
    "        return text_fea"
   ]
  },
  {
   "cell_type": "markdown",
   "metadata": {
    "papermill": {
     "duration": 0.045839,
     "end_time": "2020-10-22T13:25:11.722970",
     "exception": false,
     "start_time": "2020-10-22T13:25:11.677131",
     "status": "completed"
    },
    "tags": []
   },
   "source": [
    "## 7. Переходим к самому скрипту обучения - циклы трейна и валидации"
   ]
  },
  {
   "cell_type": "code",
   "execution_count": null,
   "metadata": {
    "execution": {
     "iopub.execute_input": "2020-10-22T13:25:11.823570Z",
     "iopub.status.busy": "2020-10-22T13:25:11.822752Z",
     "iopub.status.idle": "2020-10-22T13:29:38.802313Z",
     "shell.execute_reply": "2020-10-22T13:29:38.803213Z"
    },
    "papermill": {
     "duration": 267.03556,
     "end_time": "2020-10-22T13:29:38.803483",
     "exception": false,
     "start_time": "2020-10-22T13:25:11.767923",
     "status": "completed"
    },
    "scrolled": true,
    "tags": []
   },
   "outputs": [],
   "source": [
    "def train_loop(model, optimizer, criterion, X_train, Y_train):\n",
    "    model.zero_grad()\n",
    "\n",
    "    optimizer.zero_grad()\n",
    "\n",
    "    outs = model(X_train)\n",
    "    loss = criterion(torch.max(outs, 1)[1], Y_train)\n",
    "\n",
    "    loss.backward()\n",
    "    torch.nn.utils.clip_grad_norm_(model.parameters(), 2)\n",
    "    optimizer.step()\n",
    "    return round(float(loss), 4)\n",
    "\n",
    "\n",
    "def val_loop(model, X_val, Y_val):\n",
    "    test_pred = torch.max(model(X_val), 1)[1]\n",
    "    return round(float(f1_score(test_pred, Y_val)), 4)\n",
    "    \n",
    "\n",
    "def train(X_train, Y_train, X_val, Y_val):\n",
    "    model = LSTM()\n",
    "    optimizer = torch.optim.Adam(model.parameters(), lr=0.001)\n",
    "    criterion = nn.NLLLoss() #  nn.CrossEntropyLoss()\n",
    "    scheduler = torch.optim.lr_scheduler.ReduceLROnPlateau(\n",
    "            optimizer=optimizer, mode='max', factor=0.75, patience=15)\n",
    "\n",
    "    val_f1_score_history = [0]\n",
    "    best_model = None\n",
    "\n",
    "    X_train = torch.Tensor(X_train)\n",
    "    Y_train = torch.Tensor(np.array(Y_train, dtype=np.float64)).type(torch.LongTensor)\n",
    "    X_val = torch.Tensor(X_val)\n",
    "    Y_val = torch.Tensor(Y_val)\n",
    "\n",
    "    EPOCHS = 200\n",
    "    for epoch in range(EPOCHS):\n",
    "        loss = train_loop(model, optimizer, criterion, X_train, Y_train)\n",
    "        f1_score = val_loop(model, X_val, Y_val)\n",
    "        scheduler.step(f1_score)\n",
    "\n",
    "        for param_group in optimizer.param_groups:\n",
    "            lr = param_group['lr']\n",
    "        print(f\"Loss after iteration {epoch} is {loss}\",\n",
    "              f\"val f1-score: {f1_score}\", \n",
    "              f\"lr: {lr}\", sep=\"    \")\n",
    "\n",
    "        if f1_score > max(val_f1_score_history) and f1_score > 0.86:\n",
    "            model_save_path = os.path.join(\n",
    "                    \"save_dir\", f'model-{val_f1_score_history[-1]:.4f}.ckpt')\n",
    "            torch.save(model.state_dict(), model_save_path)\n",
    "            best_model = deepcopy(model)\n",
    "            print(\"MODEL SAVED\")\n",
    "        \n",
    "        val_f1_score_history.append(f1_score)\n",
    "    return EPOCHS, val_f1_score_history, best_model\n"
   ]
  },
  {
   "cell_type": "markdown",
   "metadata": {},
   "source": [
    "## 8. Запускаем обучение!"
   ]
  },
  {
   "cell_type": "code",
   "execution_count": 2,
   "metadata": {
    "scrolled": true
   },
   "outputs": [
    {
     "ename": "NameError",
     "evalue": "name 'train' is not defined",
     "output_type": "error",
     "traceback": [
      "\u001b[1;31m---------------------------------------------------------------------------\u001b[0m",
      "\u001b[1;31mNameError\u001b[0m                                 Traceback (most recent call last)",
      "Input \u001b[1;32mIn [2]\u001b[0m, in \u001b[0;36m<cell line: 1>\u001b[1;34m()\u001b[0m\n\u001b[1;32m----> 1\u001b[0m EPOCHS, val_f1_score_history, best_model \u001b[38;5;241m=\u001b[39m \u001b[43mtrain\u001b[49m(X_train, Y_train, X_val, Y_val)\n",
      "\u001b[1;31mNameError\u001b[0m: name 'train' is not defined"
     ]
    }
   ],
   "source": [
    "EPOCHS, val_f1_score_history, best_model = train(X_train, Y_train, X_val, Y_val)"
   ]
  },
  {
   "cell_type": "markdown",
   "metadata": {},
   "source": [
    "* посмотрим на изменение f1-score "
   ]
  },
  {
   "cell_type": "code",
   "execution_count": null,
   "metadata": {},
   "outputs": [],
   "source": [
    "sns.lineplot(data={\"f1-score\": val_f1_score_history,\n",
    "                   \"epochs\": list(range(1, EPOCHS + 2))}, x=\"epochs\", y=\"f1-score\")"
   ]
  },
  {
   "cell_type": "markdown",
   "metadata": {
    "papermill": {
     "duration": 0.052762,
     "end_time": "2020-10-22T13:29:38.914634",
     "exception": false,
     "start_time": "2020-10-22T13:29:38.861872",
     "status": "completed"
    },
    "tags": []
   },
   "source": [
    "## 9. Проверим точность нашей модели на тест части датасета"
   ]
  },
  {
   "cell_type": "code",
   "execution_count": null,
   "metadata": {
    "execution": {
     "iopub.execute_input": "2020-10-22T13:29:39.032029Z",
     "iopub.status.busy": "2020-10-22T13:29:39.030838Z",
     "iopub.status.idle": "2020-10-22T13:29:41.545944Z",
     "shell.execute_reply": "2020-10-22T13:29:41.544260Z"
    },
    "papermill": {
     "duration": 2.57732,
     "end_time": "2020-10-22T13:29:41.546100",
     "exception": false,
     "start_time": "2020-10-22T13:29:38.968780",
     "status": "completed"
    },
    "tags": []
   },
   "outputs": [],
   "source": [
    "X_test = torch.Tensor(X_test)\n",
    "\n",
    "Y_test = torch.Tensor(np.array(Y_test, dtype=np.float64)).type(torch.LongTensor)\n",
    "\n",
    "y_head = best_model(X_test)\n",
    "y_pred = torch.max(y_head, 1)[1]\n",
    "\n",
    "for i in sample(list(range(500)), 10):\n",
    "    print(test_title[i], \"pred\", y_pred[i].item(), \"is_fake\", int(Y_test[i].item()))\n",
    "\n",
    "print(\"\\nModel accuracy is \", f1_score(y_pred, Y_test))\n",
    "model_plot = input()\n",
    "if model_plot != \"\":\n",
    "    with open(\"used_models.txt\", mode=\"a\") as f:\n",
    "        f.write(model_plot + \";\" + str(EPOCHS) + \";\" + str(f1_score(y_pred, Y_test)) + \"\\n\")"
   ]
  },
  {
   "cell_type": "markdown",
   "metadata": {},
   "source": [
    "## 10. Создаём предсказания для тестовых данных"
   ]
  },
  {
   "cell_type": "code",
   "execution_count": 100,
   "metadata": {},
   "outputs": [
    {
     "data": {
      "application/vnd.jupyter.widget-view+json": {
       "model_id": "e81e1bd2be0b49b3875fb069e038df49",
       "version_major": 2,
       "version_minor": 0
      },
      "text/plain": [
       "  0%|          | 0/5758 [00:00<?, ?it/s]"
      ]
     },
     "metadata": {},
     "output_type": "display_data"
    },
    {
     "data": {
      "application/vnd.jupyter.widget-view+json": {
       "model_id": "e5a6dbde7a204b7380dd6f36373f0d64",
       "version_major": 2,
       "version_minor": 0
      },
      "text/plain": [
       "  0%|          | 0/180 [00:00<?, ?it/s]"
      ]
     },
     "metadata": {},
     "output_type": "display_data"
    }
   ],
   "source": [
    "test_data = pd.read_csv(\"dataset/test.tsv\", sep=\"\\t\", header=0)\n",
    "test_data = data.sample(frac=1)\n",
    "\n",
    "new_title = []\n",
    "for txt in tqdm.notebook.tqdm(data.title):\n",
    "    new_title.append(sentence_editor(txt))\n",
    "\n",
    "title_matrix = np.array([[0] * 1024], dtype=float)\n",
    "batch_size = 32\n",
    "for i in tqdm.notebook.tqdm(range(0, len(new_title), batch_size)):\n",
    "    title_matrix = np.append(title_matrix, \n",
    "                             elmo_model.get_elmo_vector_average([x.split() for x in new_title[i:i + batch_size]]), \n",
    "                             axis=0)\n",
    "\n",
    "title_matrix = np.delete(title_matrix, 0, axis=0)\n",
    "title_matrix.shape\n",
    "\n",
    "y_head = best_model(torch.Tensor(title_matrix))\n",
    "y_pred = torch.max(y_head, 1)[1]\n",
    "\n",
    "test_data.is_fake = y_pred\n",
    "test_data.to_csv(\"solution.csv\", index=False)"
   ]
  },
  {
   "cell_type": "code",
   "execution_count": null,
   "metadata": {},
   "outputs": [],
   "source": []
  }
 ],
 "metadata": {
  "kernelspec": {
   "display_name": "Python 3 (ipykernel)",
   "language": "python",
   "name": "python3"
  },
  "language_info": {
   "codemirror_mode": {
    "name": "ipython",
    "version": 3
   },
   "file_extension": ".py",
   "mimetype": "text/x-python",
   "name": "python",
   "nbconvert_exporter": "python",
   "pygments_lexer": "ipython3",
   "version": "3.10.4"
  },
  "papermill": {
   "duration": 655.199052,
   "end_time": "2020-10-22T13:29:42.538242",
   "environment_variables": {},
   "exception": null,
   "input_path": "__notebook__.ipynb",
   "output_path": "__notebook__.ipynb",
   "parameters": {},
   "start_time": "2020-10-22T13:18:47.339190",
   "version": "2.1.0"
  }
 },
 "nbformat": 4,
 "nbformat_minor": 4
}
